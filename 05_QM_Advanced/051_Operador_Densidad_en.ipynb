{
 "cells": [
  {
   "cell_type": "markdown",
   "id": "3710bfdb",
   "metadata": {
    "slideshow": {
     "slide_type": "slide"
    }
   },
   "source": [
    "<img src=\"../figuras/logos/logo_usc.jpg\" align=right width='80px'/>\n",
    "<br>\n",
    "\n",
    "<table width=\"100%\">\n",
    "<td style=\"font-size:40px;font-style:italic;text-align:right;background-color:rgba(0, 220, 170,0.7)\">\n",
    "Mixed Quantum State\n",
    "</td></table>\n",
    "\n",
    "\n",
    "\n",
    "$ \\newcommand{\\bra}[1]{\\langle #1|} $\n",
    "$ \\newcommand{\\ket}[1]{|#1\\rangle} $\n",
    "$ \\newcommand{\\braket}[2]{\\langle #1|#2\\rangle} $\n",
    "$ \\newcommand{\\ketbra}[2]{| #1\\rangle \\langle #2|} $\n",
    "$ \\newcommand{\\tr}{{\\rm Tr}\\,} $\n",
    "$ \\newcommand{\\Tr}{{\\rm Tr}\\,} $\n",
    "$ \\newcommand{\\i}{{\\color{blue} i}} $ \n",
    "$ \\newcommand{\\Hil}{{\\cal H}} $\n",
    "$ \\newcommand{\\V}{{\\cal V}} $\n",
    "$ \\newcommand{\\Lin}{\\hbox{Lin}}$\n",
    "$ \\newcommand{\\conc}{{\\cal C}} $\n",
    "$ \\newcommand{\\Ps}{{\\cal P}} $"
   ]
  },
  {
   "cell_type": "code",
   "execution_count": 11,
   "id": "2967dc9a",
   "metadata": {
    "slideshow": {
     "slide_type": "-"
    }
   },
   "outputs": [],
   "source": [
    "import sys\n",
    "sys.path.append('../')\n",
    "import macro_tQ as tQ\n",
    "\n",
    "import numpy as np\n",
    "import scipy.linalg as la\n",
    "from IPython.display import display,Markdown,Latex\n",
    "import matplotlib.pyplot as plt\n",
    "from qiskit.visualization import array_to_latex"
   ]
  },
  {
   "cell_type": "markdown",
   "id": "1e553d53",
   "metadata": {
    "slideshow": {
     "slide_type": "skip"
    }
   },
   "source": [
    "<a id='top'></a>\n",
    "\n",
    "- [Statistical mixture of quantum states](#stat_mixt) \n",
    "<br>\n",
    "\n",
    "- [Density operator](#densop)\n",
    "\n",
    "    - [Properties](#propdens)\n",
    "    \n",
    "    - [Particular cases](#casesdens)\n",
    "    \n",
    "    - [Mixed qubit state](#Blochball)\n",
    "<br>\n",
    "\n",
    "- [Measurementes in mixed states](#measure_mixed)\n",
    "<br>\n",
    "\n",
    "\n",
    "- [Population and coherences](#pop_coh)\n",
    "<br>\n",
    "\n",
    "- [Distance of Quantum States](#distance)\n",
    "   - [Classical distance](#class_dist)\n",
    "   - [Quantum distance](#quant_dist)\n",
    "<br>\n",
    "\n",
    "<br>\n",
    "\n",
    "- [Subsystems](#multimix)\n",
    "<br>\n",
    "\n",
    "\n",
    "\n",
    "- [Purification and impurification](#impurif)\n",
    "\n",
    "     - [Quantum circuit associated to a density matrix](#mixed_circ)\n",
    "\n",
    "\n",
    "<br>\n",
    "\n",
    "\n",
    "- [Non-correlated, separable and entangled mixed states](#corre_sep)\n"
   ]
  },
  {
   "cell_type": "markdown",
   "id": "dd75c76b",
   "metadata": {
    "slideshow": {
     "slide_type": "slide"
    }
   },
   "source": [
    "<a id='stat_mixt'></a>\n",
    "# Pure State and Statistical Mixture\n",
    "\n",
    "[<<<](#densop)"
   ]
  },
  {
   "cell_type": "markdown",
   "id": "4d2aea4f",
   "metadata": {
    "slideshow": {
     "slide_type": "slide"
    }
   },
   "source": [
    "The content of the *wave function* is **probabilistic**. It only serves to predict probabilities of measurement outcomes.\n",
    "\n",
    "The evolution of the *wave function* is **deterministic**, it is obtained by solving the Schrödinger equation.\n",
    "\n",
    "However, *our knowledge* of the wave function *may be subject to uncertainty*.\n",
    "<br>\n",
    "<br>\n"
   ]
  },
  {
   "cell_type": "markdown",
   "id": "07a021fc",
   "metadata": {
    "slideshow": {
     "slide_type": "fragment"
    }
   },
   "source": [
    "\n",
    "<div class=\"alert alert-block alert-info\", text-align:center>\n",
    "<p style=\"text-align: left ;color: navy;\">    \n",
    "<b>Definition</b> $~$ <i>Pure State</i>\n",
    "<br>    \n",
    "If we can say with <i>complete certainty</i> that the state of a system is described by a vector \n",
    "$\\ket{\\psi}\\in \\Hil$,  \n",
    "then we say the system is in a <i>pure state</i>.\n",
    "<br>\n",
    "</p>\n",
    "</div>\n"
   ]
  },
  {
   "cell_type": "markdown",
   "id": "ff57416e",
   "metadata": {
    "slideshow": {
     "slide_type": "slide"
    }
   },
   "source": [
    "What happens if we cannot be certain that the state describing the system is $\\ket{\\psi}$?\n",
    "\n",
    "For example: consider a Stern-Gerlach apparatus that prepares the state $\\ket{\\uparrow}$ and another one that prepares the state $\\ket{\\rightarrow}$.\n"
   ]
  },
  {
   "cell_type": "markdown",
   "id": "33ec9168",
   "metadata": {
    "slideshow": {
     "slide_type": "fragment"
    }
   },
   "source": [
    "Suppose that the *choice of polarizer* is random:\n",
    "- with probability $p$, the polarizer that prepares $\\ket{\\uparrow}$ is chosen\n",
    "\n",
    "- with probability $(1-p)$, the polarizer that prepares $\\ket{\\rightarrow}$ is chosen.\n",
    "\n"
   ]
  },
  {
   "cell_type": "markdown",
   "id": "cb65c04e",
   "metadata": {
    "slideshow": {
     "slide_type": "fragment"
    }
   },
   "source": [
    "The state generated by this procedure is a **statistical mixture** of pure states\n",
    "\n",
    "$$\n",
    "\\{ \\, \\ket{\\uparrow},p\\, ;\\, \\ket{\\rightarrow},(1-p)\\, \\}\n",
    "$$\n"
   ]
  },
  {
   "cell_type": "markdown",
   "id": "0410646f",
   "metadata": {
    "slideshow": {
     "slide_type": "slide"
    }
   },
   "source": [
    "<div class=\"alert alert-block alert-info\", text-align:center>\n",
    "<p style=\"text-align: left ;color: navy;\">  \n",
    "<b>Definition</b><i>$~$ Mixed State $~$</i>\n",
    "<br>    \n",
    "<br>In the most general situation, a system is in a <b>mixed state</b> associated with a random variable defined over the space $\\Hil$\n",
    "<br><br>\n",
    "$$\n",
    "X = \\{\\ket{\\psi_\\alpha},p_\\alpha\\}\n",
    "$$\n",
    "<br>\n",
    "which indicates that, with probability $p_\\alpha$, the system was prepared in the state $\\ket{\\psi_\\alpha}$\n",
    "</p>\n",
    "</div>\n"
   ]
  },
  {
   "cell_type": "markdown",
   "id": "050a3cf4",
   "metadata": {
    "slideshow": {
     "slide_type": "skip"
    }
   },
   "source": [
    "The situation in which we work with mixed states is **generic**.\n",
    "\n",
    "The description of a system using pure states is only valid:\n",
    "- immediately after a measurement.\n",
    "- afterward, in perfectly isolated systems.\n",
    "\n"
   ]
  },
  {
   "cell_type": "markdown",
   "id": "6509b881",
   "metadata": {
    "slideshow": {
     "slide_type": "skip"
    }
   },
   "source": [
    "We can describe other situations in which the state of the system <u>cannot be described by a pure state</u>:\n",
    "\n"
   ]
  },
  {
   "cell_type": "markdown",
   "id": "16c27778",
   "metadata": {
    "slideshow": {
     "slide_type": "skip"
    }
   },
   "source": [
    "- **Quantum Computing:** \n",
    "\n",
    "A quantum register in a quantum computer is initialized in the state $\\ket{0}$. \n",
    "\n",
    "After some time, interaction with the rest of the system may cause, with probability $p \\ll 1$, this register to undergo the action of an unwanted operator $X$. \n",
    "\n",
    "Then, the correct description is associated with the ensemble $\\{\\ket{0},(1-p)\\, ;\\, \\ket{1},p\\}$, that is,\n",
    "\n",
    "$$\\rho = p\\ketbra{1}{1} + (1-p)\\ketbra{0}{0}$$\n",
    "\n"
   ]
  },
  {
   "cell_type": "markdown",
   "id": "ba4e2a63",
   "metadata": {
    "slideshow": {
     "slide_type": "skip"
    }
   },
   "source": [
    "- **Quantum Communications:** \n",
    "\n",
    "A quantum-encoded message is a sequence of states (letters) $\\{\\ket{0},\\ket{1}\\}$ generated by a classical random generator with probabilities $p$ and $1-p$. \n",
    "\n",
    "Upon reception, these states will be detected by performing measurements on a state which, in the absence of noise, will also be\n",
    "\n",
    "$$\\rho = p\\ketbra{1}{1} + (1-p)\\ketbra{0}{0}$$\n"
   ]
  },
  {
   "cell_type": "markdown",
   "id": "b7895671",
   "metadata": {
    "slideshow": {
     "slide_type": "skip"
    }
   },
   "source": [
    "- **Partial Access to a System**\n",
    "\n",
    "Suppose a bipartite system $\\ket{\\psi} = \\sum_{ij} c_{ij}\\ket{i}\\ket{j} \\in \\Hil_A\\otimes \\Hil_B$. Suppose we only have an observable capable of *measuring* part of the system, $A = O\\otimes I$. \n",
    "\n",
    "<u>There does not exist</u> a pure state $\\ket{\\varphi} \\in \\Hil_A$ from which the expected value $\\langle O\\rangle = \\bra{\\varphi}O\\ket{\\varphi}$ can be obtained.\n"
   ]
  },
  {
   "cell_type": "markdown",
   "id": "b042eb95",
   "metadata": {
    "slideshow": {
     "slide_type": "skip"
    }
   },
   "source": [
    "In a way, all of them fall under the last type, since the first two examples deal with open systems that interact with an environment we neither measure nor control, but which induces changes or errors in our quantum channels.\n"
   ]
  },
  {
   "cell_type": "markdown",
   "id": "43718b8e",
   "metadata": {
    "slideshow": {
     "slide_type": "slide"
    }
   },
   "source": [
    "<a id='densop'></a>\n",
    "\n",
    "# Density Operator</b>\n",
    "</table>   \n",
    "\n",
    "[<<<](#top)"
   ]
  },
  {
   "cell_type": "markdown",
   "id": "420de3e0",
   "metadata": {
    "slideshow": {
     "slide_type": "skip"
    }
   },
   "source": [
    "The goal is always the same: to encapsulate in some mathematical object the maximum accessible information about a system. Until now, this mathematical object was a vector. Its components in a basis represent the probability amplitudes for obtaining the associated outcomes.\n"
   ]
  },
  {
   "cell_type": "markdown",
   "id": "e9291dad",
   "metadata": {
    "slideshow": {
     "slide_type": "-"
    }
   },
   "source": [
    "\n",
    "Suppose our system can be assigned a mixed state described by the random variable $X = \\{\\ket{\\psi_\\alpha},p_\\alpha\\}$:\n",
    "\n",
    "- What is the correct way to describe the accessible information?\n",
    "<br>\n",
    "\n",
    "- How can the axioms of Quantum Mechanics be generalized to this situation?\n",
    "\n"
   ]
  },
  {
   "cell_type": "markdown",
   "id": "f70bba61",
   "metadata": {
    "slideshow": {
     "slide_type": "fragment"
    }
   },
   "source": [
    "Let’s begin by calculating the probability $p(\\lambda_n)$ of obtaining an eigenvector $\\ket{\\lambda_n}$ as the result of measuring an observable $A$.\n"
   ]
  },
  {
   "cell_type": "markdown",
   "id": "0317f575",
   "metadata": {
    "slideshow": {
     "slide_type": "slide"
    }
   },
   "source": [
    "This probability must be the *weighted sum* of the probabilities *conditioned on the system being in each of the possible states* $\\ket{\\psi_\\alpha}$\n",
    "<br>\n",
    "<br>\n",
    "<br>\n",
    "\\begin{align}\n",
    "p(\\lambda_n) &=\n",
    "\\sum_\\alpha p(\\lambda_n | \\alpha) p_\\alpha \n",
    "\\nonumber \\\\ \\rule{0mm}{8mm}\n",
    "&= \\sum_\\alpha  |\\braket{\\lambda_n}{\\psi_\\alpha}|^2  p_\\alpha =  \\sum_\\alpha p_\\alpha \\braket{\\lambda_n}{\\psi_\\alpha}\\braket{\\psi_\\alpha}{\\lambda_n} \\nonumber \\\\ \\rule{0mm}{6mm}\n",
    "&= \\bra{\\lambda_n}\\left(\\rule{0mm}{8mm}\\sum_\\alpha p_\\alpha \\ket{\\psi_\\alpha}\\bra{\\psi_\\alpha}\\right)\\ket{\\lambda_n}\\nonumber \\\\ \\rule{0mm}{6mm}\n",
    "&\\equiv \\bra{\\lambda_n}\\rho\\ket{\\lambda_n}\\nonumber\n",
    "\\end{align}\n"
   ]
  },
  {
   "cell_type": "markdown",
   "id": "97da411a",
   "metadata": {
    "slideshow": {
     "slide_type": "slide"
    }
   },
   "source": [
    "The previous result shows the appearance of a *new operator* constructed from <u>the data of the *random ensemble*</u> $\\{\\ket{\\psi_\\alpha},p_\\alpha\\}$\n",
    "<br>\n",
    "\n",
    "$$\n",
    "\\rho = \\sum_\\alpha p_\\alpha \\ket{\\psi_\\alpha}\\bra{\\psi_\\alpha} = \\sum_\\alpha p_\\alpha P_\\alpha\n",
    "$$"
   ]
  },
  {
   "cell_type": "markdown",
   "id": "6dd12c33",
   "metadata": {
    "slideshow": {
     "slide_type": "fragment"
    }
   },
   "source": [
    "$\\rho ~$ is called the *density operator* and consists of a *weighted sum* of *projectors* $P_\\alpha$, onto each of the subspaces generated by the *possible states* $\\ket{\\psi_\\alpha}$.\n",
    "\n",
    "This is the mathematical object that characterizes a mixed state.  \n",
    "<br>\n",
    "<br>\n"
   ]
  },
  {
   "cell_type": "markdown",
   "id": "9fdff0a0",
   "metadata": {
    "slideshow": {
     "slide_type": "slide"
    }
   },
   "source": [
    "In particular:\n",
    "\n",
    "\n",
    "\n",
    "<div class=\"alert alert-block alert-info\", text-align:center>\n",
    "<p style=\"text-align: left ;color: navy;\">  \n",
    "The probability of measuring the eigenvalue $\\lambda_n$ is the <b>expected value of the density operator</b> in the corresponding pure state $\\ket{\\lambda_n}$\n",
    "<br>\n",
    "<br>\n",
    "$$\n",
    "p(\\lambda_n) =\\bra{\\lambda_n }\\rho\\ket{\\lambda_n} \n",
    "$$\n",
    "<br>\n",
    "</div>    \n"
   ]
  },
  {
   "cell_type": "markdown",
   "id": "37a01864",
   "metadata": {
    "slideshow": {
     "slide_type": "slide"
    }
   },
   "source": [
    "<a id='propdens'></a>\n",
    "## Properties of the Density Operator\n",
    "\n"
   ]
  },
  {
   "cell_type": "markdown",
   "id": "dc4ac180",
   "metadata": {
    "slideshow": {
     "slide_type": "-"
    }
   },
   "source": [
    "We can now invert the question: what conditions must it satisfy an operator $\\rho$ in order to represent a possible mixed state of a system?\n"
   ]
  },
  {
   "cell_type": "markdown",
   "id": "77e2d649",
   "metadata": {
    "slideshow": {
     "slide_type": "fragment"
    }
   },
   "source": [
    "<div class=\"alert alert-block alert-info\", text-align:center>\n",
    "<p style=\"text-align: left ;color: navy;\">  \n",
    "<b>Theorem</b>:\n",
    "<br> An operator, $\\rho$, can represent the <i>density operator</i> of a quantum system if it satisfies the following conditions:    \n",
    "<br>\n",
    "<br>    \n",
    "-    It is Hermitian: $\\rho = \\rho^\\dagger$\n",
    "<br>\n",
    "<br>\n",
    "-    It is positive semi-definite\n",
    "<br>\n",
    "<br>    \n",
    "-    It has unit trace: $~\\tr \\rho = 1$ \n",
    "</p>\n",
    "</div>\n"
   ]
  },
  {
   "cell_type": "markdown",
   "id": "de7d3758",
   "metadata": {
    "slideshow": {
     "slide_type": "slide"
    }
   },
   "source": [
    "*Proof*\n",
    "\n",
    "- Hermiticity ensures that $\\rho$ admits a spectral decomposition\n",
    "<br>\n",
    "<br>\n",
    "$$\n",
    "\\rho =  \\sum_\\alpha p_\\alpha \\ket{\\psi_\\alpha}\\bra{\\psi_\\alpha} = \\rho^\\dagger\n",
    "$$\n",
    "<br>\n",
    "since $p_\\alpha$ are real eigenvalues.\n"
   ]
  },
  {
   "cell_type": "markdown",
   "id": "cffb5842",
   "metadata": {
    "slideshow": {
     "slide_type": "fragment"
    }
   },
   "source": [
    "- The condition of being *positive semi-definite* ensures that these eigenvalues are non-negative\n",
    "\n",
    "$$p_\\alpha \\geq 0$$\n"
   ]
  },
  {
   "cell_type": "markdown",
   "id": "3dcefc31",
   "metadata": {
    "slideshow": {
     "slide_type": "slide"
    }
   },
   "source": [
    "- Finally, the unit trace allows the $p_\\alpha$ to be interpreted as probabilities\n",
    "\n",
    "<br>\n",
    "<br>\n",
    "\\begin{align}\n",
    "{\\rm Tr}\\, \\rho & = {\\rm \\Tr} \\sum_\\alpha p_\\alpha \\ket{\\psi_\\alpha}\\bra{\\psi_\\alpha}\n",
    "\\\\\n",
    "& = \\sum_\\alpha   \\bra{\\psi_\\alpha}p_\\alpha\\ket{\\psi_\\alpha}\n",
    "= \\sum_\\alpha   p_\\alpha\\braket{\\psi_\\alpha}{\\psi_\\alpha} \n",
    "= \\sum_\\alpha p_\\alpha \\nonumber \\\\\n",
    "& = 1 \\nonumber\n",
    "\\end{align}\n"
   ]
  },
  {
   "cell_type": "markdown",
   "id": "7cc58a49",
   "metadata": {
    "slideshow": {
     "slide_type": "fragment"
    }
   },
   "source": [
    "In summary, for every operator $\\rho$ that satisfies the requirements, there exists an ensemble  \n",
    "$\\{\\ket{\\psi_\\alpha},p_\\alpha\\}$ for which $\\rho$ is the associated density operator.\n"
   ]
  },
  {
   "cell_type": "markdown",
   "id": "88bc7c70",
   "metadata": {
    "slideshow": {
     "slide_type": "skip"
    }
   },
   "source": [
    "<div class=\"alert alert-block alert-danger\">\n",
    "<b>Note</b>:\n",
    "\n",
    "The Hilbert space $\\Hil$ is a space of arbitrary dimension $N$. However, in the context of this course, it is natural to think of $\\Hil$ as the <i>multi-qubit space</i> formed by the tensor product of $n$ qubits, $\\Hil_2^{\\otimes n}$, whose dimension is $N = 2^n$. \n",
    "\n",
    "Thus, for an ensemble $\\{\\ket{\\psi_a},p_a\\}$ of states of the multi-qubit system:\n",
    "\n",
    "<br>   \n",
    "\n",
    "$$\n",
    "\\ket{\\psi_a} = \\sum_{i_1,...,i_n=0,1} c^{(\\alpha)}_{i_1...i_n} \\ket{i_1... i_n}\n",
    "$$\n",
    "    \n",
    "    \n",
    "we can associate a density matrix \n",
    "    \n",
    "$$\\rho = \\sum_a p_a \\ket{\\psi_a}\\bra{\\psi_a}$$\n",
    "    \n",
    "\n",
    "\n",
    "</div>\n"
   ]
  },
  {
   "cell_type": "markdown",
   "id": "f8f70862",
   "metadata": {
    "slideshow": {
     "slide_type": "skip"
    }
   },
   "source": [
    "<div class=\"alert alert-block alert-success\">\n",
    "    <b>Exercise</b>: <i>(explain it to your computer)</i>    \n",
    "<br> \n",
    "    \n",
    "Write a function `density_operator` in Python that takes as arguments a list $\\{p_a\\}, \\, a=1,..,r$ of probabilities, and another list $\\{\\ket{\\psi_a}\\}$ of normalized vectors in a Hilbert space $\\Hil$ of dimension $d$, and returns the density operator $\\rho$.\n",
    "\n",
    "<br>\n",
    "    \n",
    "Run it with randomly generated arguments and verify that the properties defining a density matrix are satisfied. \n",
    "</div>\n"
   ]
  },
  {
   "cell_type": "markdown",
   "id": "60db91dd",
   "metadata": {
    "slideshow": {
     "slide_type": "slide"
    }
   },
   "source": [
    "### Density operators form a convex set\n"
   ]
  },
  {
   "cell_type": "markdown",
   "id": "f293515a",
   "metadata": {
    "slideshow": {
     "slide_type": "-"
    }
   },
   "source": [
    "The properties that define a density operator restrict the space $\\Lin(\\Hil)$ to a subset more constrained than a vector subspace.\n",
    "\n",
    "It is straightforward to prove the following theorem, which states that the set of density operators is a **convex set**.\n"
   ]
  },
  {
   "cell_type": "markdown",
   "id": "357e3513",
   "metadata": {
    "slideshow": {
     "slide_type": "fragment"
    }
   },
   "source": [
    "<div class=\"alert alert-block alert-info\", text-align:center>\n",
    "<p style=\"text-align: left ;color: navy;\">  \n",
    "<b>Theorem</b>: <i>(convexity)</i>:  \n",
    "<br>\n",
    "<br>\n",
    "The set of density operators is a <i>convex set</i>.\n",
    "<br>\n",
    "That is, given $r$ density operators $\\rho_a$, $a = 1,...,r$, the combination\n",
    "<br>\n",
    "$$\n",
    "\\rho = \\sum_{a=1}^r p_a \\rho_a\n",
    "$$\n",
    "<br>\n",
    "where $p_a \\geq 0$ with $\\sum_a p_a = 1$, <i>is a density operator</i>.\n",
    "</p>\n",
    "</div>\n"
   ]
  },
  {
   "cell_type": "markdown",
   "id": "e049da35",
   "metadata": {
    "slideshow": {
     "slide_type": "slide"
    }
   },
   "source": [
    "- The linear combination in the theorem includes the density matrices $\\rho_a$ as special cases.\n",
    "<br>\n",
    "<br>\n",
    "- The case $r=2$ is a *segment* $\\rho = p \\rho_1 + (1-p) \\rho_2$ of density matrices that interpolates between $\\rho_1$ and $\\rho_2$.\n"
   ]
  },
  {
   "cell_type": "markdown",
   "id": "1b42d6d5",
   "metadata": {
    "slideshow": {
     "slide_type": "fragment"
    }
   },
   "source": [
    "<div class=\"alert alert-block alert-success\">\n",
    "    <b>Exercise</b>:  \n",
    "    Prove the convexity property.\n",
    "</div>\n"
   ]
  },
  {
   "cell_type": "markdown",
   "id": "70808882",
   "metadata": {
    "slideshow": {
     "slide_type": "slide"
    }
   },
   "source": [
    "## Non-uniqueness of the Density Operator\n",
    "\n"
   ]
  },
  {
   "cell_type": "markdown",
   "id": "46940606",
   "metadata": {
    "slideshow": {
     "slide_type": "fragment"
    }
   },
   "source": [
    "To every ensemble $\\{\\ket{\\psi_\\alpha},p_\\alpha\\}$ we can associate a **unique** density operator.\n",
    "\n",
    "However, this relationship is not injective $~\\Rightarrow ~$ there are many (in fact, infinitely many) ensembles that are described by *the same density operator*\n",
    "<br>\n",
    "<br>\n",
    "$$\n",
    "\\rho ~=~ \\sum_\\alpha p_\\alpha \\ket{\\psi_\\alpha}\\bra{\\psi_\\alpha} ~=~ \\sum_\\beta \\tilde p_\\beta \\ket{\\tilde \\psi_\\beta}\\bra{\\tilde \\psi_\\beta} = ...\n",
    "$$\n"
   ]
  },
  {
   "cell_type": "markdown",
   "id": "842f97a2",
   "metadata": {
    "slideshow": {
     "slide_type": "slide"
    }
   },
   "source": [
    "As a consequence: the probabilities $p(\\lambda_n) = \\Tr (P_n\\rho)$ will be identical for all ensembles.  \n",
    "<br>\n",
    "<br>\n",
    "This means that, in a mixed state: *it is impossible to determine how the state was prepared based on measurements from quantum experiments*.\n"
   ]
  },
  {
   "cell_type": "markdown",
   "id": "d0be4f1c",
   "metadata": {
    "slideshow": {
     "slide_type": "fragment"
    }
   },
   "source": [
    "<div class=\"alert alert-block alert-success\">\n",
    "    <b>Exercise</b>:  \n",
    "<br>\n",
    "\n",
    "Verify that \n",
    "$$\n",
    "\\rho = \\frac{1}{2}\\ketbra{\\tilde 0}{\\tilde 0} + \\frac{1}{2}\\ketbra{\\tilde 1}{\\tilde 1} = \n",
    "\\frac{2}{3}\\ketbra{0}{0} + \\frac{1}{3}\\ketbra{1}{1}  \n",
    "$$\n",
    "    \n",
    "if both ensembles are related as follows:    \n",
    "<br>   \n",
    "$$\n",
    "\\ket{\\tilde 0} = \\sqrt{\\frac{2}{3}}\\ket{0} + \\sqrt{\\frac{1}{3}} \\ket{1} ~~~;~~~~\n",
    "\\ket{\\tilde 1} = \\sqrt{\\frac{2}{3}}\\ket{0} - \\sqrt{\\frac{1}{3}} \\ket{1} \n",
    "$$\n",
    "</div>\n"
   ]
  },
  {
   "cell_type": "markdown",
   "id": "9095f801",
   "metadata": {
    "slideshow": {
     "slide_type": "slide"
    }
   },
   "source": [
    "<a id='timerho'></a>\n",
    "## Time Evolution\n",
    "\n",
    "The Hamiltonian evolution of a system $\\ket{\\psi(t)} = U(t,t_0)\\ket{\\psi(t_0)}$ translates into the unitary evolution of the density matrix  \n",
    "<br>\n",
    "\n",
    "\\begin{eqnarray}\n",
    "\\rho(t)        &=&  U(t,t_0) \\rho(t_0) U^{\\dagger}(t,t_0)\n",
    "\\end{eqnarray}\n",
    "\n",
    "<br>\n"
   ]
  },
  {
   "cell_type": "markdown",
   "id": "2621ffda",
   "metadata": {
    "slideshow": {
     "slide_type": "slide"
    }
   },
   "source": [
    "From here, it is easy to obtain the von Neumann differential equation:\n",
    "\n",
    "\\begin{eqnarray}\n",
    "i \\hbar \\dot \\rho(t) &=& i\\hbar (\\dot U \\rho(t_0)U^{-1} + U \\rho(t_0)\\dot U^{-1})  \\\\ \\rule{0mm}{10mm}\n",
    "&=& H U \\rho(t_0)U^{-1} - U \\rho(t_0) U^{-1} H \\\\  \\rule{0mm}{10mm}\n",
    "&=& [H,\\rho(t)]\n",
    "\\end{eqnarray}\n",
    "\n",
    "<br>\n"
   ]
  },
  {
   "cell_type": "markdown",
   "id": "dc03aed3",
   "metadata": {
    "slideshow": {
     "slide_type": "slide"
    }
   },
   "source": [
    "\n",
    "<div class=\"alert alert-block alert-info\",text-align:center>\n",
    "<p style=\"text-align: left ;color: navy;\">  \n",
    "<b>Axiom II</b>: <i>(time evolution).</i>\n",
    "<br>\n",
    "<br>    \n",
    "The state $\\rho$ of a general quantum system evolves in time according to the <i>von Neuman equation</i>\n",
    "<br>\n",
    "<br>    \n",
    "$$\n",
    "i\\hbar \\dot \\rho(t) = [H, \\rho(t)]\n",
    "$$\n",
    "<br>\n",
    "</div>    \n"
   ]
  },
  {
   "cell_type": "markdown",
   "id": "d41a01df",
   "metadata": {
    "slideshow": {
     "slide_type": "slide"
    }
   },
   "source": [
    "<a id='casesdens'></a>\n",
    "\n",
    "#  Particular cases of the density operator\n"
   ]
  },
  {
   "cell_type": "markdown",
   "id": "91487b9d",
   "metadata": {
    "slideshow": {
     "slide_type": "slide"
    }
   },
   "source": [
    "## Density Operator of a Pure State\n",
    "\n"
   ]
  },
  {
   "cell_type": "markdown",
   "id": "4704dbdd",
   "metadata": {
    "slideshow": {
     "slide_type": "fragment"
    }
   },
   "source": [
    "<br>\n",
    "\n",
    "The density operator associated with a *pure* or *polarized* state $\\ket{\\psi_0}$ is obtained by setting all probabilities $p_{\\alpha\\neq 0}=0$ and $p_{0}=1$. Then the ensemble $\\{\\ket{\\psi_0},p_0=1\\}$ corresponds to the operator\n",
    "\n",
    "$$\n",
    "\\rho = \\ket{\\psi_0}\\bra{\\psi_0} \n",
    "$$\n",
    "\n",
    "\n"
   ]
  },
  {
   "cell_type": "markdown",
   "id": "13d209a1",
   "metadata": {
    "slideshow": {
     "slide_type": "slide"
    }
   },
   "source": [
    "It is clear that this expression satisfies the property that characterizes a *projector*\n",
    "\n",
    "$$\n",
    "\\rho^2 = \\rho\n",
    "$$\n",
    "\n",
    "and this is an equation that <u>*characterizes* density operators associated with pure states</u>\n"
   ]
  },
  {
   "cell_type": "markdown",
   "id": "6c1f59f7",
   "metadata": {
    "slideshow": {
     "slide_type": "fragment"
    }
   },
   "source": [
    "**By contrast**, for a mixed state we can see that $\\rho^2 \\neq \\rho$\n",
    "<br>\n",
    "<br>\n",
    "<br>\n",
    "\\begin{eqnarray}\n",
    "\\rho^2  &=&\\left(\n",
    "\\sum_{\\alpha} p_\\alpha \\ketbra{\\psi_\\alpha}{\\psi_\\alpha}\\right)\n",
    "\\left(\\sum_{\\beta}p_\\beta \\ketbra{\\psi_\\beta}{\\psi_\\beta}\\right) \\\\\n",
    "&=& \\sum_\\alpha p_\\alpha^2 \\ketbra{\\psi_\\alpha}{\\psi_\\alpha} \\\\\n",
    "&\\neq &  \\sum_\\alpha p_\\alpha \\ketbra{\\psi_\\alpha}{\\psi_\\alpha} = \\rho\n",
    "\\end{eqnarray}\n"
   ]
  },
  {
   "cell_type": "code",
   "execution_count": 7,
   "id": "be159552",
   "metadata": {
    "slideshow": {
     "slide_type": "slide"
    }
   },
   "outputs": [
    {
     "data": {
      "text/latex": [
       "$$\n",
       "\n",
       "\\begin{bmatrix}\n",
       "0.6512884747 - 0.2753603506 i & 0 & 0 & 0.6512884747 + 0.2753603506 i  \\\\\n",
       " \\end{bmatrix}\n",
       "$$"
      ],
      "text/plain": [
       "<IPython.core.display.Latex object>"
      ]
     },
     "metadata": {},
     "output_type": "display_data"
    },
    {
     "data": {
      "text/latex": [
       "$$\n",
       "\n",
       "\\begin{bmatrix}\n",
       "\\frac{1}{2} & 0 & 0 & 0.3483533547 - 0.3586780454 i  \\\\\n",
       " 0 & 0 & 0 & 0  \\\\\n",
       " 0 & 0 & 0 & 0  \\\\\n",
       " 0.3483533547 + 0.3586780454 i & 0 & 0 & \\frac{1}{2}  \\\\\n",
       " \\end{bmatrix}\n",
       "$$"
      ],
      "text/plain": [
       "<IPython.core.display.Latex object>"
      ]
     },
     "metadata": {},
     "output_type": "display_data"
    },
    {
     "data": {
      "image/png": "[encoded data removed]",
      "text/plain": [
       "<Figure size 1600x800 with 2 Axes>"
      ]
     },
     "execution_count": 7,
     "metadata": {},
     "output_type": "execute_result"
    }
   ],
   "source": [
    "from qiskit import QuantumCircuit\n",
    "from qiskit.quantum_info import  DensityMatrix, Statevector\n",
    "from qiskit.visualization import plot_state_city, array_to_latex, plot_state_hinton\n",
    "\n",
    "qc = QuantumCircuit(2)\n",
    "qc.rx(0.8,0)\n",
    "qc.h(0)\n",
    "qc.cx(0,1)\n",
    "\n",
    "statevector = Statevector(qc)\n",
    "display(array_to_latex(statevector))\n",
    "# plot state using a DensityMatrix\n",
    "rho_state = DensityMatrix(qc)\n",
    "display(array_to_latex(rho_state.data))\n",
    "plot_state_city(rho_state)"
   ]
  },
  {
   "cell_type": "markdown",
   "id": "852f0692",
   "metadata": {
    "slideshow": {
     "slide_type": "slide"
    }
   },
   "source": [
    "<div class=\"alert alert-block alert-info\",text-align:center>\n",
    "<p style=\"text-align: left ;color: navy;\">  \n",
    "    <b>Definition</b>: <i>(purity).</i>\n",
    "We define the <i>purity</i> ${\\cal P}$ of a state $\\rho$ as the quantity \n",
    "<br>\n",
    "<br>    \n",
    "$${\\cal P}(\\rho) = \\Tr \\rho^2 $$\n",
    "</div>    "
   ]
  },
  {
   "cell_type": "markdown",
   "id": "03989a51",
   "metadata": {
    "slideshow": {
     "slide_type": "fragment"
    }
   },
   "source": [
    "<div class=\"alert alert-block alert-info\",text-align:center>\n",
    "<p style=\"text-align: left ;color: navy;\">  \n",
    "<b>Lemma</b>:  ${\\cal P}(\\rho) \\in [1/d,1]$, where  $d = \\dim\\Hil$. \n",
    " ${\\cal P}(\\rho) = 1$ for $\\rho$ a pure state, and  ${\\cal P}(\\rho) < 1$ for $\\rho$ a mixed state.  \n",
    "</div>\n",
    "\n",
    "<details>\n",
    "    <summary><p style=\"text-align: right ;color: navy\"> >> <i>Proof</i> </p></summary>\n",
    "On one hand, the value of $\\Tr \\rho^2$ is independent of the basis. Therefore we can compute it in the eigenbasis $\\ket{\\psi_a}$:\n",
    "$$\n",
    "\\Tr \\rho^2 = \\Tr \\left(\\sum_a \\lambda_a\\ketbra{\\psi_a}{\\psi_a}\\right)^2 = \\sum_a \\lambda_a^2\n",
    "$$\n",
    "But since each $\\lambda_a \\leq 1$, there are two possibilities:\n",
    "\n",
    "- If there is only one nonzero eigenvalue, $\\lambda_1 = 1$, the state is pure, and $\\Tr \\rho^2 = 1$.\n",
    "\n",
    "- If there is more than one nonzero eigenvalue, the state is mixed and $\\Tr\\rho^2 < 1$.\n",
    "\n",
    "</details>\n",
    "\n"
   ]
  },
  {
   "cell_type": "code",
   "execution_count": 6,
   "id": "3cbaeb25",
   "metadata": {
    "slideshow": {
     "slide_type": "skip"
    }
   },
   "outputs": [
    {
     "name": "stdout",
     "output_type": "stream",
     "text": [
      "(0.9999999999999998+0j)\n",
      "(0.9999999999999996+0j)\n"
     ]
    }
   ],
   "source": [
    "# tr(\\rho)\n",
    "print(rho_state.trace())\n",
    "\n",
    "# pureza = tr(\\rho**2)\n",
    "print(rho_state.purity())"
   ]
  },
  {
   "cell_type": "markdown",
   "id": "8bfc4936",
   "metadata": {
    "slideshow": {
     "slide_type": "slide"
    }
   },
   "source": [
    "## Maximally mixed state\n",
    "<br>\n",
    "\n",
    "At the opposite extreme of a pure state, we find a *maximally mixed*, or *depolarized* state,\n",
    "in which  *all* the states in the mixture appear *with equal probability* $\\{\\ket{\\psi_\\alpha},p_\\alpha = {1}/{d}\\}, \\alpha = 1,\\dots,d$\n"
   ]
  },
  {
   "cell_type": "markdown",
   "id": "f4f1eecd",
   "metadata": {
    "slideshow": {
     "slide_type": "fragment"
    }
   },
   "source": [
    "$$\n",
    "\\rho = \\sum_{\\alpha=1}^d \\tfrac{1}{d}\\,\\ket{\\psi_\\alpha}\\bra{\\psi_\\alpha} = \\tfrac{1}{d} I = \\begin{bmatrix}1/d &  & \\\\  & \\ddots & \\\\ & & 1/d \\end{bmatrix}\n",
    "$$"
   ]
  },
  {
   "cell_type": "markdown",
   "id": "69588dea",
   "metadata": {
    "slideshow": {
     "slide_type": "slide"
    }
   },
   "source": [
    "The purity of a maximally mixed state is  \n",
    "$$\n",
    "1 \\geq \\tr \\rho^2 \\geq  \\sum_{i=1}^d \\frac{1}{d^2} = \\frac{1}{d}\n",
    "$$"
   ]
  },
  {
   "cell_type": "markdown",
   "id": "32cf1005",
   "metadata": {
    "slideshow": {
     "slide_type": "slide"
    }
   },
   "source": [
    "### Partially mixed state\n",
    "\n",
    "Between the two extremes mentioned above—pure state and maximally mixed state—lies any generic state $\\rho$. If we write\n",
    "\n",
    "$$\n",
    "\\rho = \\sum_{\\alpha=0}^{r-1} p_\\alpha \\ket{\\psi_\\alpha}\\bra{\\psi_\\alpha}\n",
    "$$\n",
    "\n",
    "even if $p_\\alpha = 1/d$ when $r\\neq d$, or if the states are not orthonormal $\\braket{\\psi_\\alpha}{\\psi_\\beta}\\neq \\delta_{\\alpha\\beta}$, then the state is *partially mixed*.\n"
   ]
  },
  {
   "cell_type": "markdown",
   "id": "77c0c142",
   "metadata": {
    "slideshow": {
     "slide_type": "skip"
    }
   },
   "source": [
    "<div class=\"alert alert-block alert-success\">\n",
    "<b>Exercise</b>:  \n",
    "<br>\n",
    "Using the function `get_density_operator`, randomly generate density operators for different values of \\(r\\) and \\(d\\).  \n",
    "<br>\n",
    "Verify that  $\\mathrm{tr}\\,\\rho = 1$ and $ {\\cal P}(\\rho) = \\mathrm{tr}(\\rho^2)  \\in [1/d, 1]$.\n",
    "</div>\n"
   ]
  },
  {
   "cell_type": "markdown",
   "id": "be0f40e2",
   "metadata": {
    "slideshow": {
     "slide_type": "skip"
    }
   },
   "source": [
    "<div class=\"alert alert-block alert-success\">\n",
    "<b> Exercise </b>:     \n",
    "<br> \n",
    "Given an operator $A\\in \\Lin(\\Hil)$ verify that $\\rho = A^\\dagger A/\\hbox{tr}( A^\\dagger A)$ is a density operator \n",
    "</div>"
   ]
  },
  {
   "cell_type": "markdown",
   "id": "d7a35c95",
   "metadata": {
    "slideshow": {
     "slide_type": "skip"
    }
   },
   "source": [
    "## Thermal (Gibbs) State\n",
    "\n",
    "A very important case of partial mixing is the *Gibbs state*, which describes a system when it reaches *thermal equilibrium at a temperature* $T$. In this case, the states $\\{\\ket{\\psi_\\alpha} = \\ket{E_\\alpha}\\}$ form the *eigenbasis of the Hamiltonian operator*,\n",
    "\n",
    "$$\n",
    "H\\ket{E_\\alpha} = E_\\alpha \\ket{E_\\alpha}\n",
    "$$\n",
    "\n",
    "and the eigenvalues $E_\\alpha,\\ \\alpha = 1,2,\\dots,d$ are the *energy levels* of the system.\n"
   ]
  },
  {
   "cell_type": "markdown",
   "id": "2b34e7f4",
   "metadata": {
    "slideshow": {
     "slide_type": "skip"
    }
   },
   "source": [
    "When a system is in contact with a thermal bath at temperature $T$, the energy state is not well-defined, but rather a *statistical mixture* called the **canonical ensemble**\n",
    "\n",
    "$$\n",
    "\\left\\{\\;\\ket{E_\\alpha},\\; p_\\alpha = e^{-E_\\alpha/(k_B T)}\\right\\}\n",
    "$$\n",
    "\n",
    "- The coefficients $p_\\alpha = e^{-E_\\alpha/(k_B T)}$ are called *Boltzmann factors* and encode the probability of being found in the state (energy level) $\\ket{E_\\alpha}$.  \n",
    "- The common denominator $k_B T$ is a characteristic energy for the temperature $T$, and $k_B$ is a universal constant called the *Boltzmann constant*.\n"
   ]
  },
  {
   "cell_type": "markdown",
   "id": "e479b4e4",
   "metadata": {
    "slideshow": {
     "slide_type": "skip"
    }
   },
   "source": [
    "The density matrix describing the state of this system is the so-called *Gibbs state*\n",
    "\n",
    "$$\n",
    "\\rho(T) = \\frac{1}{Z}\\sum_{\\alpha=1}^d e^{-E_\\alpha/k_BT} \\ket{E_\\alpha}\\bra{E_\\alpha} \\;=\\; \\frac{1}{Z} \n",
    "\\begin{bmatrix}\n",
    "e^{-E_0/k_BT} &  & \\\\ \n",
    "& e^{-E_1/k_BT} & \\\\ \n",
    "&  & \\ddots  \n",
    "\\end{bmatrix} \\,,\n",
    "$$\n",
    "\n",
    "where \\(Z = \\sum_{\\alpha=1}^d e^{-E_\\alpha/k_BT}\\) is called the *partition function* and provides the *necessary normalization* so that \\(\\Tr\\rho(T) = 1\\).\n"
   ]
  },
  {
   "cell_type": "markdown",
   "id": "1e6e30a1",
   "metadata": {
    "slideshow": {
     "slide_type": "skip"
    }
   },
   "source": [
    "The energy of the system at each temperature is given by an average over all eigenstates weighted by the density matrix at that temperature\n",
    "\n",
    "$$\n",
    "\\langle E \\rangle_T = \\tr \\bigl(\\rho(T)\\, H\\bigr)\n",
    "$$\n"
   ]
  },
  {
   "cell_type": "markdown",
   "id": "30d4ef21",
   "metadata": {
    "slideshow": {
     "slide_type": "skip"
    }
   },
   "source": [
    "<div class=\"alert alert-block alert-success\">\n",
    "<b>Exercise:</b> prove that we recover the pure and maximally mixed cases in the following limits\n",
    "\n",
    "-   $\\rho(T=0) = \\ketbra{E_0}{E_0}$\n",
    "<br>\n",
    "\n",
    "\n",
    "-   $\\rho(T=\\infty) = \\frac{1}{d} I$\n",
    "</div>   "
   ]
  },
  {
   "cell_type": "markdown",
   "id": "83c2982b",
   "metadata": {
    "slideshow": {
     "slide_type": "skip"
    }
   },
   "source": [
    "<div class=\"alert alert-block alert-success\">\n",
    "<b>Exercise:</b> Randomly generate a Gibbs state at temperature $T$ and plot the values of $p_\\alpha(T)$ for different values of $T$ (take $k_B=1$).\n",
    "<br>\n",
    "</div>\n"
   ]
  },
  {
   "cell_type": "markdown",
   "id": "5455e038",
   "metadata": {
    "slideshow": {
     "slide_type": "slide"
    }
   },
   "source": [
    "<a id='Blochball'></a>\n",
    "\n",
    "## Mixed state of a qubit\n"
   ]
  },
  {
   "cell_type": "markdown",
   "id": "566a64d2",
   "metadata": {
    "slideshow": {
     "slide_type": "-"
    }
   },
   "source": [
    "Over $\\Hil = {\\mathbb C}^2$, the most general density matrix can be expanded in the basis $\\{ I, \\sigma_x, \\sigma_y, \\sigma_z \\}$\n",
    "\n",
    "$$\n",
    "\\rho = \\frac{1}{2} \\bigl( I + {\\bf u}\\cdot \\boldsymbol\\sigma \\bigr)  = \\frac{1}{2}\n",
    "\\begin{pmatrix} \n",
    "1+u_z & u_x - i u_y \\\\ u_x + i u_y & 1 - u_z\n",
    "\\end{pmatrix}\n",
    "$$\n",
    "\n",
    "where ${\\bf u} = (u_x, u_y, u_z)$ is a three-dimensional real vector.\n"
   ]
  },
  {
   "cell_type": "markdown",
   "id": "14a191f4",
   "metadata": {
    "slideshow": {
     "slide_type": "slide"
    }
   },
   "source": [
    "Writing $\\rho$ explicitly, with $|\\mathbf{u}|^2 = u^2 = u_x^2 + u_y^2 + u_z^2$, one finds that\n",
    "\n",
    "$$\n",
    "\\det \\rho = \\frac{1}{4}(1 - u^2) = \\frac{1}{2}(1+u)\\, \\frac{1}{2}(1-u) = \\lambda_+\\lambda_-\n",
    "$$\n",
    "\n",
    "which implies that the *eigenvalues* of $\\rho$ are \n",
    "\n",
    "$$\\lambda_\\pm = \\frac{1}{2}(1\\pm u)$$\n",
    "\n",
    "For $\\rho$ to be positive semidefinite, it must hold that\n",
    "\n",
    "\n",
    "$$\n",
    "0\\leq u\\leq 1\n",
    "$$\n",
    "\n"
   ]
  },
  {
   "cell_type": "markdown",
   "id": "b4c79254",
   "metadata": {
    "slideshow": {
     "slide_type": "slide"
    }
   },
   "source": [
    "Writing ${\\bf u} = u (\\sin\\theta \\cos\\phi, \\sin\\theta\\sin\\phi, \\cos\\theta)$ in polar coordinates, we can parametrize a mixed qubit as a point in the <i>Bloch ball</i> $|{\\bf u}|\\leq 1$ in the form\n",
    "    \n",
    "$$\n",
    "\\ket{\\psi} = u\\left(\\cos\\theta\\ket{0} + e^{i\\phi}\\sin\\theta \\ket{1} \\right) \n",
    "$$    \n",
    "where $u\\in [0,1]$. This is only symbolic notation, since $\\ket{\\psi}$ is NOT a state vector, since $\\braket{\\psi}{\\psi} = u^2 < 1$\n",
    "\n",
    "<div>\n",
    "<img src=\"figures/BlochBall.png\" width=\"30*\" style=\"margin:auto\"/>\n",
    "</div>\n",
    "\n"
   ]
  },
  {
   "cell_type": "markdown",
   "id": "bf59d663",
   "metadata": {
    "slideshow": {
     "slide_type": "slide"
    }
   },
   "source": [
    "We encounter the two limiting cases"
   ]
  },
  {
   "cell_type": "markdown",
   "id": "1a6107cb",
   "metadata": {
    "slideshow": {
     "slide_type": "fragment"
    }
   },
   "source": [
    "-  $|{\\bf u}| = 0 \\to \\lambda_+ = \\lambda_- = 1/2$, at the *center of the Bloch ball*  \n",
    "In this case the qubit is in a maximally mixed state.\n",
    "\n",
    "$$\n",
    "\\rho = \\begin{bmatrix} 1/2 & 0 \\\\ 0 & 1/2 \\end{bmatrix}\n",
    "$$"
   ]
  },
  {
   "cell_type": "markdown",
   "id": "5782c067",
   "metadata": {
    "slideshow": {
     "slide_type": "fragment"
    }
   },
   "source": [
    "- $|{\\bf u}| = 1 \\to \\lambda_+ = 1, \\lambda_- = 0$, on the *Bloch sphere*  \n",
    "In this case the qubit is in a pure state. For example, with $u = (0,0,1)$\n",
    "\n",
    "$$\n",
    "\\rho = \\begin{bmatrix} 1 & 0 \\\\ 0 & 0 \\end{bmatrix} = \\ket{0}\\bra{0} = \\rho^2\n",
    "$$\n"
   ]
  },
  {
   "cell_type": "markdown",
   "id": "c9c3e9f4",
   "metadata": {
    "slideshow": {
     "slide_type": "slide"
    }
   },
   "source": [
    "<a id='measure_mixed'></a>\n",
    "\n",
    "# Measurements on mixed states\n",
    "\n",
    "[<<<](#top)\n"
   ]
  },
  {
   "cell_type": "markdown",
   "id": "793109da",
   "metadata": {
    "slideshow": {
     "slide_type": "-"
    }
   },
   "source": [
    "\n",
    "The scenario now is a general state $\\rho$ on which we perform a measurement associated with an *observable* that admits a spectral decomposition  \n",
    "<br>\n",
    "<br>\n",
    "\n",
    "$$\n",
    "A = \\sum_n \\lambda_n \\ketbra{\\lambda_n}{\\lambda_n} = \\sum_n \\lambda_n P_n\n",
    "$$\n",
    "\n",
    "where the projection operator $P_n = \\ket{\\lambda_n}\\bra{\\lambda_n}$.\n"
   ]
  },
  {
   "cell_type": "markdown",
   "id": "43c51e31",
   "metadata": {},
   "source": [
    "We have already seen how to write the probability of measuring the eigenvalue $\\lambda_n$ at the beginning of this chapter\n",
    "\n",
    "$$\n",
    "p(\\lambda_n) = \\bra{\\lambda_n}\\rho \\ket{\\lambda_n}\n",
    "$$\n"
   ]
  },
  {
   "cell_type": "markdown",
   "id": "95a886a4",
   "metadata": {
    "slideshow": {
     "slide_type": "skip"
    }
   },
   "source": [
    "<div class=\"alert alert-block alert-info\",text-align:center>\n",
    "<p style=\"text-align: left ;color: navy;\">  \n",
    "<b>Axiom IV</b>: <i>(mesurement and collapse).</i>\n",
    "<br>\n",
    "<br>    \n",
    "    After a measurement, if the outcome was $\\lambda_m$, the <i>mixed</i> state $\\rho$ collapses a <i>pure</i> state $\\rho_m = \\ketbra{\\lambda_m}{\\lambda_m}$. \n",
    "</p>\n",
    "</div>\n",
    "\n",
    "That is, we can associate with a measurement the following map between operators\n",
    "\n",
    "$$\n",
    "\\rho \\;\\to\\; \\ketbra{\\lambda_m}{\\lambda_m} \\;=\\; \\frac{P_m \\rho P_m}{p(\\lambda_m)} \\,.\n",
    "$$\n",
    "\n",
    "<br>\n",
    "<details style=\"color:navy\">\n",
    "<br>\n",
    "\\begin{eqnarray}\n",
    "\\ketbra{\\lambda_m}{\\lambda_m} &=& \\frac{p(\\lambda_m)\\,\\ketbra{\\lambda_m}{\\lambda_m}}{p(\\lambda_m)} \\;=\\;\n",
    "     \\frac{\\ketbra{\\lambda_m}{\\lambda_m}\\,\\rho\\,\\ketbra{\\lambda_m}{\\lambda_m}}{p(\\lambda_m)} \\;=\\; \\frac{P_m \\rho P_m}{p(\\lambda_m)}\n",
    "\\end{eqnarray}\n",
    "</details>\n"
   ]
  },
  {
   "cell_type": "markdown",
   "id": "0cb629f9",
   "metadata": {
    "slideshow": {
     "slide_type": "slide"
    }
   },
   "source": [
    "<a id='valesp_mezcla'></a>\n",
    "## Expected Value in a Mixed State\n"
   ]
  },
  {
   "cell_type": "markdown",
   "id": "48de9bd1",
   "metadata": {
    "slideshow": {
     "slide_type": "-"
    }
   },
   "source": [
    " Let us manipulate this expression\n",
    "\n",
    "\n",
    "\\begin{eqnarray}\n",
    "p(\\lambda_n) &=& \\bra{\\lambda_n}\\rho\\ket{\\lambda_n} = \\sum_i  \\braket{\\lambda_n}{i}\\bra{i}\\rho\\ket{\\lambda_n} =\n",
    "\\sum_i \\bra{i}\\rho\\ket{\\lambda_n}\\braket{\\lambda_n}{i} = \\sum_i \\bra{i}\\left( \\rho\\ket{\\lambda_n}\\bra{\\lambda_n}\\rule{0mm}{5mm}\\right)\\ket{i} \\nonumber\\\\\n",
    "&\\equiv& \\tr(\\rho P_n )\n",
    "\\end{eqnarray}"
   ]
  },
  {
   "cell_type": "markdown",
   "id": "a860b0e1",
   "metadata": {
    "slideshow": {
     "slide_type": "fragment"
    }
   },
   "source": [
    "Now we can find the expectation value of  $A$\n",
    "\n",
    "\\begin{eqnarray}\n",
    "\\langle A\\rangle_\\rho &=& \\sum_n \\lambda_n p(\\lambda_n) = \\sum_n \\lambda_n \\tr(\\rho P_n ) \n",
    "     = \\tr \\left( \\rho \\sum_n \\lambda_n P_n \\right) = \\tr (\\rho A)\n",
    "\\end{eqnarray}"
   ]
  },
  {
   "cell_type": "markdown",
   "id": "9a442cea",
   "metadata": {
    "slideshow": {
     "slide_type": "slide"
    }
   },
   "source": [
    "<div class=\"alert alert-block alert-info\",text-align:center>\n",
    "<p style=\"text-align: left ;color: navy;\">  \n",
    "<b> Lemma</b>: $~$ the expectation value of an observable $A$ in a <i>state</i>  $\\rho$ is\n",
    "<br>\n",
    "<br>    \n",
    "$$\n",
    "~~ \\langle A\\rangle_\\rho = {\\tr}(\\rho A)  \n",
    "$$\n",
    "<br>\n",
    "</p>\n",
    "</div>\n"
   ]
  },
  {
   "cell_type": "markdown",
   "id": "6080846b",
   "metadata": {
    "slideshow": {
     "slide_type": "skip"
    }
   },
   "source": [
    "<div class=\"alert alert-block alert-success\">\n",
    "<b>Exercise:</b> \n",
    "$~$demuestra que, en el caso  $d=2$,  dado un estado $\\rho$, podemos recuperar el punto ${\\bf u}$ de la bola de Bloch, calculando los valores esperados de las matrices de Pauli $\\sigma_i$\n",
    "\n",
    "$$\n",
    "\\langle \\sigma_i \\rangle = \\tr(\\rho \\sigma_i) = u_i\n",
    "$$\n",
    "</div>"
   ]
  },
  {
   "cell_type": "markdown",
   "id": "3309b73b",
   "metadata": {
    "slideshow": {
     "slide_type": "skip"
    }
   },
   "source": [
    "<div class=\"alert alert-block alert-success\">\n",
    "<b> Exercise </b>:    genera  operadores densidad con $d=2$ usando la función <i>get_density_operator</i> y obtén, en cada caso, el valor del vector  ${\\bf u}$ y su módulo $u$. Observa la variación con $r$. \n",
    "    \n",
    "Para $r=d=2$ genera un estado $\\rho$ máximamente mezclado y verifica que ${\\bf u} = 0$.\n",
    "</div>"
   ]
  },
  {
   "cell_type": "markdown",
   "id": "1498d0af",
   "metadata": {
    "slideshow": {
     "slide_type": "slide"
    }
   },
   "source": [
    "## State Tomography\n",
    "\n",
    "State tomography refers to the process of characterising a quantum state $\\rho$. The most general $n$ qubit density matrix can be expressed as follows\n",
    "\n",
    "$$\n",
    "\\rho = \\frac{1}{2^n}  \\sum_{i_1...i_n =0}^4 c_{i_1...i_n} \\Ps_{i_1...i_n}\n",
    "$$\n",
    "in terms of Pauli strings $\\Ps_{ij...} = \\sigma_i\\otimes \\sigma_j\\otimes...$ ,  and $c_{0...0} = 1$. \n",
    "\n",
    "From here the coefficients can be recovered from the expectation values of Pauli strings\n",
    "\n",
    "$$\n",
    "\\langle \\Ps_{k_1...k_n} \\rangle_\\rho = \\Tr (\\rho  \\Ps_{k_1...k_n})  = c_{k_1...k_n} \n",
    "$$"
   ]
  },
  {
   "cell_type": "markdown",
   "id": "4f1ce914",
   "metadata": {
    "slideshow": {
     "slide_type": "slide"
    }
   },
   "source": [
    "<a id='pop_coh'></a>\n",
    "# Populations and coherences\n",
    "\n",
    "[<<<](#top)"
   ]
  },
  {
   "cell_type": "markdown",
   "id": "c3f361ba",
   "metadata": {
    "slideshow": {
     "slide_type": "fragment"
    }
   },
   "source": [
    "Consider \n",
    "\n",
    "- a mixed state $\\rho = \\sum_i p_i \\ketbra{\\psi_i}{\\psi_i}$. \n",
    "\n",
    "\n",
    "- an orthonormal basis $\\ket{\\lambda_n}$. In this basis the possible states are expanded as\n",
    "\n",
    "$$\n",
    "\\ket{\\psi_i} = \\sum_n c^{(i)}_n \\ket{\\lambda_n}\n",
    "$$\n",
    "\n",
    "with complex amplitudes $\n",
    "c_n^{(i)} = \\braket{\\lambda_n}{\\psi_i} \\,  $\n",
    "that define the probabilities $p^{(i)}_n = |c_n^{(i)}|^2$ of measuring $\\lambda_n$ **if** the system were in the pure state $\\ket{\\psi_i}$.\n",
    "\n"
   ]
  },
  {
   "cell_type": "markdown",
   "id": "f48d14f7",
   "metadata": {
    "slideshow": {
     "slide_type": "slide"
    }
   },
   "source": [
    "What is the significance of the matrix elements $\\rho_{mn}$?\n",
    "\n",
    "$$\n",
    "\\begin{align}\n",
    "\\rho_{nm} &= \\bra{\\lambda_n}\\rho \\ket{\\lambda_m} =\n",
    "\\bra{\\lambda_n}\\left(\\sum_i p_i \\ket{\\psi_i}\\bra{\\psi_i}\\right)\\ket{\\lambda_m}\n",
    "= \\sum_i p_i \\braket{\\lambda_n}{\\psi_i}\\braket{\\psi_i}{\\lambda_m} \\\\\n",
    "&= \\sum_i p_i c^{(i)}_n c^{(i)*}_m\n",
    "\\end{align}\n",
    "$$\n"
   ]
  },
  {
   "cell_type": "markdown",
   "id": "ec2f61ad",
   "metadata": {
    "slideshow": {
     "slide_type": "slide"
    }
   },
   "source": [
    "## Populations:\n",
    "\n",
    "<br>\n",
    "\n",
    "Let us take $\\underline{n=m}$\n",
    "$$\n",
    "\\rho_{nn} = \\sum_i p_i |c_n^{(i)}|^2 \n",
    "$$\n",
    "is the **average probability** of finding the system in state $\\ket{\\lambda_n}$. Notice that $\\rho_{nn}\\geq 0$. \n",
    "<br>\n",
    "\n",
    "For this reason, it is called the *population*: if $N$ measurements are performed on the system, on average, $N\\rho_{nn}$ of them will yield the state $\\ket{\\lambda_n}$ as a result.\n"
   ]
  },
  {
   "cell_type": "markdown",
   "id": "81e4ab8f",
   "metadata": {
    "slideshow": {
     "slide_type": "slide"
    }
   },
   "source": [
    "## Coherences: \n",
    "<br>\n",
    "Now, with $\\underline{n\\neq m}$. \n",
    "\n",
    "Let us imagine first that the system is pure $\\rho = \\ketbra{\\psi_1}{\\psi_1}$\n",
    "$$\n",
    "\\rho_{nm} =   c_n^{(1)}c_m^{(1)*}\n",
    "$$\n",
    "\n",
    "The off-diagonal terms being non-zero signals: of which basis states $\\ket{\\lambda_n}$,  the state $\\ket{\\psi_1}$ is a coherent superposition. \n",
    "\n",
    "For this reason, the off-diagonal elements of $\\rho$ are called *coherences*. "
   ]
  },
  {
   "cell_type": "markdown",
   "id": "3b972dc4",
   "metadata": {},
   "source": [
    "Now, back to a mixed state\n",
    "\n",
    "$$\n",
    "\\rho_{nm} =   \\sum_i p_i c_n^{(i)}c_m^{(i)*}\n",
    "$$\n",
    "\n",
    "In this case, it is the <i>average of the cross terms</i> (interference) between $\\ket{\\lambda_n}$ and $\\ket{\\lambda_m}$, given  that the states $\\ket{\\psi_i}$ are  *coherent superpositions* of them.  \n"
   ]
  },
  {
   "cell_type": "markdown",
   "id": "026a3f78",
   "metadata": {
    "slideshow": {
     "slide_type": "skip"
    }
   },
   "source": [
    "Now, since $c_n^{(i)}c_m^{(i)*}$ are complex numbers, $\\rho_{mn} $ can vanish. \n",
    "\n",
    "If this happens, the statistical mixture will have erased all traces of interference between $\\ket{\\lambda_n}$ and $\\ket{\\lambda_m}$.\n",
    "\n",
    "On the other hand, if $\\rho_{nm}\\neq 0$, there still remains a certain degree of coherence between these states in the statistical mixture.\n"
   ]
  },
  {
   "cell_type": "markdown",
   "id": "4f728401",
   "metadata": {
    "slideshow": {
     "slide_type": "skip"
    }
   },
   "source": [
    "In the course of its evolution, an *open quantum system*  will gradually lose its *coherences* $\\rho_{nm} \\to 0$ for $n \\neq m$.  \n",
    "\n",
    "This process will be studied later and is called **decoherence**.\n"
   ]
  },
  {
   "cell_type": "markdown",
   "id": "97ee2924",
   "metadata": {
    "slideshow": {
     "slide_type": "skip"
    }
   },
   "source": [
    "<div class=\"alert alert-block alert-success\">\n",
    "<b>Exercise</b>:  \n",
    "Generate the density operator associated with the maximal mixture of Bell states  \n",
    "$\\{\\ket{B_{ij}},\\; p_{ij} = 1/4\\}$.\n",
    "\n",
    "Perturb the probabilities $p_{ij}$ and observe the structure of the populations and coherences.\n",
    "</div>\n"
   ]
  },
  {
   "cell_type": "markdown",
   "id": "87e0ee11",
   "metadata": {},
   "source": [
    "<div class=\"alert alert-block alert-danger\">\n",
    "<b>Notar:</b> \n",
    "The distinction between populations and coherences is basis dependent. \n",
    "    \n",
    "- We may always diagonalize $\\rho = \\sum_i \\pi_i \\ketbra{\\mu_i}{\\mu_i}$ and interpret $\\rho$ as a statistical mixture of state $\\ket{\\mu_i}$ with probabilities $p_i$. There are *no coherences* in this basis. \n",
    "<br>\n",
    "    \n",
    "- If $\\ket{u_n}$ is the basis of eigenstates of the Hamiltonian $H \\ket{u_n} = E_n \\ket{u_n}$,\n",
    "then from the Von Neumann evolution equation $i\\hbar\\dot \\rho = [H,\\rho]$ we obtain\n",
    "<br>\n",
    "\\begin{align}\n",
    "i\\hbar \\dot \\rho_{nn}(t) &= 0 \\\\\n",
    "i\\hbar \\dot \\rho_{nm}(t) &= (E_n-E_m)\\rho_{nm}\n",
    "\\end{align}\n",
    "whose solution is as follows\n",
    "<br>\n",
    "$$\n",
    "\\rho_{nn}(t) = \\hbox{cte.} ~~~~~~,~~~~~~\\rho_{nm}(t) = e^{\\frac{i}{\\hbar}(E_m - E_n)t} \\rho_{nm}(0)\n",
    "$$\n",
    "<br>    \n",
    "Hece populations are constant, but coherences oscillate in time under unitary evolution. \n",
    "<br> \n",
    "<br>    \n",
    "- Using that $\\ket{u}\\rho\\bra{u}\\geq 0$ it is easy to prove that\n",
    "$$\n",
    "\\rho_{nn} \\rho_{mm} \\geq |\\rho_{nm}|^2\n",
    "$$\n",
    "<br>\n",
    "Hence  coherences can only exist among states with non-vanishing populations.\n",
    "    \n",
    "</div>"
   ]
  },
  {
   "cell_type": "markdown",
   "id": "6edd6c6a",
   "metadata": {
    "slideshow": {
     "slide_type": "slide"
    }
   },
   "source": [
    "<a id='distances'></a>\n",
    "\n",
    "# Distance measures of quantum states\n",
    "\n",
    "[<<<](#top)"
   ]
  },
  {
   "cell_type": "markdown",
   "id": "18786da0",
   "metadata": {
    "slideshow": {
     "slide_type": "-"
    }
   },
   "source": [
    "Telling how similar or different a two quantum states is essential in order to make definite statements about a certain information process. This is a vast subject. \n",
    "\n",
    "For further insights we refer the reader to the Chapter 9 in Nielsen-Chuang's book. "
   ]
  },
  {
   "cell_type": "markdown",
   "id": "fe52975a",
   "metadata": {
    "slideshow": {
     "slide_type": "slide"
    }
   },
   "source": [
    "<a id='class_dist'></a>\n",
    "## Classical distances"
   ]
  },
  {
   "cell_type": "markdown",
   "id": "1f04f92e",
   "metadata": {
    "slideshow": {
     "slide_type": "-"
    }
   },
   "source": [
    "Suppose we have two probabiliy distributions $\\{p_i\\}$ and $\\{q_i\\}$. "
   ]
  },
  {
   "cell_type": "markdown",
   "id": "3adcf36a",
   "metadata": {
    "slideshow": {
     "slide_type": "-"
    }
   },
   "source": [
    "The **Kolmogorov distance**, also known as $L_1$ or **trace distance** is given by treating the probabilities as components of a euclidean vector\n",
    "\n",
    "$$\n",
    "D({\\bf p}, {\\bf q} ) = \\frac{1}{2} \\sum_i |p_i - q_i| = \n",
    "$$\n",
    "\n",
    "The distance between two equal distributions is zero $D({\\bf p}, {\\bf p}) = 0$."
   ]
  },
  {
   "cell_type": "markdown",
   "id": "8f0f3b2c",
   "metadata": {
    "slideshow": {
     "slide_type": "fragment"
    }
   },
   "source": [
    "This function is *symmetric* and satisfies the *triangular inequality* $D({\\bf p},{\\bf q}) \\leq D({\\bf p},{\\bf r}) + \n",
    "D({\\bf r},{\\bf q})$"
   ]
  },
  {
   "cell_type": "markdown",
   "id": "d3ac8dc8",
   "metadata": {
    "slideshow": {
     "slide_type": "slide"
    }
   },
   "source": [
    "The **Classical fidelity**\n",
    "\n",
    "this is akin to the scalar product of the (square root of the) involved probability vectors. \n",
    "\n",
    "$$\n",
    "F ({\\bf p},{\\bf q}) = \\sum_i \\sqrt{p_i q_i}\n",
    "$$\n",
    "\n",
    "The fidelity of two equal distributions is maximal  $F({\\bf p}, {\\bf q}) = 1$.\n"
   ]
  },
  {
   "cell_type": "markdown",
   "id": "899b7450",
   "metadata": {
    "slideshow": {
     "slide_type": "slide"
    }
   },
   "source": [
    "<a id='quant_dist'></a>\n",
    "## Quantum distances"
   ]
  },
  {
   "cell_type": "markdown",
   "id": "6ef7ab8d",
   "metadata": {
    "slideshow": {
     "slide_type": "slide"
    }
   },
   "source": [
    "### Trace distance"
   ]
  },
  {
   "cell_type": "markdown",
   "id": "95ef41c2",
   "metadata": {
    "slideshow": {
     "slide_type": "-"
    }
   },
   "source": [
    "The trace distance is derived from the trace norm, with which $\\Lin(\\Hil)$ is naturally equiped\n",
    "\n",
    "\\begin{align}\n",
    "D(\\rho_1,\\rho_2) &= \\frac{1}{2} \\| \\rho_1 - \\rho_2 \\|_1 \\\\  \\rule{0mm}{8mm}\n",
    "&\\equiv \\frac{1}{2} \\tr \\sqrt{( \\rho_1 - \\rho_2)^\\dagger( \\rho_1 - \\rho_2)}\n",
    "\\end{align}\n",
    "\n"
   ]
  },
  {
   "cell_type": "markdown",
   "id": "6e5dd6e3",
   "metadata": {
    "slideshow": {
     "slide_type": "slide"
    }
   },
   "source": [
    "<a id=\"fidelity\"></a>\n",
    "### Fidelity\n",
    "</table>   \n",
    "\n",
    "[<<<](#top)\n"
   ]
  },
  {
   "cell_type": "markdown",
   "id": "8d521e29",
   "metadata": {},
   "source": [
    "Given two density operators $\\rho_1$ and $\\rho_2$, it is useful to have a way to *measure* how similar or different they are. It is important that this quantity does not depend on the choice of basis.\n"
   ]
  },
  {
   "cell_type": "markdown",
   "id": "c1920f81",
   "metadata": {},
   "source": [
    "<div class=\"alert alert-block alert-info\",text-align:center>\n",
    "<p style=\"text-align: left ;color: navy;\">  \n",
    "<b>Definition:</b> (<i> Fidelity </i>)\n",
    "    For two density operators $\\rho_1$ and $\\rho_2$, the <i> fidelity </i> is defined as  \n",
    "<br>\n",
    "<br>\n",
    "$$\n",
    "F(\\rho_1,\\rho_2) = \\tr \\sqrt{\\sqrt{\\rho_1} \\rho_2\\sqrt{\\rho_1}}\n",
    "$$"
   ]
  },
  {
   "cell_type": "markdown",
   "id": "67ba9dcb",
   "metadata": {
    "slideshow": {
     "slide_type": "slide"
    }
   },
   "source": [
    "Fidelity is related to the [trace norm](../00_Formalismo/01_Operadores.ipynb#trace_norm). Indeed,\n",
    "<br>\n",
    "\n",
    "\n",
    "\\begin{align}\n",
    "F(\\rho_1,\\rho_2) &= \\tr \\sqrt{\\sqrt{\\rho_1}\\rho_2\\sqrt{\\rho_1}} = \n",
    "\\tr \\sqrt{\\sqrt{\\rho_1\\rho_2}\\sqrt{\\rho_2\\rho_1}}\\\\\n",
    "&= \\tr \\sqrt{\\sqrt{\\rho_1^\\dagger\\rho_2^\\dagger\\rule{0mm}{3.8mm}}\\sqrt{\\rho_2\\rho_1}}\n",
    "= \\tr \\sqrt{\\sqrt{\\rho_2\\rho_1}^\\dagger\\rule{0mm}{3.8mm}\\sqrt{\\rho_2\\rho_1}}= \\|\\sqrt{ \\rho_2 \\rho_1}\\|_1  \n",
    "\\end{align}"
   ]
  },
  {
   "cell_type": "markdown",
   "id": "50248cdd",
   "metadata": {
    "slideshow": {
     "slide_type": "fragment"
    }
   },
   "source": [
    "**Properties:**\n",
    "\n",
    "- *Symmetry*: $F(\\rho_1,\\rho_2) = F(\\rho_2,\\rho_1)$\n",
    "<br>\n",
    "<br>\n",
    "- *Range*: $F(\\rho_1,\\rho_2) \\in [0,1]$ which maximizes when they are equal   $F(\\rho,\\rho) =1$\n",
    "<br>\n",
    "<br>\n",
    "- *Invariance*: $F(\\rho_1,\\rho_2) = F(\\rho'_1, \\rho'_2) ~~\\Leftrightarrow  ~~ \\rho'_1 = U^\\dagger \\rho_1 U \\hbox{ and } \\rho'_2 = U^\\dagger \\rho_2 U$"
   ]
  },
  {
   "cell_type": "markdown",
   "id": "8c560300",
   "metadata": {
    "slideshow": {
     "slide_type": "slide"
    }
   },
   "source": [
    "**Particular Cases**\n",
    "\n",
    "- If $\\rho_1 = \\ket{\\psi_1}\\bra{\\psi_1}$ is a pure state, then $F(\\rho_1,\\rho_2) = \\sqrt{\\bra{\\psi_1} \\rho_2 \\ket{\\psi_1}}$\n"
   ]
  },
  {
   "cell_type": "markdown",
   "id": "50edc071",
   "metadata": {
    "slideshow": {
     "slide_type": "fragment"
    }
   },
   "source": [
    "*Proof*, if $\\rho_1 = \\rho_1^2$ being pure\n",
    "\n",
    "<br>\n",
    "\\begin{eqnarray}\n",
    "\\tr \\sqrt{\\sqrt{\\rho_1}\\rho_2\\sqrt{\\rho_1}} &=& \\tr \\sqrt{\\rho_1\\rho_2\\rho_1} \\\\ &=&\n",
    "\\tr \\sqrt{\\ket{\\psi_1}\\bra{\\psi_1}\\rho_2\\ket{\\psi_1}\\bra{\\psi_1}} \\nonumber\\\\\n",
    "&=& \\sqrt{\\bra{\\psi_1}\\rho_2\\ket{\\psi_1}} \\tr \\sqrt{\\rho_1}\\\\ &=&  \\sqrt{\\bra{\\psi_1}\\rho_2\\ket{\\psi_1}}\n",
    "\\end{eqnarray}\n",
    "<br>\n",
    "\n",
    "\n"
   ]
  },
  {
   "cell_type": "markdown",
   "id": "c9e19dcb",
   "metadata": {
    "slideshow": {
     "slide_type": "slide"
    }
   },
   "source": [
    "-  If  $\\rho_1=\\ket{\\psi_1}\\bra{\\psi_1}$ and  $\\rho_2=\\ket{\\psi_2}\\bra{\\psi_2}$ both are pure, then\n",
    "<br>\n",
    "<br>\n",
    "$$F(\\rho_1,\\rho_2) = | \\braket{\\psi_1}{\\psi_2}|\\in (0,1)\\, $$\n",
    "<br>\n",
    "the fidelity boils down to the usual scalar product among vectors"
   ]
  },
  {
   "cell_type": "markdown",
   "id": "ae6dde7d",
   "metadata": {
    "slideshow": {
     "slide_type": "slide"
    }
   },
   "source": [
    "<div class=\"alert alert-block alert-danger\">\n",
    "<b>Summary:</b> \n",
    "    \n",
    "| $$\\rho_1,\\rho_2~~~~~~~~~~~~~~~$$                | $$~~~~~~~\\rho_1 = \\rho, \\rho_2 = \\ketbra{\\psi}{\\psi}~~~~~~~~~~$$          | $$~~~~\\rho_1 = \\ketbra{\\psi}{\\psi}, \\rho_2 = \\ketbra{\\phi}{\\phi}$$   |\n",
    "| ------------------ |:--------------------:| ------------------:|\n",
    "| $$F = \\tr \\sqrt{\\sqrt{\\rho_1}\\rho_2\\sqrt{\\rho_1}}~~~~~~$$ | $$F = \\sqrt{\\bra{\\psi}\\rho\\ket{\\psi}} $$ | $$~~~F = |\\braket{\\phi}{\\psi}|$$ |\n",
    "\n",
    "\n",
    "</div>    "
   ]
  },
  {
   "cell_type": "markdown",
   "id": "abad8e88",
   "metadata": {
    "slideshow": {
     "slide_type": "slide"
    }
   },
   "source": [
    "- If $[\\rho_1, \\rho_2] = 0$, then there exists a basis $\\ket{i}$ that diagonalizes both operators: $\\rho_{1,2} = \\sum_i p^{(1,2)}_i \\ket{i}\\bra{i}$. In this case:\n",
    "\n",
    "<br>\n",
    "\n",
    "$$F(\\rho_1, \\rho_2) = \\sum_j \\sqrt{p^{(1)}_j p^{(2)}_j}$$\n",
    "\n",
    "which is the *fidelity between two classical probability distributions* $F({\\bf p}^{(1)},{\\bf p}^{(2)})$.\n"
   ]
  },
  {
   "cell_type": "markdown",
   "id": "62f9ccdc",
   "metadata": {
    "slideshow": {
     "slide_type": "slide"
    }
   },
   "source": [
    "*Proof*\n",
    "\n",
    "\\begin{eqnarray}\n",
    "\\tr \\sqrt{\\sqrt{\\rho_1}\\rho_2\\sqrt{\\rho_1}} &=& \\tr \\sqrt{\\sum_i \\sqrt{p^{(1)}_i}\\ket{i}\\bra{i}\\sum_j p^{(2)}_j\\ket{j}\\bra{j}\\sum_k \\sqrt{p^{(1)}_k}\\ket{k}\\bra{k}} \\\\\n",
    "&=& \\tr\\sqrt{\\sum_i p^{(1)}_i{p^{(2)}_i}\\ket{i}\\bra{i}} = \\tr \\left(\\sum_i \\sqrt{p^{(1)}_i{p^{(2)}_i}}\\ket{i}\\bra{i}\\right)  \\\\\n",
    "&=& \\sum_j \\sqrt{p^{(1)}_j p^{(2)}_j}\n",
    "\\end{eqnarray}\n",
    "<br>\n",
    "\n"
   ]
  },
  {
   "cell_type": "markdown",
   "id": "a4473cac",
   "metadata": {
    "slideshow": {
     "slide_type": "slide"
    }
   },
   "source": [
    "\n",
    "In general, $D$ is easier to compute than $F$. Knowing $D$, we can bound $F$:\n",
    "\n",
    "<div class=\"alert alert-block alert-info\",text-align:center>\n",
    "<p style=\"text-align: left ;color: navy;\">  \n",
    "<b>Theorem:</b> (<i> Fuchs–van de Graaf </i>)\n",
    "<br><br>    \n",
    "$$\n",
    "1 - F(\\rho_1,\\rho_2) \\leq D(\\rho_1,\\rho_2) \\leq \\sqrt{1 - F(\\rho_1,\\rho_2)^2}\n",
    "$$\n",
    "<br>\n",
    "</div>    \n",
    "\n",
    "or, equivalently:\n",
    "\n",
    "$$\n",
    "\\left(1 - D(\\rho_1,\\rho_2)\\right) \\leq F(\\rho_1,\\rho_2) \\leq \\sqrt{1 - D(\\rho_1,\\rho_2)^2}\n",
    "$$\n",
    "\n"
   ]
  },
  {
   "cell_type": "markdown",
   "id": "8fb9e3b5",
   "metadata": {
    "slideshow": {
     "slide_type": "slide"
    }
   },
   "source": [
    "<a id='multimix'></a>\n",
    "# Subsystems  \n",
    "\n",
    "\n",
    "[<<<](#top)\n"
   ]
  },
  {
   "cell_type": "markdown",
   "id": "c303dc33",
   "metadata": {
    "slideshow": {
     "slide_type": "slide"
    }
   },
   "source": [
    "A very common case occurs when the total system is composed of two subsystems $A$ and $B$.\n",
    "\n",
    "In this case, the total Hilbert space is the tensor product $\\Hil = \\Hil_A \\otimes \\Hil_B$.\n"
   ]
  },
  {
   "cell_type": "markdown",
   "id": "f3144213",
   "metadata": {
    "slideshow": {
     "slide_type": "fragment"
    }
   },
   "source": [
    "Let us consider bases  \n",
    "\\begin{eqnarray}\n",
    "~\\{\\ket{i}\\},\\, &&  i=0,...,d_A-1 ~\\text{ of } ~\\Hil_A \\\\ \\rule{0mm}{14mm}\n",
    "~\\{\\ket{a}\\},\\, && a=0,...,d_B-1 ~\\text{ of } ~\\Hil_B\n",
    "\\end{eqnarray}\n",
    "\n",
    "The canonical basis of $\\Hil$ is given by all the ordered pairs\n",
    "\n",
    "$$\n",
    "\\ket{ia} = \\ket{i}\\otimes \\ket{a}\n",
    "$$\n",
    "\n",
    "which form a set of $d_A d_B$ orthonormal vectors.\n"
   ]
  },
  {
   "cell_type": "markdown",
   "id": "47a06fc6",
   "metadata": {
    "slideshow": {
     "slide_type": "skip"
    }
   },
   "source": [
    "<div class=\"alert alert-block alert-warning\">\n",
    "<b>Example</b>:  \n",
    "Consider a quantum computer with $n = n_A + n_B$ qubits.  \n",
    "\n",
    "The Hilbert space $\\Hil = \\Hil_A \\otimes \\Hil_B$, of dimension $d = 2^n$, will have as its basis the $2^n$ states  \n",
    "$\\{\\ket{\\alpha} = \\ket{i_0\\ldots i_{n-1}}\\}$ where $i_k = 0,1$.  \n",
    "\n",
    "But we can separate it into the direct sum of the bases of $\\Hil_A$ and $\\Hil_B$\n",
    "<br>        \n",
    "$$\n",
    "\\ket{i} = \\ket{i_1\\ldots i_{n_A}0\\ldots0} ~~~~~~~~~,~~~~~~~~~\\ket{a} = \\ket{0\\ldots0\\, i_{n_A +1}\\ldots i_{n_A + n_B}}\n",
    "$$\n",
    "<br>\n",
    "with $i = 0,\\ldots,2^{n_A}-1$ and $a = 0,\\ldots, 2^{n_B}-1$. Clearly,\n",
    "\n",
    "$$\n",
    "\\ket{\\alpha} = \\ket{ia} = \\ket{i}\\otimes \\ket{a}\n",
    "$$\n",
    "</div>\n"
   ]
  },
  {
   "cell_type": "markdown",
   "id": "43b3f1c3",
   "metadata": {
    "slideshow": {
     "slide_type": "slide"
    }
   },
   "source": [
    "In this basis, an arbitrary density operator is expanded in terms of a *density matrix* $\\rho_{ia,jb}$ in the form  \n",
    "<br>\n",
    "\n",
    "$$\n",
    "\\rho = \\sum_{i,j=0}^{d_A-1} \\sum_{a,b=0}^{d_B-1} \\rho_{ia~jb} \\ket{ia}\\bra{jb}\n",
    "$$\n"
   ]
  },
  {
   "cell_type": "markdown",
   "id": "3ac78976",
   "metadata": {
    "slideshow": {
     "slide_type": "fragment"
    }
   },
   "source": [
    "as long as it satisfies the following three conditions:\n",
    "\n",
    "- Hermiticity: $\\Rightarrow \\rho_{ia~jb} = \\rho_{jb~ia}^*$  \n",
    "<br>\n",
    "\n",
    "- Positive semidefiniteness *i.e.*, for all eigenvalues $\\Rightarrow ~\\lambda_{ia} \\geq 0$  \n",
    "<br>\n",
    "\n",
    "- Probability conservation: $~\\Tr \\rho = \\sum_{i=0}^{d_A-1} \\sum_{a=0}^{d_B-1} \\rho_{ia~ia} = 1$\n"
   ]
  },
  {
   "cell_type": "markdown",
   "id": "d4b9749f",
   "metadata": {
    "slideshow": {
     "slide_type": "slide"
    }
   },
   "source": [
    "<div class=\"alert alert-block alert-danger\">\n",
    "<b>Note</b>:  \n",
    "As usual, we can relabel the bi-indices of $\\rho$ so that $\\rho_{ia,jb} = \\rho_{\\alpha\\beta}$\n",
    "<br>\n",
    "<br>    \n",
    "$$\n",
    "\\alpha = d_B i + a~~,~~\\beta = d_B j + b\n",
    "$$\n",
    "<br>\n",
    "If $i,j = 0,\\ldots, d_A - 1$ and $a,b = 0,\\ldots, d_B - 1$, then $\\alpha, \\beta = 0,1,\\ldots, d_A d_B - 1$.\n",
    "</div>\n"
   ]
  },
  {
   "cell_type": "markdown",
   "id": "96c28733",
   "metadata": {
    "slideshow": {
     "slide_type": "slide"
    }
   },
   "source": [
    "The statement `numpy.reshape` arranges the $d_A d_B$ data in either of the two forms\n"
   ]
  },
  {
   "cell_type": "code",
   "execution_count": 12,
   "id": "0ed31e9e",
   "metadata": {
    "jupyter": {
     "outputs_hidden": true
    },
    "slideshow": {
     "slide_type": "-"
    }
   },
   "outputs": [
    {
     "name": "stdout",
     "output_type": "stream",
     "text": [
      "ia,jb== 1 2 , 1 1    alpha,beta= 12 11\n",
      "A_{ia,jb}= 0.5063301028361057      B_{alpha,beta}= 0.8982297747224136\n"
     ]
    }
   ],
   "source": [
    "import numpy as np\n",
    "' define a matrix of an operador on H_A*H_B'\n",
    "dA = 2 #4\n",
    "dB = 10  #5\n",
    "\n",
    "A = np.random.rand(dA,dB,dA,dB)\n",
    "B = np.random.rand(dA*dB,dA*dB)\n",
    "\n",
    "'component map'\n",
    "i=1 \n",
    "a=2 \n",
    "j=1 \n",
    "b=1\n",
    "alpha = dB*i + a\n",
    "beta  = dB*j + b\n",
    "\n",
    "print('ia,jb==',i,a,',',j,b,'   alpha,beta=',alpha,beta)\n",
    "\n",
    "print(\"A_{ia,jb}=\", A[i,a,j,b],'     B_{alpha,beta}=',B[alpha,beta])"
   ]
  },
  {
   "cell_type": "code",
   "execution_count": 14,
   "id": "ba5de24c",
   "metadata": {},
   "outputs": [
    {
     "name": "stdout",
     "output_type": "stream",
     "text": [
      "A_{alpha,beta}= 0.5063301028361057 B_{i,a,j,b]}= 0.8982297747224136\n"
     ]
    },
    {
     "data": {
      "text/plain": [
       "np.float64(0.8982297747224136)"
      ]
     },
     "execution_count": 14,
     "metadata": {},
     "output_type": "execute_result"
    }
   ],
   "source": [
    "'reshape and read the same component'\n",
    "Aresh = A.reshape(dA*dB,dA*dB)\n",
    "Bresh = B.reshape(dA,dB,dA,dB)\n",
    "print(\"A_{alpha,beta}=\", Aresh[alpha,beta],'B_{i,a,j,b]}=',Bresh[i,a,j,b])\n",
    "\n",
    "Bresh2 = Bresh.reshape(dA*dB,dA*dB)\n",
    "Bresh2[alpha,beta]"
   ]
  },
  {
   "cell_type": "markdown",
   "id": "5a845ab9",
   "metadata": {
    "slideshow": {
     "slide_type": "skip"
    }
   },
   "source": [
    "<div class=\"alert alert-block alert-success\">\n",
    "<b>Exercise:</b> <i>(explain it to your computer)</i>\n",
    "<br><br>\n",
    "\n",
    "Define a Python function <i>get_partial_traces</i> that takes as arguments a matrix $\\rho$ of dimension $d = d_A d_B$,   and the values $d_A$ and $d_B$ as the dimensions of $\\Hil_A$ and $\\Hil_B$ such that $\\Hil = \\Hil_A\\otimes \\Hil_B$.\n",
    "<br>\n",
    "<br> \n",
    "The function should return the two density matrices $\\rho_A$ and $\\rho_B$ obtained via partial traces.  \n",
    "<br>\n",
    "\n",
    "Examine the cases where $\\rho$ is pure or mixed, as well as the case where $\\rho = \\ket{\\psi}\\bra{\\psi}$  \n",
    "with $\\ket{\\psi}$ factorizable.\n",
    "</div>\n"
   ]
  },
  {
   "cell_type": "markdown",
   "id": "4ec9494f",
   "metadata": {
    "slideshow": {
     "slide_type": "slide"
    }
   },
   "source": [
    "## Partial Trace\n",
    "\n",
    "We are going to study bipartite systems. A state of such a system is  \n",
    "$\\rho \\in \\Lin(\\Hil_A \\otimes \\Hil_B)$. With this, we can compute all expectation values of observables  \n",
    "defined over the entire system\n",
    "$$\n",
    "\\langle A \\rangle_\\rho = \\Tr(\\rho A)\n",
    "$$\n",
    "\n",
    "An observable defined only on one part, $A \\otimes I$ or $I \\otimes B$, has no access to information contained in the other Hilbert space.\n",
    "\n",
    "For this type of observables, we can define states $\\rho_A \\in \\Lin(\\Hil_A)$ and  \n",
    "$\\rho_B \\in \\Lin(\\Hil_B)$ through the operation of *partial trace*:\n",
    "\n",
    "$$\n",
    "\\rho_A \\equiv {\\rm Tr}_B \\rho \\quad , \\quad \\rho_B \\equiv {\\rm Tr}_A \\rho\n",
    "$$\n",
    "\n",
    "Let us now see the form of these two operators in a basis $\\ket{i} \\otimes \\ket{a} = \\ket{ia}$ of $\\Hil_A \\otimes \\Hil_B$\n"
   ]
  },
  {
   "cell_type": "markdown",
   "id": "a199ce38",
   "metadata": {
    "slideshow": {
     "slide_type": "skip"
    }
   },
   "source": [
    "\\begin{align}\n",
    "\\rho_A \\equiv {\\rm Tr}_B\\rho &= \\sum_{c=0}^{d_B-1} \\bra{c} \\rho \\ket{c} \\nonumber\\\\\n",
    "    &= \\sum_{c=0}^{d_B-1} \\bra{c} \\left( \\sum_{i,j=0}^{d_A-1} \\sum_{a,b=0}^{d_B-1} \\rho_{ia,jb}\\ket{i}\\ket{a}\\bra{j}\\bra{b} \\right) \\ket{c} \\nonumber \\\\\n",
    "    &= \\sum_{c=0}^{d_B-1}  \\left( \\sum_{i,j=0}^{d_A-1} \\sum_{a,b=0}^{d_B-1} \\rho_{ia,jb}\\ket{i}\\braket{c}{a}\\bra{j}\\braket{b}{c} \\right)   \\nonumber\\\\\n",
    "    &= \\sum_{c=0}^{d_B-1}  \\left( \\sum_{i,j=0}^{d_A-1}  \\rho_{ic,jc}\\ketbra{i}{j} \\right)   \\nonumber\\\\\n",
    "    &=  \\sum_{i,j=0}^{d_A-1}   \\left( \\sum_{c=0}^{d_B-1} \\rho_{ic,jc} \\right) \\ketbra{i}{j}   ~~ = ~   \\sum_{i,j=0}^{d_A-1}   \\rho_{A,i,j}  \\ketbra{i}{j}   \\nonumber\n",
    "\\end{align}"
   ]
  },
  {
   "cell_type": "markdown",
   "id": "a2aacf75",
   "metadata": {
    "slideshow": {
     "slide_type": "slide"
    }
   },
   "source": [
    "Then, the density matrices associated with the partial traces are, respectively:\n",
    "\n",
    "$$\n",
    "\\rho_A = \\Tr_B \\rho \\to \\rho_{A,ij}= \\sum_{a=0}^{d_B-1} \\rho_{ia~ja} ~~~~~~~,~~~~~~~ \\rho_B = \\Tr_A\\rho \\to \\rho_{B,ab} = \\sum_{i=0}^{d_A-1} \\rho_{ia~ib}\n",
    "$$"
   ]
  },
  {
   "cell_type": "markdown",
   "id": "5e590333",
   "metadata": {
    "slideshow": {
     "slide_type": "slide"
    }
   },
   "source": [
    "The states obtained in this way are sufficient to recover the probabilities of measurement outcomes that affect only one of the subsystems.\n",
    "\n",
    "<div class=\"alert alert-block alert-info\" style=\"text-align: center;\">\n",
    "<p style=\"text-align: left; color: navy;\">  \n",
    "<b>Lemma</b>:  \n",
    "<br>\n",
    "Let $O = O_A \\otimes I$ be an observable that measures only a property of <i>subsystem</i> $A$, then  \n",
    "<br><br>\n",
    "$$\n",
    "\\langle O \\rangle_\\rho = \\tr(O_A \\rho_A)\n",
    "$$\n",
    "</p>   \n",
    "</div>\n"
   ]
  },
  {
   "cell_type": "markdown",
   "id": "82c62079",
   "metadata": {
    "slideshow": {
     "slide_type": "slide"
    }
   },
   "source": [
    "<i>Proof</i> \n",
    "\n",
    "\\begin{eqnarray}\n",
    " \\langle O \\rangle_\\rho  ~=~ \\Tr ((O_A\\otimes I)\\rho) &~=~&\n",
    " \\sum_{i=0}^{d_A-1}\\sum_{a=0}^{d_B-1} \\bra{i}\\bra{a} \\left( (O_A\\otimes I)\\rho \\rule{0mm}{4mm}\\right) \\ket{i}\\ket{a} \\\\\n",
    " \\rule{0mm}{4mm}\n",
    " &=& \\sum_{i=0}^{d_A-1} \\bra{i} O_A  \\sum_{a=0}^{d_B-1}\\bra{a}\\rho \\ket{a}\\ket{i} \\\\\n",
    " &=& \\sum_{i=0}^{d_A-1} \\bra{i} O_A  \\rho^A\\ket{i} \\\\\n",
    " &=& \\Tr(O_A\\rho^A)\n",
    "\\end{eqnarray}\n"
   ]
  },
  {
   "cell_type": "markdown",
   "id": "88cf4211",
   "metadata": {
    "slideshow": {
     "slide_type": "skip"
    }
   },
   "source": [
    "## Mixed States and Quantum Circuits\n",
    "\n"
   ]
  },
  {
   "cell_type": "markdown",
   "id": "ce456079",
   "metadata": {
    "slideshow": {
     "slide_type": "skip"
    }
   },
   "source": [
    "At the end of the day, a quantum circuit is just a device that *samples* from a probability distribution,  \n",
    "producing bit strings $s_i$ with probabilities $p_i$.\n",
    "\n",
    "Let us suppose a circuit generates a bipartite state $\\ket{\\psi} = \\sum_{ij} c_{ij} \\ket{ij}$.  \n",
    "The computer samples the values $ij$ and constructs histograms with $d^2$ columns of height $n_{ij}$ that converge to the corresponding probabilities. \n",
    "<br>\n",
    "\n",
    "Let us consider a concrete case: $i = j = 0$.\n",
    "\n",
    "$$\n",
    "\\frac{n_{00}}{N} ~\\hookrightarrow ~ p_{00} = |c_{00}|^2 = \\braket{\\psi}{00}\\braket{00}{\\psi} = \\tr\\, (\\rho \\ketbra{00}{00})\n",
    "=  \\tr\\, (\\rho P_{00})\n",
    "$$\n",
    "\n",
    "where $\\rho = \\ketbra{\\psi}{\\psi}$ is the density matrix associated with the pure state $\\ket{\\psi}$.\n"
   ]
  },
  {
   "cell_type": "markdown",
   "id": "1b8006a6",
   "metadata": {
    "slideshow": {
     "slide_type": "skip"
    }
   },
   "source": [
    "What happens if we only measure the first qubit? The output will now produce a histogram with $d$ values $n_i$.  \n",
    "\n",
    "There is an equivalent way to express this, which consists in summing over $j$ to obtain the *marginal* distribution\n",
    "\n",
    "$$\n",
    "\\frac{n_i}{N} = \\sum_j \\frac{n_{ij}}{N} ~ \\longrightarrow ~ q_i = \\sum_j p_{ij}\n",
    "$$\n",
    "\n",
    "That is, the fractions $n_i/N$ reconstruct the marginal probabilities of the original random variable.\n",
    "\n",
    "Let us return to the specific case $n_i \\to n_0$. Now:\n"
   ]
  },
  {
   "cell_type": "markdown",
   "id": "c6803462",
   "metadata": {
    "slideshow": {
     "slide_type": "skip"
    }
   },
   "source": [
    "\\begin{align}\n",
    "\\frac{n_0}{N} \\to \\sum_j p_{0j} &= \\sum_j c_{0j}^* c_{0j} \\\\\n",
    "&= \\left(\\sum_{ij}c_{ij}^* \\bra{ij}\\right)\\left(\\ketbra{0}{0}\\otimes I\\right) \\left(\\sum_{l} c_{lj}\\ket{lj}\\right)\n",
    "\\\\\n",
    "&= \\left(\\sum_{ij}c_{ij}^* \\bra{i}\\right) \\ketbra{0}{0}  \\left(\\sum_{l} c_{lj}\\ket{l}\\right)\\\\\n",
    "&= \\left(\\sum_{ij}c_{ij}^* \\bra{i}\\right) \\left(\\sum_m\\ketbra{m}{m}\\right) \\ketbra{0}{0}  \\left(\\sum_{l} c_{lj}\\ket{l}\\right)\\\\\n",
    "&= \\sum_m\\bra{m}\\left(  \\ketbra{0}{0}   \\sum_{il} \\rho_{1,{il}}   \\ketbra{l}{i}  \\right)\\ket{m} ~=~ \\tr \\left( \\ketbra{0}{0}\\rho_1\\right)\n",
    "\\end{align}\n"
   ]
  },
  {
   "cell_type": "markdown",
   "id": "5102ad13",
   "metadata": {
    "slideshow": {
     "slide_type": "skip"
    }
   },
   "source": [
    "\n",
    "where $\\rho_1$ is now the reduced density matrix.\n",
    "$$\n",
    "\\rho_{1,il} = \\sum_j c_{ij}^*c_{ij} = \\sum_j \\rho_{ij,lj}\n",
    "$$"
   ]
  },
  {
   "cell_type": "markdown",
   "id": "be3b871b",
   "metadata": {
    "slideshow": {
     "slide_type": "slide"
    }
   },
   "source": [
    "<div class=\"alert alert-block alert-danger\">\n",
    "<b>Note</b>:  \n",
    "<br>      \n",
    "in a circuit of <i>width</i> (number of qubits) $q = q_A + q_B$,  the state associated to a partial measurement of the first  $q_A$ qubits is represented by $\\rho_A = \\mathrm{tr}_B \\ket{\\psi}\\bra{\\psi}$ where $\\ket{\\psi}$ is the pure state created by the full circuit.\n",
    "</div>    "
   ]
  },
  {
   "cell_type": "markdown",
   "id": "30e35b24",
   "metadata": {
    "slideshow": {
     "slide_type": "slide"
    }
   },
   "source": [
    "<div class=\"alert alert-block alert-success\">\n",
    "<b>Exercise :</b>\n",
    "<br>    \n",
    "Consider the 3-qubit  state $\\ket{\\psi} =  \\hbox{CNOT}(2,1)\\hbox{CNOT}(1,0)\\hbox{CNOT}(0,2)R_x(\\pi/3,2)\\ket{000}H(1) R_x(\\pi/3,0)\\ket{000}$. Let the qubits 01 span subsystem $A$, and 2 the subsystem $B$.\n",
    "    \n",
    "- Compute the partial traces $\\rho_B =\\tr_{01}\\rho $ and $\\rho_A =\\tr_{2}\\rho~$ where $\\rho = \\ket{\\psi}\\bra{\\psi}$. Compare them. Obtain their purity.    \n",
    "    \n",
    "- experimentally compute $\\langle  Z_2\\rangle_\\psi = \\langle Z\\otimes I\\otimes   I\\rangle_\\psi $ and compare it with the quantum mechanical prediction $\\tr (Z\\rho_B)$\n",
    "\n",
    "- experimentally compute $\\langle Z_0X_1 \\rangle_\\psi $ and compare it with  $\\tr (Z \\otimes X \\cdot\\rho_{A})$\n",
    "\n",
    "\n",
    "- Perform full tomography to reconstruct   $\\rho_B$ from measurements.    \n",
    "    \n",
    "Note: you must code all functions from scratch. You can check them agains Qiskit routines after. \n",
    "</div>"
   ]
  },
  {
   "cell_type": "markdown",
   "id": "29556711",
   "metadata": {
    "slideshow": {
     "slide_type": "slide"
    }
   },
   "source": [
    "<a id='impurif'></a>\n",
    "\n",
    "# Purification and Impurification\n",
    "\n",
    "\n",
    "[<<<](#top)\n"
   ]
  },
  {
   "cell_type": "markdown",
   "id": "80b92e70",
   "metadata": {
    "slideshow": {
     "slide_type": "-"
    }
   },
   "source": [
    "Let us see that there is a close relationship between the entanglement of a pure state and the degree of mixedness of a density matrix that we can construct via a partial trace.\n"
   ]
  },
  {
   "cell_type": "markdown",
   "id": "0144a1fa",
   "metadata": {
    "slideshow": {
     "slide_type": "slide"
    }
   },
   "source": [
    "## Partial trace of a pure state\n",
    "\n"
   ]
  },
  {
   "cell_type": "markdown",
   "id": "23d0dcaf",
   "metadata": {
    "slideshow": {
     "slide_type": "fragment"
    }
   },
   "source": [
    "Suppose that $\\rho \\in \\, \\Lin(\\Hil_A\\otimes\\Hil_B)$ is a **pure** bipartite state. The density matrix is a projector\n",
    "<br>\n",
    "<br>\n",
    "$$\\rho=\\ket{\\Psi}\\bra{\\Psi}~~~\\Rightarrow ~~~ \\rho=\\rho^2$$ \n"
   ]
  },
  {
   "cell_type": "markdown",
   "id": "48f5ba9e",
   "metadata": {
    "slideshow": {
     "slide_type": "fragment"
    }
   },
   "source": [
    "    \n",
    "We are going to prove **three important results** related to the *reduced density matrix*.\n",
    "\n",
    "$$\\rho\\to \\rho_A = \\tr_B\\rho$$\n",
    "\n"
   ]
  },
  {
   "cell_type": "markdown",
   "id": "40c1a8a4",
   "metadata": {
    "slideshow": {
     "slide_type": "slide"
    }
   },
   "source": [
    "<div class=\"alert alert-block alert-info\",text-align:center>\n",
    "<p style=\"text-align: left ;color: navy;\">  \n",
    "<b>1.-</b> If $\\rho$ is a pure state $( \\rho = \\rho^2)$, then the two reduced operators are equal:\n",
    "    $~\\Rightarrow \\rho_A = \\rho_B$\n",
    "</div>\n"
   ]
  },
  {
   "cell_type": "markdown",
   "id": "22d680f4",
   "metadata": {
    "slideshow": {
     "slide_type": "fragment"
    }
   },
   "source": [
    "**Proof:**\n",
    "\n",
    "The way to prove this result is to work in the Schmidt basis for the bipartite state\n",
    "\n",
    "$$\n",
    "\\rho = \\ketbra{\\Psi}{\\Psi} ~~~\\text{with} ~~~\\ket{\\Psi}  = \\sum_{\\alpha=1}^r \\sqrt{\\lambda_\\alpha}\\ket{f_\\alpha}\\ket{\\tilde f_\\alpha}\n",
    "$$\n",
    "\n",
    "Then, for the partial trace over $B$, we write\n"
   ]
  },
  {
   "cell_type": "markdown",
   "id": "896f14cb",
   "metadata": {
    "slideshow": {
     "slide_type": "slide"
    }
   },
   "source": [
    "\n",
    "<br>\n",
    "\\begin{eqnarray}\n",
    "\\rho_A ~=~ \\Tr_B \\ket{\\Psi}\\bra{\\Psi} &~=~&\n",
    "\\sum_{\\sigma=0}^{d_B-1} \\braket{\\tilde f_\\sigma}{\\Psi}   \\braket{\\Psi}{\\tilde f_\\sigma} \\\\\n",
    "&~=~& \\sum_{\\sigma=0}^{d_B-1} \\bra{\\tilde f_\\sigma}\\left( \\sum_{\\alpha, \\beta=0}^{r-1} \\sqrt{\\lambda_\\alpha}\\sqrt{\\lambda_\\beta}\\ket{f_\\alpha}\\ket{\\tilde f_\\alpha}\\bra{f_\\beta}\\bra{\\tilde f_\\beta} \\right)\n",
    "\\ket{\\tilde f_\\sigma} \\\\\n",
    "&=&\\sum_\\sigma\\sum_{\\alpha \\beta} \\sqrt{\\lambda_\\alpha}\\sqrt{\\lambda_\\beta}\\ket{f_\\alpha}\\braket{\\tilde f_\\sigma}{\\tilde f_\\alpha}\\bra{ f_\\beta}\\braket{\\tilde f_\\beta}{\\tilde f_\\sigma}\\\\\n",
    "&=&\\sum_\\sigma\\sum_{\\alpha \\beta} \\sqrt{\\lambda_\\alpha}\\sqrt{\\lambda_\\beta}\\ket{f_\\alpha}\\bra{f_\\beta}\\delta_{\\sigma\\alpha}\\delta_{\\beta\\sigma} \\\\\n",
    "&=&  \\sum_{\\sigma=0}^{r-1} \\lambda_\\sigma\\ket{f_\\sigma}\\bra{f_\\sigma}\n",
    "\\end{eqnarray}\n",
    "\n"
   ]
  },
  {
   "cell_type": "markdown",
   "id": "a38e42e1",
   "metadata": {
    "slideshow": {
     "slide_type": "slide"
    }
   },
   "source": [
    "Proceeding in the same way, it is immediate to prove the converse:\n",
    "\n",
    "$$\n",
    "\\rho_B ~=~ \\Tr_A \\ket{\\Psi}\\bra{\\Psi} = \\sum_{\\sigma=0}^{r-1} \\lambda_\\sigma\\ket{\\tilde f_\\sigma}\\bra{\\tilde f_\\sigma}\n",
    "$$\n",
    "\n",
    "Then, the reduced density matrix in both cases is the same diagonal matrix given by the Schmidt coefficients:\n",
    "\n",
    "$$\n",
    "\\rho^A  = \\rho^B = \\hbox{diag} ( \\lambda_0,\\lambda_1,...,\\lambda_r, 0 ,... )\n",
    "$$\n"
   ]
  },
  {
   "cell_type": "markdown",
   "id": "aa82edc2",
   "metadata": {
    "slideshow": {
     "slide_type": "slide"
    }
   },
   "source": [
    "<div class=\"alert alert-block alert-info\",text-align:center>\n",
    "<p style=\"text-align: left ;color: navy;\">  \n",
    "<b>2.-</b>  $~$ If $\\ket{\\psi} = \\ket{\\varphi}\\otimes \\ket{\\phi}$ is <b>factorizable</b>, then $\\Rightarrow$ $\\rho_A$ remains <b>pure</b>\n",
    "</p>   \n",
    "</div>\n"
   ]
  },
  {
   "cell_type": "markdown",
   "id": "30ab2364",
   "metadata": {
    "slideshow": {
     "slide_type": "fragment"
    }
   },
   "source": [
    "**Proof:**\n",
    "\n",
    "\\begin{eqnarray}\n",
    " \\rho_A = \\Tr_{B}\\ketbra{\\Psi}{\\Psi} &=& \\sum_{b}\\bra{b}\\left(\\rule{0mm}{4mm} \\ketbra{\\varphi}{\\varphi}\\otimes \\ketbra{\\phi}{\\phi}\\right) \\ket{b}\\\\\n",
    " &=&   \\ketbra{\\varphi}{\\varphi} \\sum_b \\braket{b}{\\phi}\\braket{\\phi}{b}\\\\\n",
    " &=&   \\ketbra{\\varphi}{\\varphi}  \\bra{\\phi}\\left(\\sum_b\\ketbra{b}{b}\\right)\\ket{\\phi}\\\\\n",
    " &=&   \\ketbra{\\varphi}{\\varphi}\\braket{\\phi}{\\phi} ~= ~ \\ketbra{\\varphi}{\\varphi} ~ = ~ (\\rho^A)^2\n",
    "\\end{eqnarray}\n"
   ]
  },
  {
   "cell_type": "markdown",
   "id": "6ec3c01f",
   "metadata": {
    "slideshow": {
     "slide_type": "slide"
    }
   },
   "source": [
    "<div class=\"alert alert-block alert-info\",text-align:center>\n",
    "<p style=\"text-align: left ;color: navy;\">  \n",
    "3.-$~$   $\\ket{\\psi}$ <b>entangled</b> $~\\Rightarrow ~ \\rho_A$ <b>mixed</b>\n",
    "</p>   \n",
    "</div>"
   ]
  },
  {
   "cell_type": "markdown",
   "id": "324e8fcd",
   "metadata": {
    "slideshow": {
     "slide_type": "fragment"
    }
   },
   "source": [
    "**Proof**:\n",
    "<br>\n",
    "\n",
    "If $\\ket{\\psi}$ is entangled, in the Schmidt basis $r > 1$. Then clearly\n",
    "<br>\n",
    "<br>\n",
    "$$\n",
    "\\rho_A = \\sum_{\\sigma=0}^{r-1} \\lambda_\\sigma\\ket{f_\\sigma}\\bra{f_\\sigma}\n",
    "$$\n",
    "<br>\n",
    "is not a projector, $\\rho \\neq \\rho^2$, and therefore it corresponds to a mixed state.\n",
    "<br>\n"
   ]
  },
  {
   "cell_type": "markdown",
   "id": "085f2f09",
   "metadata": {
    "slideshow": {
     "slide_type": "slide"
    }
   },
   "source": [
    "In summary: <u> under the application of <i>partial trace</i>, <i>entanglement</i> induces <i>mixing</i></u>\n",
    "\n",
    "This result allows us to define a *figure of merit* to quantify the entanglement of a state, consisting of partitioning the Hilbert space in different ways, and calculating, for each partition, the purity of the state obtained via partial trace.\n"
   ]
  },
  {
   "cell_type": "markdown",
   "id": "bedb34a1",
   "metadata": {
    "slideshow": {
     "slide_type": "slide"
    }
   },
   "source": [
    "## Purification of a mixed state\n"
   ]
  },
  {
   "cell_type": "markdown",
   "id": "5cc90e57",
   "metadata": {
    "slideshow": {
     "slide_type": "fragment"
    }
   },
   "source": [
    "We have already seen how a density matrix describes the *a priori probabilities* when we perform *restricted* measurements on a subspace of the Hilbert space.\n",
    "\n",
    "Conversely, if $\\rho \\neq \\rho^2$ is a density matrix corresponding to a mixed state, we can always <u>design a pure state that contains this mixed state under restriction</u>.\n"
   ]
  },
  {
   "cell_type": "markdown",
   "id": "eb9c5563",
   "metadata": {
    "slideshow": {
     "slide_type": "slide"
    }
   },
   "source": [
    "<div class=\"alert alert-block alert-info\",text-align:center>\n",
    "<p style=\"text-align: left ;color: navy;\">  \n",
    "<b> Theorem</b>: <i>(Purification)</i>\n",
    "<br>\n",
    "<br>    \n",
    "Let $\\rho_1 \\in \\Lin(\\Hil_1)$ be a density operator: we can <i>always</i> define a pure state $\\ket{\\Psi}\\in \\Hil_1\\otimes \\Hil_2$ for some Hilbert space $\\Hil_2$, with $\\hbox{dim} \\Hil_2 \\geq \\hbox{dim} \\Hil_1$, such that\n",
    "<br>\n",
    "<br>\n",
    "$$\n",
    "\\rho_1 = \\tr_{\\Hil_2}\\ket{\\Psi}\\bra{\\Psi}\n",
    "$$\n",
    "<br>\n",
    "</p>\n",
    "</div>\n"
   ]
  },
  {
   "cell_type": "markdown",
   "id": "c91d7e24",
   "metadata": {
    "slideshow": {
     "slide_type": "slide"
    }
   },
   "source": [
    "<i> Proof</i>:  \n",
    "The proof proceeds by expressing $\\rho$ in its spectral decomposition:\n",
    "\n",
    "$$\n",
    "\\rho_1 = \\sum_{a=1}^{d_1} p_a \\ketbra{\\psi_a}{\\psi_a}\n",
    "$$\n",
    "\n",
    "where $p_a \\geq 0$ and $\\ket{\\psi_a}$ is a set of orthonormal eigenvectors. Let $\\Hil_2$ be a Hilbert space with dimension $d_2 \\geq d_1$. In the product space $\\Hil_1 \\otimes \\Hil_2$, consider the state\n",
    "\n",
    "$$\n",
    "\\ket{\\Psi} = \\sum_a \\sqrt{p_a}\\ket{\\psi_a} \\otimes \\ket{\\phi_a}\n",
    "$$\n",
    "\n",
    "where $\\{\\ket{\\phi_a}\\}_{a=1,...,d_1} \\in \\Hil_2$ is an **orthonormal set of vectors**, otherwise completely arbitrary.  \n",
    "\n",
    "Let us now show that the partial trace recovers $\\rho$:\n"
   ]
  },
  {
   "cell_type": "markdown",
   "id": "dc132eea",
   "metadata": {
    "slideshow": {
     "slide_type": "slide"
    }
   },
   "source": [
    "\n",
    "\\begin{eqnarray}\n",
    "\\tr_{{\\cal H}_2}  \\ket{\\Psi}\\bra{\\Psi} &=& \\sum_{\\alpha=1}^{d_2}\\bra{e_\\alpha} \\left( \\sum_{a,b=1}^{d_1} \\sqrt{p_a}\\sqrt{p_b} \\ket{\\psi_a}\\otimes\\ket{\\phi_a}\\bra{\\psi_b} \\otimes \\bra{\\phi_b}\\right) \\ket{e_\\alpha} \n",
    "\\nonumber\\\\\n",
    "&=& \\sum_{\\alpha=1}^{d_2} \\left( \\sum_{a,b=1}^{d_1} \\sqrt{p_a}\\sqrt{p_b} \\ket{\\psi_a}\\otimes\\braket{e_\\alpha}{\\phi_a}\\bra{\\psi_b} \\otimes \\braket{\\phi_b}{e_\\alpha} \\right) \n",
    "\\nonumber\\\\\n",
    "&=& \\sum_{b,a=1}^{d_1}  \\sqrt{p_a}\\sqrt{p_b} \\ket{\\psi_a}\\bra{\\psi_b} \\cdot \\bra{\\phi_b}\\underbrace{\\left(\\sum_{\\alpha=1}^{d_2}\\ket{e_\\alpha}\\bra{e_\\alpha}\\right)}_{I}\\ket{\\phi_a} \\nonumber\\\\\n",
    "&=& \\sum_{b,a=1}^{d_1}  \\sqrt{p_a}\\sqrt{p_b} \\ket{\\psi_a}\\bra{\\psi_b} \\cdot \\braket{\\phi_b}{\\phi_a} \\nonumber\\\\\n",
    "&=&  \\sum_{a=1}^{d_1} p_a \\ket{\\psi_a} \\bra{\\psi_a} ~= ~ \\rho_1  \\hspace{4cm} \\rule{3mm}{3mm}\n",
    "\\end{eqnarray}\n",
    "\n"
   ]
  },
  {
   "cell_type": "markdown",
   "id": "4881f077",
   "metadata": {
    "slideshow": {
     "slide_type": "slide"
    }
   },
   "source": [
    "<a id='mixed_circ'></a>\n",
    "## Quantum circuit associated to a density matrix"
   ]
  },
  {
   "cell_type": "markdown",
   "id": "e9fcf6a9",
   "metadata": {
    "slideshow": {
     "slide_type": "fragment"
    }
   },
   "source": [
    "What is the circuit that encodes the following *mixed* state?\n",
    "<br>\n",
    "<br>\n",
    "\n",
    "$$\n",
    "\\rho = \\sum_i p_i \\ket{i} \\bra{i}\n",
    "$$\n",
    "<br>\n",
    "\n",
    "**Note**: We are *not* saying that $\\rho = \\ketbra{\\psi}{\\psi}$.  Such state is essentially the same as $\\ket{\\psi}$.\n"
   ]
  },
  {
   "cell_type": "markdown",
   "id": "235a3e68",
   "metadata": {
    "slideshow": {
     "slide_type": "slide"
    }
   },
   "source": [
    "The answer is very simple and consists in \n",
    "\n",
    "- Initializing the state $U \\ket{0} \\to \\ket{\\psi} = \\sum_i \\sqrt{p_i} \\ket{i}$ (this may be difficult)\n",
    "<br>\n",
    "\n",
    "\n",
    "- Out of $\\ket{\\psi}$, build the state $\\ket{\\Psi}$ that purifies $\\rho$\n",
    "\n",
    "$$\n",
    "\\rho \\to \\ket{\\Psi} = \\sum_i \\sqrt{p_i}\\, \\ket{i}\\ket{i}\n",
    "$$\n",
    "\n",
    "This can be implemented in two steps:\n",
    "\n",
    "$$\n",
    "\\ket{0} \\otimes \\ket{0} \\xrightarrow{U \\otimes I} \\ket{\\psi} \\otimes \\ket{0} \\xrightarrow{\\text{CNOTs}} \\sum_i \\sqrt{p_i }\\, \\ket{i} \\ket{i}\n",
    "$$\n",
    "\n",
    "-  performing measurements **only on the first register**.  \n",
    "\n",
    "\n"
   ]
  },
  {
   "cell_type": "markdown",
   "id": "72772077",
   "metadata": {
    "slideshow": {
     "slide_type": "slide"
    }
   },
   "source": [
    "The circuit that performs this operation is the following:  \n",
    "<br>\n",
    "\n",
    "\n",
    "<div>\n",
    "<img src=\"./figures/Density_matrix.png\" width=\"30%\" style=\"margin:auto\"/>\n",
    "</div>\n"
   ]
  },
  {
   "cell_type": "markdown",
   "id": "b74382e1",
   "metadata": {
    "slideshow": {
     "slide_type": "slide"
    }
   },
   "source": [
    "The probability of measurement of a particular basis state $\\ket{k}$ will be\n",
    "<br>\n",
    "\n",
    "$$\n",
    "\\bra{\\Psi} P_k\\otimes I \\ket{\\Psi} = p_k = \\Tr(P_k \\rho)\n",
    "$$\n",
    "\n",
    "Hence this procedure effectively prepares the mixed state\n",
    "<br>\n",
    "$$\n",
    "\\rho = \\sum_i p_i \\ket{i}\\bra{i}\n",
    "$$\n",
    "as the reduced density matrix of a purified entangled state.\n"
   ]
  },
  {
   "cell_type": "markdown",
   "id": "af54856b",
   "metadata": {
    "slideshow": {
     "slide_type": "fragment"
    }
   },
   "source": [
    "<div class=\"alert alert-block alert-danger\">\n",
    "<b>Reminder</b>:  \n",
    "A quantum circuit is nothing more than a way to generate events that follow a certain random probability distribution.  \n",
    "\n",
    "- A circuit that evolves the initial state $\\ket{0}_n$ generates the pure state $\\ket{\\psi}$.  \n",
    "  Its execution produces bit-strings that follow the probability distribution $p_i = |\\braket{i}{\\psi}|^2$.  \n",
    "\n",
    "- The circuit from the previous figure generates events (bit-strings) that follow the probability distribution  \n",
    "  associated with a mixed state: $p_i = \\Tr(\\ketbra{i}{i} \\rho)$ where $\\rho = \\sum_i p_i \\ketbra{i}{i}$.\n",
    "</div>\n"
   ]
  },
  {
   "cell_type": "markdown",
   "id": "64b37c65",
   "metadata": {
    "slideshow": {
     "slide_type": "slide"
    }
   },
   "source": [
    "<div class=\"alert alert-block alert-success\">\n",
    "<b>Exercise:</b> \n",
    "\n",
    "Consider the Bell state  $\\ket{\\psi} = \\frac{1}{\\sqrt{2}}(\\ket{01} - \\ket{10}) = \\sum_i \\sqrt{p_i} \\, \\ket{i}$.  \n",
    "Construct the circuit associated with the density matrix $\\rho = \\sum_i p_i \\ket{i}\\bra{i}$\n",
    "<br>\n",
    "    \n",
    "Compare the expectation values $\\bra{\\psi}O\\ket{\\psi}$ and $\\tr (\\rho O)$ for the following operators: $ZZ, ZX, ZY, XY, XX$.\n"
   ]
  },
  {
   "cell_type": "markdown",
   "id": "a3c0c8bf",
   "metadata": {
    "slideshow": {
     "slide_type": "fragment"
    }
   },
   "source": [
    "<div class=\"alert alert-block alert-success\">\n",
    "<b>Exercise:</b> \n",
    "\n",
    "Modify the previous construction to obtain the circuit associated with a density matrix  \n",
    "$\\rho = \\sum_a p_a \\ket{\\psi_a}\\bra{\\psi_a}$,  \n",
    "where $\\ket{\\psi_a}$ is an orthonormal basis.\n"
   ]
  },
  {
   "cell_type": "markdown",
   "id": "92c8f6cd",
   "metadata": {
    "slideshow": {
     "slide_type": "slide"
    }
   },
   "source": [
    "<a id='ent_mix'></a>\n",
    "\n",
    "# Entanglement in Mixed States\n",
    "[<<<](#top)\n"
   ]
  },
  {
   "cell_type": "markdown",
   "id": "6b672a70",
   "metadata": {},
   "source": [
    "<a id='corre_sep'></a>\n",
    "\n",
    "## Uncorrelated, Separable, and Entangled States"
   ]
  },
  {
   "cell_type": "markdown",
   "id": "dafe2070",
   "metadata": {
    "slideshow": {
     "slide_type": "-"
    }
   },
   "source": [
    "\n",
    "\n",
    "In the case of vectors $\\ket{\\psi} \\in \\Hil_A \\otimes \\Hil_B$, we have already seen the distinction between *factorizable* and *entangled* states.\n",
    "\n",
    "For *density operators* (states) $\\rho \\in \\Lin(\\Hil_A \\otimes \\Hil_B)$, we encounter similar possibilities.\n"
   ]
  },
  {
   "cell_type": "markdown",
   "id": "5c28e303",
   "metadata": {
    "slideshow": {
     "slide_type": "slide"
    }
   },
   "source": [
    "\n",
    "### Uncorrelated States:\n",
    "\n",
    "If $\\rho$ is a factorizable operator,\n",
    "$$\n",
    "\\rho = \\rho_A \\otimes \\rho_B\\,\n",
    "$$\n",
    "then\n",
    "$$\n",
    "\\rho_{ia~jb} = \\rho_{A,ij} \\rho_{B,ab}\n",
    "$$\n",
    "\n",
    "We say that this is a state in which the subsystems $A$ and $B$ are <i>uncorrelated</i>.\n"
   ]
  },
  {
   "cell_type": "markdown",
   "id": "1a0235e5",
   "metadata": {
    "slideshow": {
     "slide_type": "slide"
    }
   },
   "source": [
    "In the case of an uncorrelated $\\rho$:\n",
    "\n",
    "1. The tensor product factors are recovered through partial traces:\n",
    "\n",
    "$$\n",
    "\\tr_B \\rho = \\rho_A \\qquad , \\qquad \\tr_A \\rho = \\rho_B\n",
    "$$\n"
   ]
  },
  {
   "cell_type": "markdown",
   "id": "bd63d4dd",
   "metadata": {
    "slideshow": {
     "slide_type": "fragment"
    }
   },
   "source": [
    "2. For any pair of observables $O_A \\otimes I$ and $I \\otimes O_B$,  \n",
    "the expectation value of $O_A \\otimes O_B$ can be obtained from the expectation values in the reduced (factor) states:\n",
    "\n",
    "$$\n",
    "\\tr \\big((O_A \\otimes O_B)\\rho\\big) ~=~ \\tr_A(O_A \\rho_A)\\, \\tr_B(O_B \\rho_B)\n",
    "$$\n",
    "<br>\n"
   ]
  },
  {
   "cell_type": "markdown",
   "id": "5eb1f5b0",
   "metadata": {
    "slideshow": {
     "slide_type": "fragment"
    }
   },
   "source": [
    "When it is possible to find observables for which this no longer holds, we say the state is *correlated*.\n",
    "\n",
    "Within this class, there are two possibilities.\n"
   ]
  },
  {
   "cell_type": "markdown",
   "id": "a355b0a5",
   "metadata": {
    "slideshow": {
     "slide_type": "slide"
    }
   },
   "source": [
    "### Separable States:\n",
    "\n",
    "If $\\rho$ is a *convex combination* of uncorrelated operators:\n",
    "<br>\n",
    "\n",
    "$$\n",
    "\\rho = \\sum_a p_a \\, \\rho^a_{A} \\otimes \\rho^a_{B}\n",
    "$$\n",
    "with $p_a \\in [0,1]$ and $\\sum_a p_a = 1$.\n",
    "<br>\n"
   ]
  },
  {
   "cell_type": "markdown",
   "id": "24e5fdcf",
   "metadata": {
    "slideshow": {
     "slide_type": "fragment"
    }
   },
   "source": [
    "In this case, the state $\\rho$ contains only *classical correlations* between systems $A$ and $B$:\n",
    "<br>\n",
    "\n",
    "$$\n",
    "\\tr \\big((O_A \\otimes O_B)\\rho\\big) ~=~ \\sum_a p_a\\, \\tr_A(O^a_A \\rho_A)\\, \\tr_B(O^a_B \\rho_B)\n",
    "$$\n"
   ]
  },
  {
   "cell_type": "markdown",
   "id": "7f73b1d6",
   "metadata": {
    "slideshow": {
     "slide_type": "skip"
    }
   },
   "source": [
    "It can be shown that all separable states can be prepared from uncorrelated states using LOCC (Local Operations and Classical Communication).\n"
   ]
  },
  {
   "cell_type": "markdown",
   "id": "91660625",
   "metadata": {
    "slideshow": {
     "slide_type": "slide"
    }
   },
   "source": [
    "### Entangled States:\n",
    "\n",
    "In any other case,\n",
    "\n",
    "$$\n",
    "\\rho \\neq \\sum_a p_a \\, \\rho^a_{A} \\otimes \\rho^a_{B}\n",
    "$$\n",
    "<br>\n",
    "In this general case, there are both <b>classical</b> and <b>quantum</b> correlations between the degrees of freedom of $A$ and $B$.\n"
   ]
  },
  {
   "cell_type": "markdown",
   "id": "6956cc33",
   "metadata": {
    "slideshow": {
     "slide_type": "skip"
    }
   },
   "source": [
    "<a id='ent_monot'></a>\n",
    "\n",
    "# Entanglement monotones\n"
   ]
  },
  {
   "cell_type": "markdown",
   "id": "00f56f9d",
   "metadata": {
    "slideshow": {
     "slide_type": "skip"
    }
   },
   "source": [
    "## Concurrence of pure states"
   ]
  },
  {
   "cell_type": "markdown",
   "id": "316e7a51",
   "metadata": {
    "slideshow": {
     "slide_type": "skip"
    }
   },
   "source": [
    "We saw the concurrence of a 2 qubit system $A$ and $B$\n",
    "$$\n",
    "\\ket{\\psi} = \\sum_{i,j = 0}^1 a_{ij} \\ket{i}\\ket{j}\n",
    "$$\n",
    "as the value of \n",
    "$$\n",
    "\\conc = 2\\,  |\\hbox{det}\\, a_{ij}|\n",
    "$$\n",
    "which was bounded between $0\\geq \\conc \\leq 1$."
   ]
  },
  {
   "cell_type": "markdown",
   "id": "8c879c09",
   "metadata": {
    "slideshow": {
     "slide_type": "skip"
    }
   },
   "source": [
    "We can give a more general expressión that will be valid for the case where $A$ is a qubit system but $B$ is more general. In this case, let \n",
    "$$\n",
    "\\ket{\\psi} = \\sum_{i = 0}^1\\sum_{j=0}^{d_B-1} a_{ij} \\ket{i}_A\\ket{j}_B\n",
    "$$\n",
    "be a pure state of system $AB$. \n",
    "and the associated density matrix $\\rho = \\ketbra{\\psi}{\\psi}$.  \n",
    "\n",
    "\n",
    "<div class=\"alert alert-block alert-info\",text-align:center>\n",
    "<p style=\"text-align: left ;color: navy;\">  \n",
    "<b> Theorem</b>: <i>(Concurrence of a pure state partition)</i>\n",
    "<br>\n",
    "<br>    \n",
    "The concurrence of $\\ket{\\psi}$ is given by the following expression\n",
    "$$\n",
    "\\conc = \\sqrt{2(1-\\Tr \\rho_A^2)}\n",
    "$$\n",
    "where $\\rho_A = \\Tr_B \\ketbra{\\psi}{\\psi} =  \\Tr_A \\ketbra{\\psi}{\\psi} = \\rho_B$\n",
    "</div>\n"
   ]
  },
  {
   "cell_type": "markdown",
   "id": "f89ada76",
   "metadata": {
    "slideshow": {
     "slide_type": "skip"
    }
   },
   "source": [
    "Notice that this formula links the entanglement of $\\ket{psi}$ with the purity of the partial traced density matrix. "
   ]
  },
  {
   "cell_type": "markdown",
   "id": "2241b9f6",
   "metadata": {
    "slideshow": {
     "slide_type": "skip"
    }
   },
   "source": [
    "We can give an alternative expression a follows\n",
    "\n",
    "$$\n",
    "\\conc = 2 |\\det \\rho_A|\n",
    "$$\n",
    "\n",
    "This follows easily from the fact that\n",
    "$$\n",
    "\\Tr \\rho_A^2 = \\rho_{00}^2 \\rho_{11}^2 - 2 |\\rho_01|^2  =  (\\rho_{00}+\\rho_{11})^2- 2\\rho_{00} \\rho_{11} - 2 |\\rho_{01}|^2  = 1 - 2\\det \\rho_A\n",
    "$$\n"
   ]
  },
  {
   "cell_type": "markdown",
   "id": "526ec0a7",
   "metadata": {
    "slideshow": {
     "slide_type": "skip"
    }
   },
   "source": [
    "## Entanglement sharing\n",
    "\n",
    "We have seen the monogamy of entanglemente in a previous lecture. Let us put it in a broader context. \n",
    "\n",
    "The general case was addressed by Vern Coffman, Debashis Kundu, and William K. Wootters in their paper *Distributed  Entanglement*, https://arxiv.org/abs/quant-ph/9907047"
   ]
  },
  {
   "cell_type": "markdown",
   "id": "c657d2c5",
   "metadata": {
    "slideshow": {
     "slide_type": "skip"
    }
   },
   "source": [
    "\n",
    "Consider a state of three qubits $A, B$ and $C$\n",
    "$$\n",
    "\\ket{\\psi} = \\sum_{ijk} a_{ijk}\\ket{ijk}\n",
    "$$\n",
    "\n",
    "\n",
    "$$\n",
    "\\conc_{AB} + \\conc_{AC} \\leq \\conc_{A~BC}\n",
    "$$\n",
    "\n",
    "In this expression, $\\conc_{AB}$ is the concurrence associated oto $\\rho_{AB} = \\Tr_C \\rho_{ABC}$. From here\n",
    "<br>\n",
    "\n",
    "$$\n",
    "\\conc_{AB} = \\sqrt{2(1-\\Tr_B \\rho_{AB})}\n",
    "$$\n",
    "<br>\n",
    "The same applies to $\\conc_{AC}$. \n",
    "Finally $\\conc_{A~BC}$ is the concurrence between $A$ and the combined system $BC$\n",
    "\n",
    "$$\n",
    "\\conc_{A~BC}= \\sqrt{2(1-\\Tr_{BC}(\\rho_{ABC})}\n",
    "$$"
   ]
  },
  {
   "cell_type": "markdown",
   "id": "4c800830",
   "metadata": {
    "slideshow": {
     "slide_type": "skip"
    }
   },
   "source": [
    "<div class=\"alert alert-block alert-info\",text-align:center>\n",
    "<p style=\"text-align: left ;color: navy;\">  \n",
    "<b> Theorem</b>: <i>(CKW inequality)</i>\n",
    "<br>\n",
    "<br>    \n",
    "Let $\\ket{\\psi}$ be a state of $N$ qubits $\\ket{\\psi} = \\sum_{i_1...i_N} a_{i_1...i_N} \\ket{i_1...i_N}$\n",
    "The $CKW$ inequality states that  \n",
    "<br>\n",
    "<br>    \n",
    "$$\n",
    "\\sum_i \\conc_{1i} \\leq \\conc_{1~2...N}\n",
    "$$\n",
    "</div>\n"
   ]
  },
  {
   "cell_type": "markdown",
   "id": "131b782b",
   "metadata": {
    "slideshow": {
     "slide_type": "skip"
    }
   },
   "source": [
    "<div class=\"alert alert-block alert-success\">\n",
    "<b>Exercise:</b> \n",
    "Check the CKW inequality for the case of the $GHZ$ state. \n",
    "</div>"
   ]
  }
 ],
 "metadata": {
  "celltoolbar": "Slideshow",
  "kernelspec": {
   "display_name": "Python 3 (ipykernel)",
   "language": "python",
   "name": "python3"
  },
  "language_info": {
   "codemirror_mode": {
    "name": "ipython",
    "version": 3
   },
   "file_extension": ".py",
   "mimetype": "text/x-python",
   "name": "python",
   "nbconvert_exporter": "python",
   "pygments_lexer": "ipython3",
   "version": "3.12.3"
  },
  "nbTranslate": {
   "displayLangs": [
    "*"
   ],
   "hotkey": "alt-t",
   "langInMainMenu": true,
   "sourceLang": "en",
   "targetLang": "fr",
   "useGoogleTranslate": true
  },
  "toc": {
   "base_numbering": 1,
   "nav_menu": {},
   "number_sections": true,
   "sideBar": true,
   "skip_h1_title": false,
   "title_cell": "Table of Contents",
   "title_sidebar": "Contents",
   "toc_cell": false,
   "toc_position": {},
   "toc_section_display": true,
   "toc_window_display": false
  },
  "varInspector": {
   "cols": {
    "lenName": 16,
    "lenType": 16,
    "lenVar": 40
   },
   "kernels_config": {
    "python": {
     "delete_cmd_postfix": "",
     "delete_cmd_prefix": "del ",
     "library": "var_list.py",
     "varRefreshCmd": "print(var_dic_list())"
    },
    "r": {
     "delete_cmd_postfix": ") ",
     "delete_cmd_prefix": "rm(",
     "library": "var_list.r",
     "varRefreshCmd": "cat(var_dic_list()) "
    }
   },
   "types_to_exclude": [
    "module",
    "function",
    "builtin_function_or_method",
    "instance",
    "_Feature"
   ],
   "window_display": false
  }
 },
 "nbformat": 4,
 "nbformat_minor": 5
}
