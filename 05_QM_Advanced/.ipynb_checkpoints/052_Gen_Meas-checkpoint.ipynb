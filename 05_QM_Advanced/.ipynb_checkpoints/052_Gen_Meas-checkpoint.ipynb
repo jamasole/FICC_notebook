{
 "cells": [
  {
   "cell_type": "markdown",
   "id": "3710bfdb",
   "metadata": {
    "slideshow": {
     "slide_type": "slide"
    }
   },
   "source": [
    "<img src=\"../figures/logos/logo_usc.jpg\" align=right width='80px'/>\n",
    "<br>\n",
    "\n",
    "<table width=\"100%\">\n",
    "<td style=\"font-size:40px;font-style:italic;text-align:left;background-color:rgba(0, 220, 170,0.7)\">\n",
    "Generalized Measures\n",
    "</td></table>\n",
    "\n",
    "\n",
    "\n",
    "$ \\newcommand{\\bra}[1]{\\langle #1|} $\n",
    "$ \\newcommand{\\ket}[1]{|#1\\rangle} $\n",
    "$ \\newcommand{\\braket}[2]{\\langle #1|#2\\rangle} $\n",
    "$ \\newcommand{\\ketbra}[2]{| #1\\rangle \\langle #2|} $\n",
    "$ \\newcommand{\\tr}{{\\rm Tr}\\,} $\n",
    "$ \\newcommand{\\Tr}{{\\rm Tr}\\,} $\n",
    "$ \\newcommand{\\i}{{\\color{blue} i}} $ \n",
    "$ \\newcommand{\\Hil}{{\\cal H}} $\n",
    "$ \\newcommand{\\V}{{\\cal V}} $\n",
    "$ \\newcommand{\\Lin}{\\hbox{Lin}}$\n",
    "$ \\newcommand{\\bn}{{\\bf n}} $\n",
    "$ \\newcommand{\\bsig}{\\boldsymbol{\\sigma}} $\n",
    "$ \\newcommand{\\ketup}{\\ket{\\!\\uparrow}} $\n",
    "$ \\newcommand{\\ketdo}{\\ket{\\!\\downarrow}} $\n",
    "$ \\newcommand{\\braup}{\\bra{\\uparrow\\!}} $\n",
    "$ \\newcommand{\\brado}{\\bra{\\downarrow\\!}} $\n"
   ]
  },
  {
   "cell_type": "code",
   "execution_count": 1,
   "id": "3fde0f3c",
   "metadata": {
    "run_control": {
     "marked": false
    }
   },
   "outputs": [],
   "source": [
    "import sys\n",
    "sys.path.append('../')\n",
    "import macro_tQ as tQ"
   ]
  },
  {
   "cell_type": "markdown",
   "id": "2984f16d",
   "metadata": {
    "slideshow": {
     "slide_type": "slide"
    }
   },
   "source": [
    "<a id=\"med_proy\"></a>\n",
    "<a id='dirac'></a>\n",
    "<table width=\"100%\">\n",
    "    <td style=\"font-size:25px;font-family:Helvetica;text-align:left;background-color:rgba(0,0,900, 0.3);\">\n",
    "<b>Projective Measures</b>\n",
    "</table>   "
   ]
  },
  {
   "cell_type": "markdown",
   "id": "be187a92",
   "metadata": {
    "slideshow": {
     "slide_type": "-"
    }
   },
   "source": [
    "In the measurement axiom, a *somewhat diffuse* relationship is established between <u>a measuring device and an observable operator</u>\n",
    "<br>\n",
    "\n",
    "For example, to a Stern-Gerlach apparatus oriented in the $z$ direction, we associate the operator \n",
    "\n",
    "$$ S_z = \\frac{\\hbar}{2}\\sigma_z  = S_z^\\dagger$$\n",
    "\n",
    "Let's specify a bit more to clarify how this relationship appears. Suppose that: "
   ]
  },
  {
   "cell_type": "markdown",
   "id": "e02be6c7",
   "metadata": {
    "slideshow": {
     "slide_type": "fragment"
    }
   },
   "source": [
    "<br>\n",
    "\n",
    "- we have a macroscopic device that interacts with a quantum system of dimension $N = {\\rm dim }\\Hil$\n",
    "<br>\n",
    "\n",
    "- in each interaction, <u>the device adopts <b>one</b> from <b>a discrete set</b> of possible classical states</u>\n"
   ]
  },
  {
   "cell_type": "markdown",
   "id": "cbf568c1",
   "metadata": {
    "slideshow": {
     "slide_type": "slide"
    }
   },
   "source": [
    "We assume that it is possible to prepare the quantum state repeatedly in <u>the same way</u> and perform measurements.\n",
    "\n",
    "In a first scenario, we will assume the following occurs:\n",
    "\n",
    ">1.- $~$ there is a number $N$ of possible outcomes. We can, therefore, number them $m=1,2,...,N$.\n",
    "<br>\n",
    "\n",
    ">2.- $~$ the outcomes, $m$, obtained by repeating <u>*the first measurement*</u> are random and follow a certain probability distribution $p(m)$.\n",
    "<br>\n",
    "\n",
    ">3.- $~$ if a series of successive <u>identical</u> measurements is performed, the outcome $m$ of the first measurement is repeated <i>identically</i>.\n",
    "<br> \n",
    "<br>\n",
    "That is, $p(m|m) = 1$ and $p(n|m) = 0$ if $n\\neq m$.\n",
    "<br>\n"
   ]
  },
  {
   "cell_type": "markdown",
   "id": "9cc2b617",
   "metadata": {
    "slideshow": {
     "slide_type": "fragment"
    }
   },
   "source": [
    "\n",
    "In this case, we are *in the presence* of a **projective measurement**, or **von Neumann measurement**, and we can reconstruct the associated mathematical formalism.\n"
   ]
  },
  {
   "cell_type": "markdown",
   "id": "2ff047be",
   "metadata": {
    "slideshow": {
     "slide_type": "slide"
    }
   },
   "source": [
    "From the previous observations, <b>we can draw conclusions</b>. Let us denote $\\ket{\\psi}$ as the quantum state associated with the initial preparation. When measuring a result $m$:\n",
    "\n",
    "-   the <b>state</b> has changed $\\ket{\\psi} \\to \\ket{m}$, since the probability distribution is modified <i>in the measurement following that measure</i>.\n",
    "<br>"
   ]
  },
  {
   "cell_type": "markdown",
   "id": "327f9c3c",
   "metadata": {
    "slideshow": {
     "slide_type": "fragment"
    }
   },
   "source": [
    "\n",
    "- the states thus generated <b>are orthogonal</b>. Once $m$ is measured, the probability of finding $n\\neq m$ is zero\n",
    "<br>\n",
    "\n",
    "$$p(n|m) = |\\braket{n}{m}|^2 = \\delta_{mn}$$\n",
    "<br>\n",
    "<br>\n"
   ]
  },
  {
   "cell_type": "markdown",
   "id": "5fcb7d18",
   "metadata": {
    "slideshow": {
     "slide_type": "slide"
    }
   },
   "source": [
    "\n",
    "- there is no trace of the original state $\\ket{\\psi}$ in $\\ket{m}$.\n",
    "<br>\n",
    "The fact that, after the first measurement, the state (the probability distribution) remains unchanged, indicates that the action of the measuring device on the initial state can be described by a <b>projector</b> for each $m$\n",
    "<br>\n",
    "<br>\n",
    "$$\n",
    "\\ket{\\psi} \\stackrel{m}{\\rightarrow} \\ket{m} \\sim P_m\\ket{\\psi} = P_m^2 \\ket{\\psi} = P_m^3\\ket{\\psi} = ...\n",
    "$$\n",
    "<br>\n",
    "The associated projectors are orthogonal\n",
    "<br>\n",
    "<br>\n",
    "$$\n",
    "P_m P_n = \\ket{m}\\braket{m}{n}\\bra{n} = P_m \\delta_{mn}\n",
    "$$\n",
    "\n"
   ]
  },
  {
   "cell_type": "markdown",
   "id": "4616c303",
   "metadata": {
    "slideshow": {
     "slide_type": "fragment"
    }
   },
   "source": [
    "<br>\n",
    "\n",
    "The situation described here is an ideal case of a measure known as *projective measure*. Now\n",
    "we can <u>*encapsulate* all the relevant information using the *spectral decomposition theorem*</u>"
   ]
  },
  {
   "cell_type": "markdown",
   "id": "1ab8210b",
   "metadata": {
    "slideshow": {
     "slide_type": "slide"
    }
   },
   "source": [
    "Indeed, with the *orthogonal projectors* $\\{P_m\\}$ we can always create a *Hermitian operator* if we combine them with *real eigenvalues*.\n",
    "\n",
    "There are infinite devices capable of performing the same measurement. Each will associate a numerical measurement value $\\lambda_m$ to each possible result $m$, depending on the scale with which it is constructed. Then, the operator that contains the information of the measuring device is the *observable*\n",
    "\n",
    "$$\n",
    "A = \\sum_m \\lambda_m P_m\n",
    "$$\n",
    "\n",
    "whose expected value in the final state $\\ket{m}$ reveals the value $\\lambda_m$ of the obtained result\n",
    "<br>\n",
    "<br>\n",
    "\n",
    "$$\n",
    "\\bra{m} A \\ket{m} = \\sum_n \\lambda_n \\bra{m}P_n\\ket{m} = \\sum_n \\lambda_n \\delta_{mn} = \\lambda_m\n",
    "$$"
   ]
  },
  {
   "cell_type": "markdown",
   "id": "39bf3a42",
   "metadata": {
    "slideshow": {
     "slide_type": "slide"
    }
   },
   "source": [
    "<div class=\"alert alert-block alert-danger\">\n",
    "<b>In summary:</b> \n",
    "\n",
    "A projective measure is associated with a set $P_m, m=1,...,N$ of *orthogonal projectors*.\n",
    "<br>\n",
    "<br>    \n",
    "    \n",
    "The <i>observable</i> only serves to encapsulate the previous information.  \n",
    "<br>   \n",
    "    \n",
    "However, projective measures form an ideal limit of the more general measure. \n",
    "\n",
    "<br>\n",
    "    \n",
    "To understand how this is the case, we must generalize the formalism to be able to take real situations into account. \n",
    "\n",
    "</div>"
   ]
  },
  {
   "cell_type": "markdown",
   "id": "f29d5f44",
   "metadata": {
    "slideshow": {
     "slide_type": "slide"
    }
   },
   "source": [
    "## The Real Stern Gerlach Experiment"
   ]
  },
  {
   "cell_type": "markdown",
   "id": "2c527a93",
   "metadata": {
    "slideshow": {
     "slide_type": "-"
    }
   },
   "source": [
    "Let's revisit the case of an electron passing through a Stern-Gerlach apparatus where the magnetic field is aligned in the $z$ direction.\n",
    "\n",
    "Our evolution model indicates that, due to the interaction with the $B_z$ field, the particles\n",
    "\n",
    "- with spin +$\\hbar/2$ will experience an upward deflecting force.\n",
    "<br>\n",
    "<br>\n",
    "- with spin -$\\hbar/2$ will experience a downward deflecting force.\n",
    "\n",
    "Therefore, if upon exiting, the electron is detected on the upper (lower) screen, we say that we have measured a spin component of $+\\hbar/2$ ($-\\hbar/2$).\n"
   ]
  },
  {
   "cell_type": "markdown",
   "id": "e5ba3670",
   "metadata": {
    "slideshow": {
     "slide_type": "slide"
    }
   },
   "source": [
    "\n",
    "\n",
    "In reality, this statement is excessive: the only thing we have the right to assert is that we have measured *on which screen the electron has been detected*\n",
    "\n",
    "\n",
    "Interpreting the Stern-Gerlach as a spin measurer is more delicate and will lead to defining the concept of **generalized measurement**.\n",
    "\n"
   ]
  },
  {
   "cell_type": "markdown",
   "id": "a1542154",
   "metadata": {
    "slideshow": {
     "slide_type": "slide"
    }
   },
   "source": [
    "### Ideal Stern-Gerlach Experiment:\n",
    "\n",
    "\n"
   ]
  },
  {
   "cell_type": "markdown",
   "id": "a4d16946",
   "metadata": {
    "slideshow": {
     "slide_type": "-"
    }
   },
   "source": [
    "\n",
    "<div>\n",
    "<img src=\"./figures/Stern-Gerlach-3.png\" width=\"30*\" style=\"margin:auto\"/>\n",
    "</div>\n"
   ]
  },
  {
   "cell_type": "markdown",
   "id": "a29207c9",
   "metadata": {
    "slideshow": {
     "slide_type": "skip"
    }
   },
   "source": [
    "On the screen behind the magnet, the *orbital wave function*$~~\\Rightarrow ~~\n",
    "\\psi(z) = \\braket{z}{\\psi}$ gives us the probability amplitude of finding the electron at position $z$\n",
    "\n",
    "\n"
   ]
  },
  {
   "cell_type": "markdown",
   "id": "1cf1627d",
   "metadata": {
    "slideshow": {
     "slide_type": "skip"
    }
   },
   "source": [
    "If we are only interested in predicting whether it will impact at $~z>0~$ or at $~z<0~$, we can <b>reduce the problem to a 2-dimensional Hilbert space</b> \n",
    "<br>\n",
    "<br>\n",
    "\n",
    "\\begin{eqnarray}\n",
    "\\ket{\\psi} ~ &=& \\int_{-\\infty}^{+\\infty} dz \\ket{z}\\braket{z}{\\psi} ~= ~  \\int_{-\\infty}^0 dz \\ket{z}\\braket{z}{\\psi} + \\int_0^{+\\infty}dz \\ket{z}\\braket{z}{\\psi} \\\\\n",
    "&=&  \\int_0^{+\\infty}dz\\, \\psi(z) \\ket{z} ~+ ~\\int_{-\\infty}^0 dz\\, \\psi(z)\\ket{z}\n",
    "\\\\ \\rule{0mm}{10mm} &=& \n",
    "a\\ket{+} + b\\ket{-}\n",
    "\\end{eqnarray}"
   ]
  },
  {
   "cell_type": "markdown",
   "id": "a9bd5941",
   "metadata": {
    "slideshow": {
     "slide_type": "skip"
    }
   },
   "source": [
    "with $a^2 + b^2 = 1$\n",
    "$$\n",
    "a^2 = \\int_0^{+\\infty} dz |\\psi(z)|^2  ~~~~~~~~~.~~~~~~~~b^2 = \\int_{-\\infty}^0 dz |\\psi(z)|^2\n",
    "$$\n",
    " and \n",
    "$$\n",
    "\\ket{+} = \\frac{1}{a}\\int_0^{+\\infty}dz\\, \\psi(z) \\ket{z}~~~~~~~.~~~~~~~~\n",
    "\\ket{-} = \\frac{1}{b}\\int_{-\\infty}^0dz\\, \\psi(z) \\ket{z}~~~~~~~.~~~~~~~~\n",
    "$$\n",
    "<br>\n",
    "\n",
    "clearly $~\\braket{+}{+} = \\braket{-}{-} = 1~$ and $~\\braket{+}{-} = 0~$."
   ]
  },
  {
   "cell_type": "markdown",
   "id": "d95395f6",
   "metadata": {
    "slideshow": {
     "slide_type": "slide"
    }
   },
   "source": [
    "- The states $\\ket{+}$ are associated with detection at any point with $~z>0~$ and, to this event, we assign the value +1.\n",
    "<br>\n",
    "<br>\n",
    "- The states $\\ket{-}$ are associated with detection at any point with $~z<0~$ and, to this event, we assign the value -1.\n",
    "\n",
    "This makes $\\ket{\\pm}$ eigenstates of the observable $Z$.\n"
   ]
  },
  {
   "cell_type": "markdown",
   "id": "8d13ba74",
   "metadata": {
    "slideshow": {
     "slide_type": "slide"
    }
   },
   "source": [
    "\n",
    "Let's study how the matter looks from the point of view of the spin variable.\n",
    "\n",
    "The spin belongs to a 2-dimensional space $\\Hil_S$ in which we can take a basis $\\{ \\ketup,\\ketdo\\}$"
   ]
  },
  {
   "cell_type": "markdown",
   "id": "671a046c",
   "metadata": {
    "slideshow": {
     "slide_type": "fragment"
    }
   },
   "source": [
    "- At the entrance of the detector, there is <u>no correlation</u> between both degrees of freedom.\n",
    "<br>\n",
    "<br>\n",
    "The system is in a certain spin state and symmetrically centered  \n",
    "<br>\n",
    "\\begin{eqnarray}\n",
    "\\ket{\\chi} &=& \\ket{s}\\otimes \\ket{\\psi}  ~= ~ (c_\\uparrow\\ketup + c_\\downarrow \\ketdo)\\otimes  \\frac{1}{\\sqrt{2}}(\\ket{+} + \\ket{-})\n",
    "\\end{eqnarray}\n",
    "<br>\n",
    "where $|c_\\uparrow|^2 + |c_\\downarrow|^2 = 1$."
   ]
  },
  {
   "cell_type": "markdown",
   "id": "6e74e2d4",
   "metadata": {
    "slideshow": {
     "slide_type": "fragment"
    }
   },
   "source": [
    "-   The <b>interaction</b> with the magnetic field induces an evolution that <b>entangles</b> the states $\\ket{\\uparrow}$ with $\\ket{+}$ and $\\ket{\\downarrow}$ with $\\ket{-}$ such that, at the output\n",
    "<br>\n",
    "<br>\n",
    "$$\n",
    "\\ket{\\chi}  ~\\longrightarrow ~ \\ket{\\chi'}~ =~ c_\\uparrow \\ketup\\otimes \\ket{+} ~+~ c_\\downarrow \\ketdo\\otimes \\ket{-}  \n",
    "$$"
   ]
  },
  {
   "cell_type": "markdown",
   "id": "b5adb1cd",
   "metadata": {
    "slideshow": {
     "slide_type": "slide"
    }
   },
   "source": [
    "If the upper or lower detector clicks, then a projective measurement is performed on one of the two orbital states $\\pm 1 \\to \\{\\ket{\\pm}\\}$ \n",
    "\n",
    "Consequently, the <i>spin state</i> collapses to one of the two states of the basis\n",
    "\n",
    "$$\n",
    " (+1)~ : ~\\ket{\\chi'} \\, \\longrightarrow \\,  \\ket{\\uparrow} ~~~~~~~~~~~;~~~~~~~~~~ (-1)~ :~ \\ket{\\chi'} \\, \\longrightarrow \\,  \\ket{\\downarrow}\n",
    "$$"
   ]
  },
  {
   "cell_type": "markdown",
   "id": "af3eeaac",
   "metadata": {
    "slideshow": {
     "slide_type": "fragment"
    }
   },
   "source": [
    "Repetition allows reconstructing the amplitudes of the spin wave function\n",
    "\n",
    "$$\n",
    "p(+1) ~=~ |c_\\uparrow|^2 ~~~~~~~~~;~~~~~~~~~~ p(-1) ~=~ |c_\\downarrow|^2\n",
    "$$"
   ]
  },
  {
   "cell_type": "markdown",
   "id": "823caa36",
   "metadata": {
    "slideshow": {
     "slide_type": "fragment"
    }
   },
   "source": [
    "<div class=\"alert alert-block alert-warning\">\n",
    "<b>In summary:</b> \n",
    "<br>\n",
    "    in an ideal Stern-Gerlach experiment, the <i>projective measurement</i> of the orbital component performed by the spatial detector, <i>is equivalent to a projective measurement of the spin</i> described by the observable\n",
    "\n",
    "$$\n",
    "Z = (+1)\\, \\ketbra{\\!\\uparrow}{\\uparrow\\!}~ +~ (-1)\\, \\ketbra{\\!\\downarrow}{\\downarrow\\!}\n",
    "$$\n",
    "</div>"
   ]
  },
  {
   "cell_type": "markdown",
   "id": "dd75c76b",
   "metadata": {
    "slideshow": {
     "slide_type": "slide"
    }
   },
   "source": [
    "<a id=\"med_gen\"></a>\n",
    "<a id='dirac'></a>\n",
    "<table width=\"100%\">\n",
    "    <td style=\"font-size:25px;font-family:Helvetica;text-align:left;background-color:rgba(0,0,900, 0.3);\">\n",
    "<b>Generalized Measures</b>\n",
    "</table>   "
   ]
  },
  {
   "cell_type": "markdown",
   "id": "9c26ee6b",
   "metadata": {
    "slideshow": {
     "slide_type": "slide"
    }
   },
   "source": [
    "### Real Stern-Gerlach Experiment:\n",
    "\n",
    "In the real Stern-Gerlach experiment, the interaction with the magnetic field generates an imperfect entanglement, with wave functions that do not have support on the half-lines $~z>0~$ or $~z<0~$ (see figure)"
   ]
  },
  {
   "cell_type": "markdown",
   "id": "e89f3980",
   "metadata": {
    "slideshow": {
     "slide_type": "-"
    }
   },
   "source": [
    "<div>\n",
    "<img src=\"./figures/Stern-Gerlach-4.png\" width=\"50*\" style=\"margin:auto\"/>\n",
    "</div>"
   ]
  },
  {
   "cell_type": "markdown",
   "id": "7fb5bf71",
   "metadata": {
    "slideshow": {
     "slide_type": "slide"
    }
   },
   "source": [
    "In this case, the initial state is transformed by the interaction into an entangled state\n",
    "<br>\n",
    "<br>\n",
    "\n",
    "$$\n",
    "\\ket{\\chi}  ~\\longrightarrow ~ \\ket{\\chi'} = c_\\uparrow \\ket{\\uparrow}\\otimes \\left( \\sqrt{1-p_0}\\,\\ket{+} + \\sqrt{p_0}\\,\\ket{-} \\right) + c_\\downarrow \\ket{\\downarrow}\\otimes \\left( \\sqrt{p_1}\\, \\ket{+} + \\sqrt{1-p_1}\\, \\ket{-} \\right)\n",
    "$$\n",
    "<br>\n",
    "\n",
    "Here $~0\\leq p_0, p_1\\leq 1~$ parameterize the vertical deviation of the orbital wave function"
   ]
  },
  {
   "cell_type": "markdown",
   "id": "712609c8",
   "metadata": {
    "slideshow": {
     "slide_type": "fragment"
    }
   },
   "source": [
    "<div class=\"alert alert-block alert-success\">\n",
    "<b>Exercise:</b> \n",
    " verify that $\\|\\ket{\\chi'}\\| = 1$.\n",
    "</div>                               "
   ]
  },
  {
   "cell_type": "markdown",
   "id": "98574b1c",
   "metadata": {
    "slideshow": {
     "slide_type": "slide"
    }
   },
   "source": [
    "If we intend to measure the impact on the vertical semi-axis, it is better to write $\\ket{\\chi'}$ in the form\n",
    "<br>\n",
    "<br>\n",
    "\n",
    "$$\n",
    "\\ket{\\chi'} = \n",
    "\\left(  \\sqrt{1-p_0} c_\\uparrow \\ketup + \\sqrt{p_1} c_\\downarrow \\ketdo\\right) \\otimes \\,\\ket{+} ~+~ \\left( \\sqrt{p_0}\\,c_\\uparrow \\ketup  +  \\sqrt{1-p_1}c_\\downarrow  \\ketdo \\right)\\otimes \\ket{-}\n",
    "$$\n",
    "<br>\n",
    "\n",
    "Again, a measurement consists of a signal coming from the upper position detector $\\ket{+}$ or the lower one $\\ket{-}$\n"
   ]
  },
  {
   "cell_type": "markdown",
   "id": "3f9a8d9f",
   "metadata": {
    "slideshow": {
     "slide_type": "fragment"
    }
   },
   "source": [
    "The probability of detecting $\\ket{+}$ or $\\ket{-}$ is given by the modulus of the vector that multiplies it\n",
    "<br>\n",
    "\n",
    "\\begin{eqnarray} \n",
    "p(+1) &=& (1-p_0)|c_\\uparrow|^2 + p_1 |c_\\downarrow|^2  \\\\\n",
    "\\rule{0mm}{9mm}\n",
    "p(-1) &=& p_0 |c_\\uparrow|^2 + (1-p_1) |c_\\downarrow|^2\n",
    "\\end{eqnarray}\n",
    "\n",
    "<br>"
   ]
  },
  {
   "cell_type": "markdown",
   "id": "b91e77bb",
   "metadata": {
    "slideshow": {
     "slide_type": "slide"
    }
   },
   "source": [
    "**Non-projective measurement of spin**\n",
    "\n",
    "Next, we will describe the experiment as <u>a direct measurement process of spin</u> that affects the spin\n",
    "<br>\n",
    "\n",
    "\\begin{eqnarray}\n",
    "\\ket{s}  ~= ~ (c_\\uparrow\\ketup + c_\\downarrow \\ketdo) ~~\\stackrel{\\rm Stern Gerlach}{\\longrightarrow} ~~\n",
    "\\ket{s'}\n",
    "\\end{eqnarray}\n",
    "<br>\n"
   ]
  },
  {
   "cell_type": "markdown",
   "id": "a5a17987",
   "metadata": {
    "slideshow": {
     "slide_type": "-"
    }
   },
   "source": [
    "Let's introduce the operators\n",
    "<br>\n",
    "<br>\n",
    "\\begin{eqnarray}\n",
    "M_+ &=& \\sqrt{1-p_0} \\, \\ketup\\braup ~+~ \\sqrt{p_1} \\, \\ketdo\\brado \\\\\n",
    "\\rule{0mm}{8mm}\n",
    "M_- &=& \\sqrt{p_0} \\, \\ketup\\braup ~+~ \\sqrt{1-p_1} \\, \\ketdo\\brado \\\\\n",
    "\\end{eqnarray}\n",
    "<br>\n"
   ]
  },
  {
   "cell_type": "markdown",
   "id": "3a16734c",
   "metadata": {
    "slideshow": {
     "slide_type": "fragment"
    }
   },
   "source": [
    "<div class=\"alert alert-block alert-success\">\n",
    "<b>Exercise:</b> \n",
    "<br>\n",
    " verify that $M_m$ are neither projectors nor orthogonal. Prove that they satisfy the following relation\n",
    " <br>\n",
    " <br>   \n",
    " $$\n",
    " M_+^\\dagger M_+ + M_-^\\dagger M_- = I\n",
    " $$\n",
    "</div>  "
   ]
  },
  {
   "cell_type": "markdown",
   "id": "d79f17df",
   "metadata": {
    "slideshow": {
     "slide_type": "slide"
    }
   },
   "source": [
    "Let's see that these probabilities <u>are expressible in terms of</u> $M_\\pm$!\n",
    "<br>\n",
    "<br>\n",
    "\n",
    "\\begin{eqnarray} \n",
    "p(+1) &=& (1-p_0)|c_\\uparrow|^2 + p_1 |c_\\downarrow|^2 = \\bra{s}M_+^\\dagger M_+\\ket{s} \\\\\n",
    "\\rule{0mm}{18mm}\n",
    "p(-1) &=& p_0 |c_\\uparrow|^2 + (1-p_1) |c_\\downarrow|^2=  \\bra{s}M_-^\\dagger M_-\\ket{s} \n",
    "\\end{eqnarray}\n",
    "\n",
    "<br>\n"
   ]
  },
  {
   "cell_type": "markdown",
   "id": "b5023fbc",
   "metadata": {
    "slideshow": {
     "slide_type": "fragment"
    }
   },
   "source": [
    "Regarding the final states, the detection collapses the initial state to a normalized state\n",
    "<br>\n",
    "\n",
    "\\begin{eqnarray}\n",
    "(+1)~:~ \\ket{s} ~&\\stackrel{\\rm Stern Gerlach}{\\longrightarrow}& ~\\ket{s_+} = \\frac{\\sqrt{1-p_0}\\, c_\\uparrow\\ket{\\uparrow} + \\sqrt{p_1}\\, c_\\downarrow\\ket{\\downarrow}) }{\\hbox{Norm}} ~ = ~ \\frac{M_+\\ket{s}}{\\bra{s}M_+^\\dagger M_+\\ket{s}}\\\\\n",
    "\\rule{0mm}{20mm}\n",
    "(-1)~:~ \\ket{s}~&\\stackrel{\\rm Stern Gerlach}{\\longrightarrow} & ~\\ket{s_-} = \\frac{\\sqrt{p_0}\\, c_\\uparrow\\ket{\\uparrow} + \\sqrt{1-p_1}\\, c_\\downarrow\\ket{\\downarrow}) }{\\hbox{Norm}} ~= ~\\frac{M_-\\ket{s}}{\\bra{s}M_-^\\dagger M_-\\ket{s}}  \\\\\n",
    "\\end{eqnarray}"
   ]
  },
  {
   "cell_type": "markdown",
   "id": "cef517c2",
   "metadata": {
    "slideshow": {
     "slide_type": "slide"
    }
   },
   "source": [
    "<div class=\"alert alert-block alert-danger\">\n",
    "<b>In summary:</b> \n",
    "\n",
    "\n",
    "- in a non-ideal experiment, the projective measurement in the orbital space $\\Hil_B$ is equivalent to a non-projective measurement in the spin space $\\Hil_S$. \n",
    "\n",
    "<br>\n",
    "\n",
    "- we see how the projective measurement is recovered as an <i>ideal</i> case where $p_0 = p_1 = 0$. In this case, repeated measurements of the position $p(+1) = |c_\\uparrow|^2$ and $p(-1)=|c_\\downarrow|^2$ allow for a <i>precise identification</i> of the initially prepared spin state $\\ket{s}$.\n",
    "<br> \n",
    "    \n",
    "- at the other extreme $p_0 = p_1 = 1/2$, we have that the state generated by the Stern-Gerlach is factorizable\n",
    "$ \\frac{1}{\\sqrt{2}}\\ket{s}\\otimes (\\ket{+}+\\ket{-})$, and its measurement does not allow for any conclusion about $\\ket{s}$. It is a <i>fuzzy measurement</i>.\n",
    "<br>\n",
    "\n",
    "    \n",
    "- In this sense, a <b>generalized measurement</b> is an <u>imprecise</u> measurement of a degree of freedom.\n",
    "</div>"
   ]
  },
  {
   "cell_type": "markdown",
   "id": "84e551e1",
   "metadata": {
    "slideshow": {
     "slide_type": "slide"
    }
   },
   "source": [
    "## Generalized Selective Measurement on a Pure State\n"
   ]
  },
  {
   "cell_type": "markdown",
   "id": "e1b3424c",
   "metadata": {
    "slideshow": {
     "slide_type": "-"
    }
   },
   "source": [
    "### $\\bullet$  Postulate III-b:    <a id='postul_III_medida'></a>\n",
    "<div class=\"alert alert-block alert-info\">\n",
    "<p style=\"text-align: left ;color: navy;\">    \n",
    "A <i>selective generalized measurement</i> is described by a <i>collection of measurement linear operators</i>  $\\{ M_m \\}$  that satisfy the <i>completeness relation</i>\n",
    "<br>  \n",
    "$$\n",
    "\\sum_{m} M_m^\\dagger M_m = I \\, \n",
    "$$\n",
    "<br>  \n",
    "    With each measurement process, <u>only one result</u> $m$ will be declared. The (normalized) state after detection will be\n",
    "<br>   \n",
    "$$\n",
    "\\ket{\\psi}  \\to  \\frac{M_m\\ket{\\psi}}{\\sqrt{p(m)}}\n",
    "$$\n",
    "<br> \n",
    "The probability of measuring the value $m$ is given by \n",
    "<br>    \n",
    "<br>  \n",
    "$$\n",
    "p(m)  = \\bra{\\psi} M_m^\\dagger M_m \\ket{\\psi}\n",
    "$$\n",
    "<br>   \n",
    "</p>\n",
    "</div>\n",
    "    "
   ]
  },
  {
   "cell_type": "markdown",
   "id": "07a021fc",
   "metadata": {
    "slideshow": {
     "slide_type": "slide"
    }
   },
   "source": [
    "*Note:*  \n",
    "- the completeness relation is essential for the quantities $p(m)$ to have a probability interpretation\n",
    "<br>\n",
    "\n",
    "$$\n",
    "\\sum_m p(m) = \\sum_m \\bra{\\psi}M_m^\\dagger M_m \\ket{\\psi} = \\braket{\\psi}{\\psi} = 1\n",
    "$$\n",
    "\n"
   ]
  },
  {
   "cell_type": "markdown",
   "id": "df884113",
   "metadata": {
    "slideshow": {
     "slide_type": "fragment"
    }
   },
   "source": [
    "- Projective measures are particular cases of generalized measures in which the operators $M_m$ are orthogonal projectors $M_m M_n = M_m \\delta_{mn}$. \n",
    " Therefore, there are $N = {\\rm dim}\\, \\Hil$ possible results.\n",
    "\n",
    "<br>\n",
    "```"
   ]
  },
  {
   "cell_type": "markdown",
   "id": "3e8d097d",
   "metadata": {
    "slideshow": {
     "slide_type": "fragment"
    }
   },
   "source": [
    "\n",
    "-  The projective measurements are associated with a *measurable property* of the system since all traces of the incoming state are erased $\\ket{\\psi} \\to P_m\\ket{\\psi}/|P_m\\ket{\\psi}| = P^2_m\\ket{\\psi}/|P_m\\ket{\\psi}| = ... $ \n",
    "<br>\n"
   ]
  },
  {
   "cell_type": "markdown",
   "id": "f58682fb",
   "metadata": {
    "slideshow": {
     "slide_type": "fragment"
    }
   },
   "source": [
    "\n",
    "- Generalized measurements are not associated with a *measurable property*. The final state depends on the incoming $\\ket{\\psi} \\neq  M_m\\ket{\\psi}/|M_m\\ket{\\psi}| \\neq  M^2_m\\ket{\\psi}/|M^2_m\\ket{\\psi}|\\neq ...$\n"
   ]
  },
  {
   "cell_type": "markdown",
   "id": "5acb9873",
   "metadata": {
    "slideshow": {
     "slide_type": "slide"
    }
   },
   "source": [
    "## Generalized Measures in Mixed States"
   ]
  },
  {
   "cell_type": "markdown",
   "id": "eebf8250",
   "metadata": {
    "slideshow": {
     "slide_type": "-"
    }
   },
   "source": [
    "\n",
    "### Selective Measurement\n",
    "\n",
    "Suppose that, in a system described by the mixed state\n",
    "\n",
    "$$\n",
    "\\rho = \\sum_i p_i \\ket{\\psi_i}\\bra{\\psi_i}\n",
    "$$\n",
    "\n",
    "we act with a series of measurement operators $\\{M_m\\}$.\n",
    "\n",
    "Each time we obtain a result $m$, we record it, with the aim of compiling statistics. This is a *selective measurement*."
   ]
  },
  {
   "cell_type": "markdown",
   "id": "affc6f9c",
   "metadata": {
    "slideshow": {
     "slide_type": "slide"
    }
   },
   "source": [
    "<div class=\"alert alert-block alert-info\">\n",
    "    <p style=\"text-align: left ;color: navy;\">  <b>Theorem:</b> \n",
    "<br>    \n",
    "<br>        \n",
    "The result of a <i>generalized selective measurement</i> $\\{M_m\\}$ on a state $\\rho$ can yield a result $m$ with probability\n",
    "<br>\n",
    "<br>    \n",
    "$$\n",
    "p(m) = \\tr\\left(M_m^\\dagger M_m \\rho\\right)\n",
    "$$\n",
    "<br>    \n",
    "After detecting this result, the system collapses to a new state\n",
    "<br>\n",
    "<br>    \n",
    "$$\n",
    "\\rho_m =  \\frac{M_m  \\rho M_m^\\dagger}{p_m} \n",
    "$$\n",
    "<br>   \n",
    "</p>\n",
    "</div>     \n",
    "\n",
    "    "
   ]
  },
  {
   "cell_type": "markdown",
   "id": "83e57625",
   "metadata": {
    "slideshow": {
     "slide_type": "slide"
    }
   },
   "source": [
    "*Proof:*\n",
    "\n",
    "Let $\\rho = \\sum_i p_i \\ketbra{\\psi_i}{\\psi_i}$ be the state that enters the detector.\n",
    "\n",
    "The *probability* of obtaining the result $m$ *conditioned* on the state being measured is $\\ket{\\psi_i}$ is\n",
    "\n",
    "\n",
    "$$\n",
    "p(m|i) = \\bra{\\psi_i}M^\\dagger_m M_m \\ket{\\psi_i}\n",
    "$$"
   ]
  },
  {
   "cell_type": "markdown",
   "id": "da5da0c5",
   "metadata": {
    "slideshow": {
     "slide_type": "fragment"
    }
   },
   "source": [
    "Now we can calculate the total probability of obtaining the value $m$ when measuring over the ensemble\n",
    "\n",
    "\\begin{eqnarray}\n",
    "p_m &=& \\sum_i p(m|i) p_i = \\sum_{i=1}^r \\bra{\\psi_i}M^\\dagger_m M_m \\ket{\\psi_i} p_i \\\\\n",
    "&=& \\tr \\left( M_m^\\dagger M \\sum_{i=1}^r p_i \\ketbra{\\psi_i}{\\psi_i} \\right) \\\\  \\rule{0mm}{7mm}\n",
    "&=& \\tr \\left( M_m^\\dagger M_m \\rho \\right) \\\\   \\rule{0mm}{8mm}\n",
    "\\end{eqnarray}"
   ]
  },
  {
   "cell_type": "markdown",
   "id": "a25b6cd6",
   "metadata": {
    "slideshow": {
     "slide_type": "slide"
    }
   },
   "source": [
    "Let's see how the state transforms. \n",
    "Suppose the measurement yields the value $m$. This result can come from <u>any member of the ensemble</u> \n",
    "\n",
    "$$\n",
    "\\ket{\\psi_i} ~\\to ~  \\ket{\\psi_i^m} = \\frac{M_m\\ket{\\psi_i}}{\\sqrt{p(m|i)}}\n",
    "$$"
   ]
  },
  {
   "cell_type": "markdown",
   "id": "62a38c6f",
   "metadata": {
    "slideshow": {
     "slide_type": "fragment"
    }
   },
   "source": [
    "with a conditional probability $p(i|m)$ of $-$knowing that the result is $m-$ it was $\\ket{\\psi_i}$ the state that entered the detector."
   ]
  },
  {
   "cell_type": "markdown",
   "id": "6128bd8c",
   "metadata": {
    "slideshow": {
     "slide_type": "fragment"
    }
   },
   "source": [
    "In conclusion, a measure $m$ modifies the ensemble in the form\n",
    "\n",
    "$$\n",
    "\\{\\, \\ket{\\psi_i},p_i \\, \\} ~~~\\to ~~~ \\{\\, \\ket{\\psi^m_i},p(i|m)\\, \\}\n",
    "$$"
   ]
  },
  {
   "cell_type": "markdown",
   "id": "e35ce0b7",
   "metadata": {
    "slideshow": {
     "slide_type": "fragment"
    }
   },
   "source": [
    "The conditional probabilities $~p(m|i)~$ and $~p(i|m)~$ are related by **Bayes' rule**\n",
    "\n",
    "$$\n",
    "p(m|i)p_i  = p(m,i) = p(i,m) = p(i|m) p_m\n",
    "$$\n",
    "that is\n",
    "\n",
    "$$\n",
    "\\frac{p(m|i)}{p(i|m)} = \\frac{p_i}{p_m}\n",
    "$$\n"
   ]
  },
  {
   "cell_type": "markdown",
   "id": "8ff0cd49",
   "metadata": {
    "slideshow": {
     "slide_type": "slide"
    }
   },
   "source": [
    "*In summary*:\n",
    "after a selective measurement in which we *observe* the result $m$, the description of the system will be given by a new density operator\n",
    "<br>\n",
    "\n",
    "\\begin{eqnarray}\n",
    " \\rho_m &=& \\sum_i p(i|m) \\,\\ketbra{\\psi_i^m}{\\psi_i^m} \\\\\n",
    "&=&\\sum_i p(i|m) \\frac{M_m\\ketbra{\\psi_i}{\\psi_i}M_m^\\dagger}{p(m|i)}  \\\\\n",
    "&=&  \\sum_i \\frac{p_i}{p_m} M_m\\ketbra{\\psi_i}{\\psi_i}M_m^\\dagger  = \\frac{1}{p_m}M_m\\left(\\sum_i p_i \\ketbra{\\psi_i}{\\psi_i} \\right) M_m^\\dagger\\\\\n",
    "&=& \\frac{M_m  \\rho M_m^\\dagger}{p_m} \n",
    "\\end{eqnarray}\n",
    "\n"
   ]
  },
  {
   "cell_type": "markdown",
   "id": "9278988b",
   "metadata": {
    "slideshow": {
     "slide_type": "slide"
    }
   },
   "source": [
    "### Non-selective Measure"
   ]
  },
  {
   "cell_type": "markdown",
   "id": "a7ca529b",
   "metadata": {
    "slideshow": {
     "slide_type": "-"
    }
   },
   "source": [
    "Suppose that after many selective measurements $m_1,m_2,....$ of a state $\\rho$ we obtain the probabilities $\\{p(m_i)\\sim m_i/\\sum_i m_i\\}$ associated with the measurement results\n",
    "<br>"
   ]
  },
  {
   "cell_type": "markdown",
   "id": "1255c61f",
   "metadata": {
    "slideshow": {
     "slide_type": "fragment"
    }
   },
   "source": [
    "Now we prepare $\\rho$ again and perform a measurement in which we <b>do not record</b> the result. That is, we only know that the system has been measured."
   ]
  },
  {
   "cell_type": "markdown",
   "id": "36cbc6b1",
   "metadata": {
    "slideshow": {
     "slide_type": "fragment"
    }
   },
   "source": [
    "Then the *best description of the system* is a new state $\\rho'$ that is <i> separable</i>\n",
    "\n",
    "\\begin{eqnarray}\n",
    "\\rho' &=& \\sum_m p_m \\rho_m = \\sum_m p_m \\frac{M_m  \\rho M_m^\\dagger}{p_m}  \\\\\n",
    "&=& \\sum_m M_m  \\rho M_m^\\dagger\n",
    "\\end{eqnarray}"
   ]
  },
  {
   "cell_type": "markdown",
   "id": "54812b57",
   "metadata": {
    "slideshow": {
     "slide_type": "slide"
    }
   },
   "source": [
    "<div class=\"alert alert-block alert-warning\",text-align:center>\n",
    "<b>Example:</b>\n",
    "In the EPR experiment, the initial state shared by Alice and Bob is pure \n",
    "    \n",
    "$$\n",
    "\\rho = \\ketbra{B_{11}}{B_{11}} = \\frac{1}{\\sqrt{2}}\\begin{pmatrix}0\\\\1\\\\-1\\\\0\\end{pmatrix}\n",
    "\\frac{1}{\\sqrt{2}}\\begin{pmatrix}0 & 1 & -1&0 \\end{pmatrix} = \\begin{pmatrix} 0&0&0&0 \\\\ 0&\\frac{1}{2}&-\\frac{1}{2}&0 \\\\ 0&-\\frac{1}{2}&\\frac{1}{2}&0 \\\\ 0&0&0&0 \\end{pmatrix}\n",
    "$$\n",
    "    \n",
    "Alice <u>measures</u>, but Bob <u>does not know the result</u>. For him, it is a non-selective measurement where the new shared state will be \n",
    "$$\n",
    "\\rho' ~=~ P_0^A \\rho P_0^A + P_1^A \\rho P_1^A ~=~ \\big(\\ketbra{0}{0} \\otimes I\\big) \\cdot \\rho \\cdot \\big( \\ketbra{0}{0}\\otimes I\\big) + \\big(\\ketbra{1}{1}\\otimes I\\big)\\cdot \\rho\\cdot \\big(\\ketbra{1}{1}\\otimes I\\big)  ~=~ \\begin{pmatrix} 0&0&0&0 \\\\ 0&\\frac{1}{2}&0&0 \\\\ 0&0&\\frac{1}{2}&0 \\\\ 0&0&0&0 \\end{pmatrix}\n",
    "$$\n",
    "<br>\n",
    "\n",
    "We see that the coherences $\\rho_{i\\neq j}$ have been lost and the result is a statistical mixture with purity $\\tr \\rho'^2 = 1/2$.\n",
    "<br> \n",
    "    \n",
    "The measurement probabilities for Bob are controlled by the reduced density matrix $\\rho_B$.\n",
    "    \n",
    "It is relevant to see that these <b>do not depend on what Alice has done</b>\n",
    "<br> \n",
    "    \n",
    "$$\n",
    "\\rho_B = \\tr_A \\rho = \\tr_A \\rho' = \\begin{pmatrix} \\frac{1}{2} &0 \\\\ 0 & \\frac{1}{2} \\end{pmatrix}\n",
    "$$    \n",
    "which is important, because otherwise, we could use it to perform instant communication.\n",
    "    \n",
    "</div>"
   ]
  },
  {
   "cell_type": "markdown",
   "id": "69cfd1eb",
   "metadata": {
    "slideshow": {
     "slide_type": "slide"
    }
   },
   "source": [
    "<a id=\"povms\"></a>\n",
    "<a id='dirac'></a>\n",
    "<table width=\"100%\">\n",
    "    <td style=\"font-size:200%;font-family:Helvetica;text-align:left;background-color:rgba(0,0,900, 0.3);\">\n",
    "<b>POVMs</b>\n",
    "</table>   "
   ]
  },
  {
   "cell_type": "markdown",
   "id": "bbe9d1a7",
   "metadata": {
    "slideshow": {
     "slide_type": "fragment"
    }
   },
   "source": [
    "Starting from a generalized measure defined by operators $\\{M_m\\}$, we can define a set of new operators\n",
    "\n",
    "$$\n",
    "E_m = M_m^\\dagger M_m\n",
    "$$\n",
    "\n",
    "that implement the so-called *Positive Operator-Valued Measures* POVM"
   ]
  },
  {
   "cell_type": "markdown",
   "id": "d55872fe",
   "metadata": {
    "slideshow": {
     "slide_type": "slide"
    }
   },
   "source": [
    "Note that\n",
    "\n",
    "- they are Hermitian operators \n",
    "\n",
    "$$E_m^\\dagger = E_m$$\n",
    "\n",
    "- they are positive operators \n",
    "<br>\n",
    "\n",
    "$$\\bra{\\psi}E_m\\ket{m} = \\bra{\\psi}M_m^\\dagger M_m\\ket{m} = |M_m\\ket{\\psi}|^2 \\geq 0 $$\n",
    "- they satisfy the *completeness relation* \n",
    "\n",
    "$$\\sum_m E_m = I$$"
   ]
  },
  {
   "cell_type": "markdown",
   "id": "91a84df0",
   "metadata": {
    "slideshow": {
     "slide_type": "slide"
    }
   },
   "source": [
    "A POVM is a *less refined* concept than a *generalized operator*. \n",
    "\n",
    "In particular, *it only serves to calculate probabilities of occurrence* of a certain result\n",
    "\n",
    "$$\n",
    "p(m) = \\bra{\\psi} E_m \\ket{\\psi}\n",
    "$$"
   ]
  },
  {
   "cell_type": "markdown",
   "id": "a01556fc",
   "metadata": {
    "slideshow": {
     "slide_type": "fragment"
    }
   },
   "source": [
    "Generically, they are associated with *destructive measures* in which the subsequent state no longer exists."
   ]
  },
  {
   "cell_type": "markdown",
   "id": "d4d7d947",
   "metadata": {
    "slideshow": {
     "slide_type": "skip"
    }
   },
   "source": [
    "The relationship between POVMs and measurement operators is not one-to-one\n",
    ": we can associate infinite measurement operators to a POVM"
   ]
  },
  {
   "cell_type": "markdown",
   "id": "e2c1f701",
   "metadata": {
    "slideshow": {
     "slide_type": "skip"
    }
   },
   "source": [
    "Since $E_m$ are positive operators, it is possible to define their square root $\\sqrt{E_m}$ (using the spectral decomposition).\n",
    "\n",
    "Then, for any unitary $U$, we can define an operator\n",
    "<br>\n",
    "<br>\n",
    "$$\n",
    "M_m = U\\sqrt{E_m}\n",
    "$$\n",
    "\n",
    "which verifies being a measurement operator associated with $E_m$\n",
    "<br>\n",
    "<br>\n",
    "$$\n",
    "M_m^\\dagger M_m = \\sqrt{E_m}U^\\dagger U \\sqrt{E_m} = E_m\n",
    "$$\n"
   ]
  },
  {
   "cell_type": "markdown",
   "id": "c1acec29",
   "metadata": {
    "slideshow": {
     "slide_type": "skip"
    }
   },
   "source": [
    "After a measurement, the state is\n",
    "$$\n",
    "\\ket{\\psi} \\to \\ket{\\psi_m} = \\frac{U\\sqrt{E_m}\\ket{\\psi}}{p(m)}\n",
    "$$"
   ]
  },
  {
   "cell_type": "markdown",
   "id": "cd675239",
   "metadata": {
    "slideshow": {
     "slide_type": "slide"
    }
   },
   "source": [
    "**POVM in the real Stern Gerlach experiment**\n",
    "\n",
    "Recall that, in this non-ideal case, the detector performs the generalized measurements \n",
    "<br>\n",
    "<br>\n",
    "\n",
    "\\begin{eqnarray}\n",
    "M_+ &=& \\sqrt{1-p_0} \\, \\ketup\\braup ~+~ \\sqrt{p_1} \\, \\ketdo\\brado \\\\\n",
    "\\rule{0mm}{14mm}\n",
    "M_- &=& \\sqrt{p_0} \\, \\ketup\\braup ~+~ \\sqrt{1-p_1} \\, \\ketdo\\brado \\\\\n",
    "\\end{eqnarray}\n",
    "<br>\n",
    "\n",
    "associated with the measurements $+1$ and $-1$ in the position detector\n",
    "<br>"
   ]
  },
  {
   "cell_type": "markdown",
   "id": "94092afd",
   "metadata": {
    "slideshow": {
     "slide_type": "slide"
    }
   },
   "source": [
    "The POVMs associated with these measurements are    \n",
    "    \n",
    "\\begin{eqnarray}\n",
    "E_+ = M_+^\\dagger M_+&=& (1-p_0)\\ketbra{\\uparrow}{\\uparrow} + p_1 \\ketbra{\\downarrow}{\\downarrow} \\\\\n",
    "\\rule{0mm}{10mm}\n",
    "E_- = M_-^\\dagger M_-&=& p_0\\ketbra{\\uparrow}{\\uparrow} + (1- p_1) \\ketbra{\\downarrow}{\\downarrow}    \n",
    "\\end{eqnarray}\n",
    "<br>\n",
    "<br>\n",
    "which only serve to reconstruct the probabilities\n",
    "\n",
    "\\begin{eqnarray}\n",
    "p(+1) &=& \\bra{s}E_+ \\ket{s} \\\\ \\rule{0mm}{10mm}\n",
    "p(-1) &=& \\bra{s} E_- \\ket{s}\n",
    "\\end{eqnarray}\n"
   ]
  },
  {
   "cell_type": "markdown",
   "id": "c158273c",
   "metadata": {
    "slideshow": {
     "slide_type": "slide"
    }
   },
   "source": [
    "Each projector would physically correspond to a semi-detector that only has a *detection screen* on the top or bottom respectively. \n"
   ]
  },
  {
   "cell_type": "markdown",
   "id": "22b77fe1",
   "metadata": {
    "slideshow": {
     "slide_type": "-"
    }
   },
   "source": [
    "It is immediate to verify that \n",
    "    \n",
    "$$\n",
    "M_+ = \\sqrt{E_+} ~~~~~,~~~~~~ M_- = \\sqrt{E_-}\n",
    "$$\n",
    "    \n",
    "These measurement operators are part of a family of <i>generalized measurements</i>\n",
    "<br>\n",
    "\n",
    "$$\n",
    "\\tilde M_+ = U_+ \\sqrt{E_+} ~~~~~,~~~~~~ \\tilde M_- = U_- \\sqrt{E_-}\n",
    "$$\n",
    "\n",
    "where $U_+$ and $U_-$ are unitary operators.\n"
   ]
  },
  {
   "cell_type": "markdown",
   "id": "9821c58d",
   "metadata": {
    "slideshow": {
     "slide_type": "slide"
    }
   },
   "source": [
    "#### Example: POVM from non-orthogonal projectors.\n",
    "   \n",
    "We already know that with a collection of orthogonal projectors we can construct an observable via its spectral decomposition\n",
    "\n",
    "This is the case of an *ideal* <i>Stern-Gerlach</i> oriented in the direction $\\hat\\bn$, which performs a projective measurement associated with an observable\n",
    "<br>\n",
    "\n",
    "$$ \\hat\\bn\\cdot \\bsig  =  P_{+\\hat\\bn}-P_{-\\hat\\bn}$$ \n",
    "\n",
    "Since\n",
    "\n",
    "$$\n",
    "I = P_{+\\hat\\bn}+P_{-\\hat\\bn}\n",
    "$$\n",
    "\n",
    "we find  \n",
    "\n",
    "$$P_{\\pm\\hat\\bn} = \\frac{1}{2}\\big( I \\pm \\hat\\bn\\cdot \\bsig \\big) = \\ketbra{\\pm,\\hat\\bn}{\\pm,\\hat\\bn}$$ \n",
    "<br>"
   ]
  },
  {
   "cell_type": "markdown",
   "id": "c7c0040e",
   "metadata": {
    "slideshow": {
     "slide_type": "slide"
    }
   },
   "source": [
    "Now let's consider a <i>collection of $r$ unit vectors </i> $\\{\\hat\\bn_i\\}\\, $, \n",
    "and positive real numbers $c_i\\in [0,1), ~i=1,...,r$ that satisfy the following two conditions\n",
    "\n",
    "$$\n",
    "\\sum_{i=1}^r c_i = 1 ~~~~~~\\hbox{and} ~~~~~~~\\sum_{i=1}^r c_i \\hat\\bn_i = 0\n",
    "$$\n",
    "\n",
    "With each direction, we can associate a projector\n",
    "\n",
    "$$P_{\\hat\\bn_i} =  \\frac{1}{2}\\left( I + \\hat\\bn_i\\cdot \\bsig \\right) = \\ketbra{+,\\hat\\bn_i}{+,\\hat\\bn_i} $$\n",
    "\n",
    "where $i = 1,...,r$"
   ]
  },
  {
   "cell_type": "code",
   "execution_count": 2,
   "id": "c0f3bfeb",
   "metadata": {
    "run_control": {
     "marked": true
    },
    "slideshow": {
     "slide_type": "slide"
    }
   },
   "outputs": [
    {
     "data": {
      "image/png": "[encoded data removed]",
      "text/plain": [
       "<Figure size 800x800 with 1 Axes>"
      ]
     },
     "metadata": {},
     "output_type": "display_data"
    }
   ],
   "source": [
    "# Example, the Mercedes-Benz star\n",
    "import numpy as np\n",
    "\n",
    "c = [1/3,1/3,1/3]\n",
    "n0 = [0,1]\n",
    "n1 = [np.sin(4*np.pi/3),np.cos(4*np.pi/3)]\n",
    "n2 = [np.sin(8*np.pi/3),np.cos(8*np.pi/3)]\n",
    "\n",
    "\n",
    "tQ.plot_2D_plane(left=-1,right=1,up=1,down=-1) #cambiar las dimensiones para que encuadrar la figura\n",
    "tQ.draw_vector(n0[0],n0[1],'b')\n",
    "tQ.draw_vector(n1[0],n1[1],vcolor='r')\n",
    "tQ.draw_vector(n2[0],n2[1],vcolor='g')\n"
   ]
  },
  {
   "cell_type": "markdown",
   "id": "aab501fe",
   "metadata": {
    "slideshow": {
     "slide_type": "slide"
    }
   },
   "source": [
    "With this geometry, it is immediate to verify that the collection of semi-detectors $P_{\\hat\\bn_i}$ allows defining a POVM $\\{E_i\\}$ with\n",
    "$$  E_i = 2 c_i P_{\\hat\\bn_i}$$    \n",
    "Indeed, each $E_i$ is \n",
    "- Hermitian, \n",
    "\n",
    "- has non-negative eigenvalues $\\{2c_i,0\\}$ and verifies that\n",
    "\n",
    "- verifies\n",
    "\n",
    "$$\n",
    "\\sum_{i} E_i = \\sum_i 2 c_i P_i = \\left( \\sum_{i=1}^r c_i I + \\sum_{i=1}^r c_i \\hat\\bn_i \\cdot \\bsig\\right) = I\n",
    "$$\n"
   ]
  },
  {
   "cell_type": "markdown",
   "id": "71e1da8f",
   "metadata": {
    "slideshow": {
     "slide_type": "slide"
    }
   },
   "source": [
    "Note that, in general, the operators $E_i$ are neither projectors nor orthogonal if the vectors $\\hat\\bn_i$ are not. We have\n",
    "<br>\n",
    "<br>\n",
    "\n",
    "$$\n",
    "E_i E_j = 4 c_i c_j \\braket{\\hat\\bn_i}{\\hat\\bn_j}\\ket{\\hat\\bn_i}\\bra{\\hat\\bn_j} \\neq E_i \\delta_{ij}\n",
    "$$\n",
    "\n",
    "<br>\n"
   ]
  },
  {
   "cell_type": "markdown",
   "id": "5b5f61d6",
   "metadata": {
    "slideshow": {
     "slide_type": "slide"
    }
   },
   "source": [
    "### Distinguishability of States"
   ]
  },
  {
   "cell_type": "markdown",
   "id": "536cc928",
   "metadata": {
    "slideshow": {
     "slide_type": "-"
    }
   },
   "source": [
    "Performing the complete *tomography* of a quantum state is an arduous task. \n",
    "\n",
    "It requires conducting many measurements to reconstruct the coefficients in the basis associated with the measuring device.\n",
    "\n",
    "The no-cloning theorem means that we necessarily have to go through the task of preparing the state each time we repeat the measurement. \n",
    "\n",
    "If the state is highly entangled, this task can be very costly."
   ]
  },
  {
   "cell_type": "markdown",
   "id": "a5cdb193",
   "metadata": {
    "slideshow": {
     "slide_type": "slide"
    }
   },
   "source": [
    "A less general problem than *reconstructing* a state is that of **recognizing** a state\n",
    "\n",
    "Suppose we intend to give an answer to the question of whether a system is in a certain state $\\ket{\\psi}$ or not. \n",
    "\n",
    "This question has a YES/NO answer\n",
    "\n",
    "Is there a POVM (adapted to $\\ket{\\psi}$) capable of performing this task?\n",
    "\n",
    "The following theorem demonstrates that *there is not*."
   ]
  },
  {
   "cell_type": "markdown",
   "id": "2ef82fd9",
   "metadata": {
    "slideshow": {
     "slide_type": "slide"
    }
   },
   "source": [
    "<div class=\"alert alert-block alert-info\">\n",
    "<p style=\"text-align: left ;color: navy;\">    \n",
    "    <b> Theorem: </b> it is impossible, with a single measurement, to <i>discern</i> whether a certain quantum object is in a state $\\ket{\\psi}$ or not.\n",
    "<br>"
   ]
  },
  {
   "cell_type": "markdown",
   "id": "fd3a2a34",
   "metadata": {
    "slideshow": {
     "slide_type": "fragment"
    }
   },
   "source": [
    "*Demonstration:*\n",
    "\n",
    "Intuitively, it is evident. A single measurement can correspond to the state $\\ket{\\psi}$, or to any state that has a non-zero projection in its direction.\n",
    "\n",
    "Now we will prove it by reduction to absurd to see how the mathematical machinery works: suppose there exists a POVM, $\\{E_m\\}$, such that a specific measurement $ E_{m_0}$, \n",
    "<br>\n",
    "<br>\n",
    "$\\bullet$ with total certainty <b>does occur</b> when the state is $\\ket{\\psi}$ \n",
    "<br>\n",
    "<br>    \n",
    "$$ p_\\psi( m_0) = \\bra{\\psi}E_{ m_0}\\ket{\\psi} =1 $$\n",
    "<br>\n",
    "$\\bullet$ with total certainty <b>does not occur</b> when the state  is any other $\\ket{\\chi}\\neq \\ket{\\psi}$\n",
    "<br>\n",
    "<br>\n",
    "$$ p_\\chi(m_0) = \\bra{\\chi}E_{m_0}\\ket{\\chi} = 0$$\n"
   ]
  },
  {
   "cell_type": "markdown",
   "id": "6ca17f07",
   "metadata": {
    "slideshow": {
     "slide_type": "slide"
    }
   },
   "source": [
    "We can now make use of a property of POVMs that will be demonstrated separately: for any states $\\ket{\\psi}, \\ket{\\chi}$ the implications hold\n",
    "<br>\n",
    "\n",
    "\\begin{eqnarray}\n",
    "\\bra{\\psi}E_{m}\\ket{\\psi} = 1 ~~~~&\\Longleftrightarrow &~~~~E_{m} \\ket{\\psi} =  \\ket{\\psi} \\\\ \\rule{0mm}{6mm}\n",
    "\\bra{\\chi}E_{m}\\ket{\\chi} = 0 ~~~~&\\Longleftrightarrow &~~~~E_{m} \\ket{\\chi} = 0 \\\\\n",
    "\\end{eqnarray}\n"
   ]
  },
  {
   "cell_type": "markdown",
   "id": "714e6d37",
   "metadata": {
    "slideshow": {
     "slide_type": "fragment"
    }
   },
   "source": [
    "Now we can see that, necessarily, $\\ket{\\psi}$ and $\\ket{\\chi}$ must be orthogonal\n",
    "<br>\n",
    "<br>\n",
    "$$\n",
    "\\braket{\\psi}{\\chi} =  \\big(\\bra{\\psi}E_{m}\\big)  \\ket{\\chi} =  \\bra{\\psi}\\big( E_{m} \\ket{\\chi}\\big) = 0 \n",
    "$$\n",
    "<br>\n",
    "Since $\\ket{\\chi}\\neq \\ket{\\psi} $ is an <u>arbitrary state</u>, the orthogonality condition will not generally be true, which proves the theorem.\n",
    "\n",
    "<br>"
   ]
  },
  {
   "cell_type": "markdown",
   "id": "ede92910",
   "metadata": {
    "slideshow": {
     "slide_type": "skip"
    }
   },
   "source": [
    "<div class=\"alert alert-block alert-success\">\n",
    "<b>Exercise:</b> \n",
    "<br>\n",
    " Show that if $E$ is an element of a POVM, for any normalized state $\\ket{\\phi}$ the following double implication holds\n",
    " \n",
    "$$\n",
    "\\bra{\\phi} E \\ket{\\phi} = \\mu ~~~~\\Longleftrightarrow ~~~E\\ket{\\phi} = \\mu \\ket{\\phi}\n",
    "$$\n",
    " \n",
    "where $\\mu =0,1 $.\n",
    "</div> "
   ]
  },
  {
   "cell_type": "markdown",
   "id": "e5e8e1c5",
   "metadata": {
    "slideshow": {
     "slide_type": "slide"
    }
   },
   "source": [
    "### Distinguishability within a set"
   ]
  },
  {
   "cell_type": "markdown",
   "id": "cb8e08c0",
   "metadata": {
    "slideshow": {
     "slide_type": "-"
    }
   },
   "source": [
    "The previous negative response is due to the *infinite arbitrariness* of $\\ket{\\chi}\\neq \\ket{\\psi}$.\n",
    "\n",
    "Now we are going to restrict the discrimination of $\\ket{\\psi}$ to a set $\\{\\ket{\\psi_a}\\}$ with $a=0,1,2,..,p$\n",
    "of pre-established states.\n",
    "\n",
    "The previous theorem automatically leads to the following corollary."
   ]
  },
  {
   "cell_type": "markdown",
   "id": "5f735743",
   "metadata": {
    "slideshow": {
     "slide_type": "slide"
    }
   },
   "source": [
    "<div class=\"alert alert-block alert-info\">\n",
    "<p style=\"text-align: left ;color: navy;\">    \n",
    "    <b> Corollary: </b> \n",
    "<br> it is only possible to distinguish <i>unequivocally</i> a state out of a discrete set of states $\\{\\ket{\\psi_i}\\}\\, i=1,...,p$, if and only if these are <i>mutually orthogonal</i>\n",
    "</div>\n"
   ]
  },
  {
   "cell_type": "markdown",
   "id": "d792b46e",
   "metadata": {
    "slideshow": {
     "slide_type": "slide"
    }
   },
   "source": [
    "- Observe that $p \\leq N = \\hbox{dim}(\\Hil)$. \n",
    "<br>\n",
    "\n"
   ]
  },
  {
   "cell_type": "markdown",
   "id": "755f6412",
   "metadata": {
    "slideshow": {
     "slide_type": "fragment"
    }
   },
   "source": [
    "- In this case, there exists a set of projective measurements that allow for the discrimination of an element $\\ket{\\psi_i}$ from the others with a single measurement. \n",
    "\n",
    "With the $p$ orthonormal vectors, we define projectors\n",
    "\n",
    "\n",
    "\\begin{eqnarray}\n",
    "P_i &=& \\ketbra{\\psi_i}{\\psi_i} ~~~~~~~~~~~~~i=1,2,..,p \\\\\n",
    "\\rule{0mm}{5mm} \n",
    "P_0 &=&I-\\sum_{i=1}^p \\ketbra{\\psi_i}{\\psi_i}\n",
    "\\end{eqnarray}\n",
    "\n"
   ]
  },
  {
   "cell_type": "markdown",
   "id": "956f6551",
   "metadata": {
    "slideshow": {
     "slide_type": "slide"
    }
   },
   "source": [
    "In fact, they are Hermitian and orthogonal $P_iP_j = P_j \\delta_{ij}$. Additionally, they also satisfy the completeness relation \n",
    "$$\n",
    "\\sum_{i=0}^p  P_i =  I \n",
    "$$\n",
    "therefore defining a von Neumann measurement.\n"
   ]
  },
  {
   "cell_type": "markdown",
   "id": "f6b65683",
   "metadata": {
    "slideshow": {
     "slide_type": "fragment"
    }
   },
   "source": [
    "If Bob receives a state $\\ket{\\psi_j}$, then the measurement probability associated with the operator $M_i$ will be\n",
    "\n",
    "$$\n",
    "p(i) = \\bra{\\psi_j}P_i \\ket{\\psi_j} = \\delta_{ij}\n",
    "$$\n",
    "\n",
    "that is, $p(j) = 1 $ if $i=j$ and $p(i) = 0$ if $i\\neq j$. "
   ]
  },
  {
   "cell_type": "markdown",
   "id": "54f44f68",
   "metadata": {
    "slideshow": {
     "slide_type": "fragment"
    }
   },
   "source": [
    "In this way, it is possible to <b>reliably distinguish</b> the state received with a single measurement of the $p+1$ detectors."
   ]
  },
  {
   "cell_type": "markdown",
   "id": "99576f13",
   "metadata": {
    "slideshow": {
     "slide_type": "slide"
    }
   },
   "source": [
    "#### Non-orthogonal states"
   ]
  },
  {
   "cell_type": "markdown",
   "id": "4ceab642",
   "metadata": {
    "slideshow": {
     "slide_type": "-"
    }
   },
   "source": [
    "When the set of states we want to discriminate is not orthogonal, the use of POVMs is *more advantageous* than that of projective measurements."
   ]
  },
  {
   "cell_type": "markdown",
   "id": "1b3b7cf6",
   "metadata": {
    "slideshow": {
     "slide_type": "fragment"
    }
   },
   "source": [
    "Suppose Bob receives a quantum object that has been prepared by Alice in the state \n",
    "\n",
    "$$\n",
    "\\rho = \\frac{1}{2}\\ketbra{1}{1} + \\frac{1}{2}\\ketbra{2}{2}\n",
    "$$\n",
    "\n",
    "where the states are *non-orthogonal* $\\braket{1}{2}\\neq 0$. \n",
    "\n",
    "Bob designs a POVM $\\{E_m\\}$ optimized to meet the following rules of the game"
   ]
  },
  {
   "cell_type": "markdown",
   "id": "50b60210",
   "metadata": {
    "slideshow": {
     "slide_type": "fragment"
    }
   },
   "source": [
    "- after the measurement we can <b>not make</b> any statement or <b>do so</b>\n",
    "\n",
    "- if we make a statement, it must be true with <b>total certainty</b>: it is $\\ket{1}$ or it is $\\ket{2}$."
   ]
  },
  {
   "cell_type": "markdown",
   "id": "c0fa1ed4",
   "metadata": {
    "slideshow": {
     "slide_type": "slide"
    }
   },
   "source": [
    "Therefore, there are *three possible responses*, and, consistently, the POVM is composed of *three operators* $\\{ E_1, E_2, E_3\\}$ constructed in such a way that\n",
    "\n",
    "- in the state  $\\ket{1} \\Rightarrow E_2$ never occurs $~ \\Rightarrow ~\\bra{1}E_2\\ket{1} = 0$, but $E_1, E_3$ can occur \n",
    "\n",
    "Consequently, if *$E_2$ is detected* $~ ( \\bra{1}E_2\\ket{1} \\neq 0)$ then it cannot be $\\ket{1}$, so *it has to be* $\\ket{2}$.\n",
    "\n",
    "<br>\n",
    "\n",
    "- in the state  $\\ket{2} \\Rightarrow E_1$ never occurs $~\\Rightarrow ~ \\bra{2}E_1\\ket{2} = 0$, but $E_2, E_3$ can occur \n",
    "\n",
    "Consequently, *if $E_1$ is detected* $~(\\bra{1}E_1\\ket{1} \\neq 0)$ then it cannot be $\\ket{2}$, so *it has to be* $\\ket{1}$.\n",
    "\n",
    "<br>\n"
   ]
  },
  {
   "cell_type": "markdown",
   "id": "ed920916",
   "metadata": {
    "slideshow": {
     "slide_type": "slide"
    }
   },
   "source": [
    "Consistently, we have that after performing a measurement\n",
    "\n",
    "- If $E_1$ is detected, it is an unequivocal sign that the state was $\\ket{1}$\n",
    "<br>\n",
    "- If $E_2$ is detected, it is an unequivocal sign that the state was $\\ket{2}$\n",
    "<br>\n",
    "\n",
    "- If $E_3$ is detected, nothing can be asserted"
   ]
  },
  {
   "cell_type": "markdown",
   "id": "f9e359ed",
   "metadata": {
    "slideshow": {
     "slide_type": "slide"
    }
   },
   "source": [
    "We can give a more explicit form of these operators\n",
    "\n",
    "\n",
    "\\begin{eqnarray} \\rule{0mm}{10mm}\n",
    "E_1 &=& a_1 \\left( \\rule{0mm}{4mm}I- \\ket{2}\\bra{2} \\right) \\\\\n",
    "\\rule{0mm}{10mm}\n",
    "E_2 &=& a_2 \\left( \\rule{0mm}{4mm} I-\\ket{1}\\bra{1} \\right)  \\\\\n",
    "\\rule{0mm}{10mm}\n",
    "E_3 &=& I - E_1 - E_2\n",
    "\\end{eqnarray}"
   ]
  },
  {
   "cell_type": "markdown",
   "id": "1bd57c2f",
   "metadata": {
    "slideshow": {
     "slide_type": "slide"
    }
   },
   "source": [
    "The constants $a_1$ and $a_2$ can be optimized so that the probability of the options $E_1$ and $E_2$ that allow a conclusion to be drawn is maximized\n",
    "\n",
    "\n",
    "\\begin{eqnarray}\n",
    "p &=& \\tr((E_1 + E_2)\\rho)   \\nonumber \\\\  \\rule{0mm}{8mm}\n",
    "&=& \\tr\\left[(E_1+E_2) \\left(\\frac{1}{2}\\ket{1}\\bra{1} + \\frac{1}{2}\\ket{2}\\bra{2}\\right) \\right] \\nonumber\\\\\n",
    "&=& \\frac{1}{2}\\left(\\bra{1}E_1\\ket{1} + \\bra{2}E_1\\ket{2} + \\bra{1}E_2\\ket{1}  + \\bra{2}E_2\\ket{2}\\right)  \\nonumber\\\\ \\rule{0mm}{8mm}\n",
    "&=& \\frac{1}{2}(a_1+a_2) (1 - |\\braket{1}{2}|^2) \n",
    "\\end{eqnarray}\n"
   ]
  },
  {
   "cell_type": "markdown",
   "id": "c93446d9",
   "metadata": {
    "slideshow": {
     "slide_type": "slide"
    }
   },
   "source": [
    "In https://arxiv.org/abs/quant-ph/9604014 it is shown that, to maximize $p$, while maintaining the positivity of $E_3$, we must take\n",
    "\n",
    "$$\n",
    "a_1 = a_2 = \\frac{1}{1+|\\braket{1}{2}|} ~~~~~~~\\Rightarrow ~~~~~~~ p = 1 - |\\braket{1}{2}|\n",
    "$$\n"
   ]
  },
  {
   "cell_type": "markdown",
   "id": "2d358d26",
   "metadata": {
    "slideshow": {
     "slide_type": "fragment"
    }
   },
   "source": [
    "The possibility of asserting something as a result of a measurement becomes smaller as the states become more similar to each other.\n",
    "\n",
    "For orthogonal states $\\braket{1}{2} = 0$, complete distinguishability is achieved $p_{max} = 1$.\n",
    "\n",
    "Parallel states $\\braket{1}{2} = 1$ are indistinguishable.\n"
   ]
  },
  {
   "cell_type": "markdown",
   "id": "abf6615b",
   "metadata": {
    "slideshow": {
     "slide_type": "skip"
    }
   },
   "source": [
    "<div class=\"alert alert-block alert-success\">\n",
    "<b>Exercise:</b> \n",
    "<br>\n",
    " Show that, in the particular case $a_1=a_2 = a$, the probability $p$ when the measurement is performed on an equiprobable set $\\{\\ket{1},\\frac{1}{2}; \\ket{2},\\frac{1}{2}\\}$, is maximized when \n",
    "$$\n",
    "a_{opt}  = \\frac{1}{1+|\\braket{1}{2}|}~~~~~~ \\hbox{with} ~~~~~~p = 1 - |\\braket{1}{2}|\n",
    "$$\n",
    "</div> "
   ]
  },
  {
   "cell_type": "markdown",
   "id": "6e6df8db",
   "metadata": {
    "slideshow": {
     "slide_type": "slide"
    }
   },
   "source": [
    "<div class=\"alert alert-block alert-success\">\n",
    "<b>Exercise 5.3:</b> \n",
    "Suppose that Alice sends with equal probability $1/2$ the states $ \\ket{a_\\perp} = \\ket{1} ,  \\ket{b_\\perp} =  \\frac{\\sqrt{3}}{2}\\ket{0} + \\frac{1}{2}\\ket{1}\\}$. Write the density operator that Bob uses to describe the statistical mixture. \n",
    "\n",
    "Bob tries to identify correctly which state was actually sent first by using the projective measurement $Z = P_0 + P_1$.\n",
    "Show that only $P_0$ discriminates and that this only occurs with probability 3/8 hence the identification rate is $37.5\\%$.\n",
    "<br>\n",
    "<br>\n",
    "    \n",
    "Then Bob tries to use the triangular POVM with directions $\\{(\\theta_a = 0,\\phi_a = 0)$, $(\\theta_b = 4\\pi/3,\\phi_b = 0)\\}$ and $(\\theta_c = 8\\pi/3,\\phi_c = 0)$. Find the associated Bloch vectors \n",
    "$\\{\\ket{i} = \\ket{\\hat\\bn_i}\\} , ~i=a,b,c$ and build the POVM $\\{ E_i = \\frac{2}{3}\\ket{i}\\bra{i}\\}$.\n",
    "Show that now Bob can discriminate $\\ket{a_\\perp}$ from $\\ket{b_\\perp}$ with up to $50\\%$ certainty.\n",
    "    \n",
    "    \n",
    "</div>"
   ]
  }
 ],
 "metadata": {
  "celltoolbar": "Slideshow",
  "kernelspec": {
   "display_name": "Python 3 (ipykernel)",
   "language": "python",
   "name": "python3"
  },
  "language_info": {
   "codemirror_mode": {
    "name": "ipython",
    "version": 3
   },
   "file_extension": ".py",
   "mimetype": "text/x-python",
   "name": "python",
   "nbconvert_exporter": "python",
   "pygments_lexer": "ipython3",
   "version": "3.12.3"
  },
  "nbTranslate": {
   "displayLangs": [
    "*"
   ],
   "hotkey": "alt-t",
   "langInMainMenu": true,
   "sourceLang": "en",
   "targetLang": "fr",
   "useGoogleTranslate": true
  },
  "toc": {
   "base_numbering": 1,
   "nav_menu": {},
   "number_sections": true,
   "sideBar": true,
   "skip_h1_title": false,
   "title_cell": "Table of Contents",
   "title_sidebar": "Contents",
   "toc_cell": false,
   "toc_position": {},
   "toc_section_display": true,
   "toc_window_display": false
  },
  "varInspector": {
   "cols": {
    "lenName": 16,
    "lenType": 16,
    "lenVar": 40
   },
   "kernels_config": {
    "python": {
     "delete_cmd_postfix": "",
     "delete_cmd_prefix": "del ",
     "library": "var_list.py",
     "varRefreshCmd": "print(var_dic_list())"
    },
    "r": {
     "delete_cmd_postfix": ") ",
     "delete_cmd_prefix": "rm(",
     "library": "var_list.r",
     "varRefreshCmd": "cat(var_dic_list()) "
    }
   },
   "types_to_exclude": [
    "module",
    "function",
    "builtin_function_or_method",
    "instance",
    "_Feature"
   ],
   "window_display": false
  }
 },
 "nbformat": 4,
 "nbformat_minor": 5
}
